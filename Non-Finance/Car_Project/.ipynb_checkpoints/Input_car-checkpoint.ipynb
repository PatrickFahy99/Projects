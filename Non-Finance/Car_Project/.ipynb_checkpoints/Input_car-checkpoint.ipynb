{
 "cells": [
  {
   "cell_type": "code",
   "execution_count": 1,
   "metadata": {},
   "outputs": [
    {
     "name": "stderr",
     "output_type": "stream",
     "text": [
      "/Users/patrickfahy99/opt/anaconda3/lib/python3.7/site-packages/statsmodels/tools/_testing.py:19: FutureWarning: pandas.util.testing is deprecated. Use the functions in the public API at pandas.testing instead.\n",
      "  import pandas.util.testing as tm\n"
     ]
    }
   ],
   "source": [
    "import pandas as pd\n",
    "import numpy as np\n",
    "import seaborn as sns\n",
    "import matplotlib.pyplot as plt"
   ]
  },
  {
   "cell_type": "markdown",
   "metadata": {},
   "source": [
    "### I will create functions to:\n",
    "- take an input and change it to the appriopriate form\n",
    "- run our model on that form\n",
    "- change the output of the model to the actual price"
   ]
  },
  {
   "cell_type": "code",
   "execution_count": 2,
   "metadata": {},
   "outputs": [],
   "source": [
    "def change_input(make, year, typ, miles, litres, bhp, transmission, fuel, owners=2, ULEZ='No', model=''):\n",
    "    \n",
    "    import pandas as pd\n",
    "    \n",
    "    df = pd.DataFrame()\n",
    "    df.at[0,'ULEZ'] = 1 if ULEZ=='Yes' else 0\n",
    "    df.at[0,'2+_Owners'] = 1 if float(owners) > 1 else 0\n",
    "    df.at[0,'1_Owner'] = 1 if float(owners) == 1 else 0\n",
    "    df.at[0,'Make_Audi'] = 1 if make=='Audi' else 0\n",
    "    df.at[0,'Make_Bmw'] = 1 if make=='BMW' else 0\n",
    "    df.at[0,'Make_Citroen'] = 1 if make=='Citroen' else 0\n",
    "    df.at[0,'Make_Fiat'] = 1 if make=='Fiat' else 0\n",
    "    df.at[0,'Make_Ford'] = 1 if make=='Ford' else 0\n",
    "    df.at[0,'Make_Honda'] = 1 if make=='Honda' else 0\n",
    "    df.at[0,'Make_Hyundai'] = 1 if make=='Hyundai' else 0\n",
    "    df.at[0,'Make_Jaguar'] = 1 if make=='Jaguar' else 0\n",
    "    df.at[0,'Make_Kia'] = 1 if make=='Kia' else 0\n",
    "    df.at[0,'Make_Land Rover'] = 1 if make=='Land Rover' else 0\n",
    "    df.at[0,'Make_Mazda'] = 1 if make=='Mazda' else 0\n",
    "    df.at[0,'Make_Mercedes-Benz'] = 1 if make=='Mercedes-Benz' else 0\n",
    "    df.at[0,'Make_Mini'] = 1 if make=='Mini' else 0\n",
    "    df.at[0,'Make_Mitsubishi'] = 1 if make=='Mitsubishi' else 0\n",
    "    df.at[0,'Make_Nissan'] = 1 if make=='Nissan' else 0\n",
    "    df.at[0,'Make_Peugeot'] = 1 if make=='Peugeot' else 0\n",
    "    df.at[0,'Make_Porsche'] = 1 if make=='Porsche' else 0\n",
    "    df.at[0,'Make_Renault'] = 1 if make=='Renault' else 0\n",
    "    df.at[0,'Make_Skoda'] = 1 if make=='Skoda' else 0\n",
    "    df.at[0,'Make_Suzuki'] = 1 if make=='Suzuki' else 0\n",
    "    df.at[0,'Make_Toyota'] = 1 if make=='Toyota' else 0\n",
    "    df.at[0,'Make_Vauxhall'] = 1 if make=='Vauxhall' else 0\n",
    "    df.at[0,'Make_Volkswagen'] = 1 if make=='Volkswagen' else 0\n",
    "    df.at[0,'Make_Volvo'] = 1 if make=='Volvo' else 0\n",
    "    df.at[0,'Type_Convertible'] = 1 if typ=='Convertible' else 0\n",
    "    df.at[0,'Type_Coupe'] = 1 if typ=='Coupe' else 0\n",
    "    df.at[0,'Type_Estate'] = 1 if typ=='Estate' else 0\n",
    "    df.at[0,'Type_Hatchback'] = 1 if typ=='Hatchback' else 0\n",
    "    df.at[0,'Type_Limousine'] = 1 if typ=='Limousine' else 0\n",
    "    df.at[0,'Type_MPV'] = 1 if typ=='MPV' else 0\n",
    "    df.at[0,'Type_Pickup'] = 1 if typ=='Pickup' else 0\n",
    "    df.at[0,'Type_SUV'] = 1 if typ=='SUV' else 0\n",
    "    df.at[0,'Type_Saloon'] = 1 if typ=='Saloon' else 0\n",
    "    df.at[0,'Transmission_Automatic'] = 1 if transmission=='Automatic' else 0\n",
    "    df.at[0,'Transmission_Manual'] = 1 if transmission=='Manual' else 0\n",
    "    df.at[0, 'Fuel_Diesel'] = 1 if fuel=='Diesel' else 0\n",
    "    df.at[0,'Fuel_Hybrid – Diesel/Electric'] = 1 if fuel=='Hybrid – Diesel/Electric' else 0\n",
    "    df.at[0,'Fuel_Hybrid – Diesel/Electric Plug-in'] = 1 if fuel=='Diesel/Electric Plug-in' else 0\n",
    "    df.at[0,'Fuel_Hybrid – Petrol/Electric'] = 1 if fuel=='Hybrid – Petrol/Electric' else 0\n",
    "    df.at[0,'Fuel_Hybrid – Petrol/Electric Plug-in'] = 1 if fuel=='Hybrid – Petrol/Electric Plug-in' else 0\n",
    "    df.at[0,'Fuel_Petrol'] = 1 if fuel=='Petrol' else 0\n",
    "    df.at[0,'mile_sc'] = ((miles**0.5)-216.34810)/89.81989\n",
    "    df.at[0,'age_sc'] = (((2020-year)**0.5)-2.627501)/0.7971458\n",
    "    df.at[0,'lit_sc'] = (np.log(litres)-0.5640639)/0.3129646\n",
    "    df.at[0,'bhp_sc'] = (np.log(bhp)-4.916164)/0.411929\n",
    "    \n",
    "    return df"
   ]
  },
  {
   "cell_type": "code",
   "execution_count": 3,
   "metadata": {},
   "outputs": [],
   "source": [
    "def predict_price(df):\n",
    "    \n",
    "    import pickle\n",
    "    \n",
    "    XGBCar = pickle.load(open('car_model', 'rb'))\n",
    "    pred = XGBCar.predict(df)\n",
    "    \n",
    "    return pred[0]"
   ]
  },
  {
   "cell_type": "code",
   "execution_count": 4,
   "metadata": {},
   "outputs": [],
   "source": [
    "def get_output(pred):\n",
    "    \n",
    "    prediction = (pred * 39.7606 + 98.6601) ** 2\n",
    "    \n",
    "    return prediction"
   ]
  },
  {
   "cell_type": "code",
   "execution_count": 5,
   "metadata": {},
   "outputs": [],
   "source": [
    "def predict(make, year, typ, miles, litres, bhp, transmission, fuel, owners=2, ULEZ='No', model=''):\n",
    "    \n",
    "    df = change_input(make, year, typ, miles, litres, bhp, transmission, fuel, owners=2, ULEZ='No', model='')\n",
    "    pred = predict_price(df)\n",
    "    prediction = get_output(pred)\n",
    "    \n",
    "    return prediction"
   ]
  },
  {
   "cell_type": "code",
   "execution_count": 6,
   "metadata": {},
   "outputs": [
    {
     "data": {
      "text/plain": [
       "7302.706732342781"
      ]
     },
     "execution_count": 6,
     "metadata": {},
     "output_type": "execute_result"
    }
   ],
   "source": [
    "# Example:\n",
    "\n",
    "predict(make='Ford', year=2010, typ='Hatchback', miles=10000, litres=1.2, bhp=150, transmission='Manual',\n",
    "       fuel='Petrol')"
   ]
  }
 ],
 "metadata": {
  "kernelspec": {
   "display_name": "Python 3",
   "language": "python",
   "name": "python3"
  },
  "language_info": {
   "codemirror_mode": {
    "name": "ipython",
    "version": 3
   },
   "file_extension": ".py",
   "mimetype": "text/x-python",
   "name": "python",
   "nbconvert_exporter": "python",
   "pygments_lexer": "ipython3",
   "version": "3.7.4"
  }
 },
 "nbformat": 4,
 "nbformat_minor": 2
}
