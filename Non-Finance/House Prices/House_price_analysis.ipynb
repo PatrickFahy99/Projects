{
 "cells": [
  {
   "cell_type": "code",
   "execution_count": 1,
   "metadata": {},
   "outputs": [
    {
     "name": "stderr",
     "output_type": "stream",
     "text": [
      "/Users/patrickfahy99/opt/anaconda3/lib/python3.7/site-packages/statsmodels/tools/_testing.py:19: FutureWarning: pandas.util.testing is deprecated. Use the functions in the public API at pandas.testing instead.\n",
      "  import pandas.util.testing as tm\n"
     ]
    }
   ],
   "source": [
    "import pandas as pd\n",
    "import seaborn as sns"
   ]
  },
  {
   "cell_type": "code",
   "execution_count": 2,
   "metadata": {},
   "outputs": [],
   "source": [
    "df = pd.read_csv('house_data')"
   ]
  },
  {
   "cell_type": "code",
   "execution_count": 3,
   "metadata": {},
   "outputs": [
    {
     "data": {
      "text/html": [
       "<div>\n",
       "<style scoped>\n",
       "    .dataframe tbody tr th:only-of-type {\n",
       "        vertical-align: middle;\n",
       "    }\n",
       "\n",
       "    .dataframe tbody tr th {\n",
       "        vertical-align: top;\n",
       "    }\n",
       "\n",
       "    .dataframe thead th {\n",
       "        text-align: right;\n",
       "    }\n",
       "</style>\n",
       "<table border=\"1\" class=\"dataframe\">\n",
       "  <thead>\n",
       "    <tr style=\"text-align: right;\">\n",
       "      <th></th>\n",
       "      <th>Unnamed: 0</th>\n",
       "      <th>index</th>\n",
       "      <th>price</th>\n",
       "      <th>type</th>\n",
       "      <th>address</th>\n",
       "      <th>postcode</th>\n",
       "      <th>number_bedrooms</th>\n",
       "    </tr>\n",
       "  </thead>\n",
       "  <tbody>\n",
       "    <tr>\n",
       "      <th>0</th>\n",
       "      <td>0</td>\n",
       "      <td>0</td>\n",
       "      <td>320000.0</td>\n",
       "      <td>2 bedroom detached bungalow for sale</td>\n",
       "      <td>Harmers Hay Road, Hailsham</td>\n",
       "      <td>BN27</td>\n",
       "      <td>2.0</td>\n",
       "    </tr>\n",
       "    <tr>\n",
       "      <th>1</th>\n",
       "      <td>1</td>\n",
       "      <td>3</td>\n",
       "      <td>7500000.0</td>\n",
       "      <td>9 bedroom detached house for sale</td>\n",
       "      <td>Marley Common, Haslemere, Surrey, GU27</td>\n",
       "      <td>GU27</td>\n",
       "      <td>9.0</td>\n",
       "    </tr>\n",
       "    <tr>\n",
       "      <th>2</th>\n",
       "      <td>2</td>\n",
       "      <td>4</td>\n",
       "      <td>6500000.0</td>\n",
       "      <td>10 bedroom detached house for sale</td>\n",
       "      <td>Selham, Petworth, West Sussex, GU28</td>\n",
       "      <td>GU28</td>\n",
       "      <td>10.0</td>\n",
       "    </tr>\n",
       "    <tr>\n",
       "      <th>3</th>\n",
       "      <td>3</td>\n",
       "      <td>5</td>\n",
       "      <td>5950000.0</td>\n",
       "      <td>9 bedroom detached house for sale</td>\n",
       "      <td>Pickwell Lane, Bolney, Haywards Heath, West Su...</td>\n",
       "      <td>RH17</td>\n",
       "      <td>9.0</td>\n",
       "    </tr>\n",
       "    <tr>\n",
       "      <th>4</th>\n",
       "      <td>4</td>\n",
       "      <td>7</td>\n",
       "      <td>5950000.0</td>\n",
       "      <td>9 bedroom detached house for sale</td>\n",
       "      <td>Pickwell Lane, Bolney, Haywards Heath, West Su...</td>\n",
       "      <td>RH17</td>\n",
       "      <td>9.0</td>\n",
       "    </tr>\n",
       "  </tbody>\n",
       "</table>\n",
       "</div>"
      ],
      "text/plain": [
       "   Unnamed: 0  index      price                                  type  \\\n",
       "0           0      0   320000.0  2 bedroom detached bungalow for sale   \n",
       "1           1      3  7500000.0     9 bedroom detached house for sale   \n",
       "2           2      4  6500000.0    10 bedroom detached house for sale   \n",
       "3           3      5  5950000.0     9 bedroom detached house for sale   \n",
       "4           4      7  5950000.0     9 bedroom detached house for sale   \n",
       "\n",
       "                                             address postcode  number_bedrooms  \n",
       "0                         Harmers Hay Road, Hailsham     BN27              2.0  \n",
       "1             Marley Common, Haslemere, Surrey, GU27     GU27              9.0  \n",
       "2                Selham, Petworth, West Sussex, GU28     GU28             10.0  \n",
       "3  Pickwell Lane, Bolney, Haywards Heath, West Su...     RH17              9.0  \n",
       "4  Pickwell Lane, Bolney, Haywards Heath, West Su...     RH17              9.0  "
      ]
     },
     "execution_count": 3,
     "metadata": {},
     "output_type": "execute_result"
    }
   ],
   "source": [
    "df.head()"
   ]
  },
  {
   "cell_type": "code",
   "execution_count": 4,
   "metadata": {},
   "outputs": [],
   "source": [
    "df = df.drop(['Unnamed: 0', 'index'] ,axis = 1)"
   ]
  },
  {
   "cell_type": "code",
   "execution_count": 5,
   "metadata": {},
   "outputs": [],
   "source": [
    "df = df.drop('address', axis=1)"
   ]
  },
  {
   "cell_type": "code",
   "execution_count": 6,
   "metadata": {},
   "outputs": [
    {
     "data": {
      "text/html": [
       "<div>\n",
       "<style scoped>\n",
       "    .dataframe tbody tr th:only-of-type {\n",
       "        vertical-align: middle;\n",
       "    }\n",
       "\n",
       "    .dataframe tbody tr th {\n",
       "        vertical-align: top;\n",
       "    }\n",
       "\n",
       "    .dataframe thead th {\n",
       "        text-align: right;\n",
       "    }\n",
       "</style>\n",
       "<table border=\"1\" class=\"dataframe\">\n",
       "  <thead>\n",
       "    <tr style=\"text-align: right;\">\n",
       "      <th></th>\n",
       "      <th>price</th>\n",
       "      <th>type</th>\n",
       "      <th>postcode</th>\n",
       "      <th>number_bedrooms</th>\n",
       "    </tr>\n",
       "  </thead>\n",
       "  <tbody>\n",
       "    <tr>\n",
       "      <th>0</th>\n",
       "      <td>320000.0</td>\n",
       "      <td>2 bedroom detached bungalow for sale</td>\n",
       "      <td>BN27</td>\n",
       "      <td>2.0</td>\n",
       "    </tr>\n",
       "    <tr>\n",
       "      <th>1</th>\n",
       "      <td>7500000.0</td>\n",
       "      <td>9 bedroom detached house for sale</td>\n",
       "      <td>GU27</td>\n",
       "      <td>9.0</td>\n",
       "    </tr>\n",
       "    <tr>\n",
       "      <th>2</th>\n",
       "      <td>6500000.0</td>\n",
       "      <td>10 bedroom detached house for sale</td>\n",
       "      <td>GU28</td>\n",
       "      <td>10.0</td>\n",
       "    </tr>\n",
       "    <tr>\n",
       "      <th>3</th>\n",
       "      <td>5950000.0</td>\n",
       "      <td>9 bedroom detached house for sale</td>\n",
       "      <td>RH17</td>\n",
       "      <td>9.0</td>\n",
       "    </tr>\n",
       "    <tr>\n",
       "      <th>4</th>\n",
       "      <td>5950000.0</td>\n",
       "      <td>9 bedroom detached house for sale</td>\n",
       "      <td>RH17</td>\n",
       "      <td>9.0</td>\n",
       "    </tr>\n",
       "  </tbody>\n",
       "</table>\n",
       "</div>"
      ],
      "text/plain": [
       "       price                                  type postcode  number_bedrooms\n",
       "0   320000.0  2 bedroom detached bungalow for sale     BN27              2.0\n",
       "1  7500000.0     9 bedroom detached house for sale     GU27              9.0\n",
       "2  6500000.0    10 bedroom detached house for sale     GU28             10.0\n",
       "3  5950000.0     9 bedroom detached house for sale     RH17              9.0\n",
       "4  5950000.0     9 bedroom detached house for sale     RH17              9.0"
      ]
     },
     "execution_count": 6,
     "metadata": {},
     "output_type": "execute_result"
    }
   ],
   "source": [
    "df.head()"
   ]
  },
  {
   "cell_type": "markdown",
   "metadata": {},
   "source": [
    "Now to deal with type. "
   ]
  },
  {
   "cell_type": "code",
   "execution_count": 7,
   "metadata": {},
   "outputs": [
    {
     "name": "stderr",
     "output_type": "stream",
     "text": [
      "/Users/patrickfahy99/opt/anaconda3/lib/python3.7/site-packages/ipykernel_launcher.py:2: SettingWithCopyWarning: \n",
      "A value is trying to be set on a copy of a slice from a DataFrame\n",
      "\n",
      "See the caveats in the documentation: https://pandas.pydata.org/pandas-docs/stable/user_guide/indexing.html#returning-a-view-versus-a-copy\n",
      "  \n"
     ]
    },
    {
     "data": {
      "text/html": [
       "<div>\n",
       "<style scoped>\n",
       "    .dataframe tbody tr th:only-of-type {\n",
       "        vertical-align: middle;\n",
       "    }\n",
       "\n",
       "    .dataframe tbody tr th {\n",
       "        vertical-align: top;\n",
       "    }\n",
       "\n",
       "    .dataframe thead th {\n",
       "        text-align: right;\n",
       "    }\n",
       "</style>\n",
       "<table border=\"1\" class=\"dataframe\">\n",
       "  <thead>\n",
       "    <tr style=\"text-align: right;\">\n",
       "      <th></th>\n",
       "      <th>price</th>\n",
       "      <th>type</th>\n",
       "      <th>postcode</th>\n",
       "      <th>number_bedrooms</th>\n",
       "    </tr>\n",
       "  </thead>\n",
       "  <tbody>\n",
       "    <tr>\n",
       "      <th>0</th>\n",
       "      <td>320000.0</td>\n",
       "      <td>[2, bedroom, detached, bungalow, for, sale]</td>\n",
       "      <td>BN27</td>\n",
       "      <td>2.0</td>\n",
       "    </tr>\n",
       "    <tr>\n",
       "      <th>1</th>\n",
       "      <td>7500000.0</td>\n",
       "      <td>[9, bedroom, detached, house, for, sale]</td>\n",
       "      <td>GU27</td>\n",
       "      <td>9.0</td>\n",
       "    </tr>\n",
       "    <tr>\n",
       "      <th>2</th>\n",
       "      <td>6500000.0</td>\n",
       "      <td>[10, bedroom, detached, house, for, sale]</td>\n",
       "      <td>GU28</td>\n",
       "      <td>10.0</td>\n",
       "    </tr>\n",
       "    <tr>\n",
       "      <th>3</th>\n",
       "      <td>5950000.0</td>\n",
       "      <td>[9, bedroom, detached, house, for, sale]</td>\n",
       "      <td>RH17</td>\n",
       "      <td>9.0</td>\n",
       "    </tr>\n",
       "    <tr>\n",
       "      <th>4</th>\n",
       "      <td>5950000.0</td>\n",
       "      <td>[9, bedroom, detached, house, for, sale]</td>\n",
       "      <td>RH17</td>\n",
       "      <td>9.0</td>\n",
       "    </tr>\n",
       "    <tr>\n",
       "      <th>...</th>\n",
       "      <td>...</td>\n",
       "      <td>...</td>\n",
       "      <td>...</td>\n",
       "      <td>...</td>\n",
       "    </tr>\n",
       "    <tr>\n",
       "      <th>1014</th>\n",
       "      <td>850000.0</td>\n",
       "      <td>[5, bedroom, barn, conversion, for, sale]</td>\n",
       "      <td>PO20</td>\n",
       "      <td>5.0</td>\n",
       "    </tr>\n",
       "    <tr>\n",
       "      <th>1015</th>\n",
       "      <td>850000.0</td>\n",
       "      <td>[3, bedroom, character, property, for, sale]</td>\n",
       "      <td>BN43</td>\n",
       "      <td>3.0</td>\n",
       "    </tr>\n",
       "    <tr>\n",
       "      <th>1016</th>\n",
       "      <td>850000.0</td>\n",
       "      <td>[5, bedroom, detached, bungalow, for, sale]</td>\n",
       "      <td>BN24</td>\n",
       "      <td>5.0</td>\n",
       "    </tr>\n",
       "    <tr>\n",
       "      <th>1017</th>\n",
       "      <td>850000.0</td>\n",
       "      <td>[4, bedroom, house, for, sale]</td>\n",
       "      <td>RH14</td>\n",
       "      <td>4.0</td>\n",
       "    </tr>\n",
       "    <tr>\n",
       "      <th>1018</th>\n",
       "      <td>850000.0</td>\n",
       "      <td>[5, bedroom, detached, house, for, sale]</td>\n",
       "      <td>TN31</td>\n",
       "      <td>5.0</td>\n",
       "    </tr>\n",
       "  </tbody>\n",
       "</table>\n",
       "<p>1019 rows × 4 columns</p>\n",
       "</div>"
      ],
      "text/plain": [
       "          price                                          type postcode  \\\n",
       "0      320000.0   [2, bedroom, detached, bungalow, for, sale]     BN27   \n",
       "1     7500000.0      [9, bedroom, detached, house, for, sale]     GU27   \n",
       "2     6500000.0     [10, bedroom, detached, house, for, sale]     GU28   \n",
       "3     5950000.0      [9, bedroom, detached, house, for, sale]     RH17   \n",
       "4     5950000.0      [9, bedroom, detached, house, for, sale]     RH17   \n",
       "...         ...                                           ...      ...   \n",
       "1014   850000.0     [5, bedroom, barn, conversion, for, sale]     PO20   \n",
       "1015   850000.0  [3, bedroom, character, property, for, sale]     BN43   \n",
       "1016   850000.0   [5, bedroom, detached, bungalow, for, sale]     BN24   \n",
       "1017   850000.0                [4, bedroom, house, for, sale]     RH14   \n",
       "1018   850000.0      [5, bedroom, detached, house, for, sale]     TN31   \n",
       "\n",
       "      number_bedrooms  \n",
       "0                 2.0  \n",
       "1                 9.0  \n",
       "2                10.0  \n",
       "3                 9.0  \n",
       "4                 9.0  \n",
       "...               ...  \n",
       "1014              5.0  \n",
       "1015              3.0  \n",
       "1016              5.0  \n",
       "1017              4.0  \n",
       "1018              5.0  \n",
       "\n",
       "[1019 rows x 4 columns]"
      ]
     },
     "execution_count": 7,
     "metadata": {},
     "output_type": "execute_result"
    }
   ],
   "source": [
    "for i in range(len(df)):\n",
    "        df.type[i] = df.type[i].split()\n",
    "\n",
    "df"
   ]
  },
  {
   "cell_type": "code",
   "execution_count": 8,
   "metadata": {},
   "outputs": [
    {
     "name": "stdout",
     "output_type": "stream",
     "text": [
      "['4', 'bedroom', 'end', 'of', 'terrace', 'house', 'for', 'sale']\n",
      "['5', 'bedroom', 'end', 'of', 'terrace', 'house', 'for', 'sale']\n",
      "['9', 'bedroom', 'block', 'of', 'apartments', 'for', 'sale']\n",
      "['5', 'bedroom', 'link', 'detached', 'house', 'for', 'sale']\n",
      "['6', 'bedroom', 'end', 'of', 'terrace', 'house', 'for', 'sale']\n",
      "['6', 'bedroom', 'block', 'of', 'apartments', 'for', 'sale']\n",
      "['4', 'bedroom', 'end', 'of', 'terrace', 'house', 'for', 'sale']\n",
      "['2', 'bedroom', 'ground', 'floor', 'flat', 'for', 'sale']\n",
      "['4', 'bedroom', 'end', 'of', 'terrace', 'house', 'for', 'sale']\n",
      "['2', 'bedroom', 'end', 'of', 'terrace', 'house', 'for', 'sale']\n",
      "['4', 'bedroom', 'end', 'of', 'terrace', 'house', 'for', 'sale']\n",
      "['4', 'bedroom', 'link', 'detached', 'house', 'for', 'sale']\n",
      "['3', 'bedroom', 'end', 'of', 'terrace', 'house', 'for', 'sale']\n",
      "['5', 'bedroom', 'block', 'of', 'apartments', 'for', 'sale']\n",
      "['6', 'bedroom', 'link', 'detached', 'house', 'for', 'sale']\n"
     ]
    }
   ],
   "source": [
    "maxlen = 6\n",
    "for i in range(len(df)):\n",
    "    if len(df.type[i]) > maxlen:\n",
    "        print(df.type[i])"
   ]
  },
  {
   "cell_type": "code",
   "execution_count": 9,
   "metadata": {},
   "outputs": [
    {
     "name": "stdout",
     "output_type": "stream",
     "text": [
      "looks like all types start with the number of bedrooms\n"
     ]
    }
   ],
   "source": [
    "num = 0\n",
    "for i in range(len(df)):\n",
    "    if df.type[i][1] != 'bedroom':\n",
    "        num += 1\n",
    "if num != 0:\n",
    "    print('oh no')\n",
    "else:\n",
    "    print('looks like all types start with the number of bedrooms')"
   ]
  },
  {
   "cell_type": "code",
   "execution_count": 10,
   "metadata": {},
   "outputs": [
    {
     "name": "stdout",
     "output_type": "stream",
     "text": [
      "looks like all types end with \"for sale\"\n"
     ]
    }
   ],
   "source": [
    "num = 0\n",
    "for i in range(len(df)):\n",
    "    if df.type[i][-2] != 'for' or df.type[i][-1] != 'sale':\n",
    "        num += 1\n",
    "if num != 0:\n",
    "    print('oh no')\n",
    "else:\n",
    "    print('looks like all types end with \"for sale\"')"
   ]
  },
  {
   "cell_type": "markdown",
   "metadata": {},
   "source": [
    "We can get rid of the first two and last two entries of each type list"
   ]
  },
  {
   "cell_type": "code",
   "execution_count": 11,
   "metadata": {
    "scrolled": true
   },
   "outputs": [
    {
     "name": "stderr",
     "output_type": "stream",
     "text": [
      "/Users/patrickfahy99/opt/anaconda3/lib/python3.7/site-packages/ipykernel_launcher.py:2: SettingWithCopyWarning: \n",
      "A value is trying to be set on a copy of a slice from a DataFrame\n",
      "\n",
      "See the caveats in the documentation: https://pandas.pydata.org/pandas-docs/stable/user_guide/indexing.html#returning-a-view-versus-a-copy\n",
      "  \n"
     ]
    }
   ],
   "source": [
    "for i in range(len(df)):\n",
    "    df.type[i] = df.type[i][2:-2]"
   ]
  },
  {
   "cell_type": "code",
   "execution_count": 12,
   "metadata": {},
   "outputs": [
    {
     "name": "stdout",
     "output_type": "stream",
     "text": [
      "65 ['end', 'of', 'terrace', 'house']\n",
      "347 ['end', 'of', 'terrace', 'house']\n",
      "368 ['block', 'of', 'apartments']\n",
      "381 ['link', 'detached', 'house']\n",
      "600 ['end', 'of', 'terrace', 'house']\n",
      "602 ['block', 'of', 'apartments']\n",
      "679 ['end', 'of', 'terrace', 'house']\n",
      "701 ['ground', 'floor', 'flat']\n",
      "729 ['end', 'of', 'terrace', 'house']\n",
      "823 ['end', 'of', 'terrace', 'house']\n",
      "855 ['end', 'of', 'terrace', 'house']\n",
      "866 ['link', 'detached', 'house']\n",
      "964 ['end', 'of', 'terrace', 'house']\n",
      "978 ['block', 'of', 'apartments']\n",
      "1009 ['link', 'detached', 'house']\n"
     ]
    }
   ],
   "source": [
    "maxlen = 2\n",
    "for i in range(len(df)):\n",
    "    if len(df.type[i]) > maxlen:\n",
    "        print(i, df.type[i])"
   ]
  },
  {
   "cell_type": "markdown",
   "metadata": {},
   "source": [
    "Let's get rid of blocks of apartments and flats, as they are anomalies."
   ]
  },
  {
   "cell_type": "code",
   "execution_count": 13,
   "metadata": {},
   "outputs": [],
   "source": [
    "for i in range(len(df)):\n",
    "    if df.type[i][-1] in ['apartments', 'flat']:\n",
    "        df = df.drop(i)\n",
    "df.reset_index(inplace=True)"
   ]
  },
  {
   "cell_type": "code",
   "execution_count": 14,
   "metadata": {},
   "outputs": [
    {
     "name": "stdout",
     "output_type": "stream",
     "text": [
      "65 ['end', 'of', 'terrace', 'house']\n",
      "344 ['end', 'of', 'terrace', 'house']\n",
      "377 ['link', 'detached', 'house']\n",
      "593 ['end', 'of', 'terrace', 'house']\n",
      "670 ['end', 'of', 'terrace', 'house']\n",
      "719 ['end', 'of', 'terrace', 'house']\n",
      "813 ['end', 'of', 'terrace', 'house']\n",
      "845 ['end', 'of', 'terrace', 'house']\n",
      "856 ['link', 'detached', 'house']\n",
      "950 ['end', 'of', 'terrace', 'house']\n",
      "994 ['link', 'detached', 'house']\n"
     ]
    }
   ],
   "source": [
    "maxlen = 2\n",
    "for i in range(len(df)):\n",
    "    if len(df.type[i]) > maxlen:\n",
    "        print(i, df.type[i])"
   ]
  },
  {
   "cell_type": "code",
   "execution_count": 15,
   "metadata": {},
   "outputs": [],
   "source": [
    "df = df.drop('index', axis=1)"
   ]
  },
  {
   "cell_type": "code",
   "execution_count": 16,
   "metadata": {},
   "outputs": [
    {
     "data": {
      "text/html": [
       "<div>\n",
       "<style scoped>\n",
       "    .dataframe tbody tr th:only-of-type {\n",
       "        vertical-align: middle;\n",
       "    }\n",
       "\n",
       "    .dataframe tbody tr th {\n",
       "        vertical-align: top;\n",
       "    }\n",
       "\n",
       "    .dataframe thead th {\n",
       "        text-align: right;\n",
       "    }\n",
       "</style>\n",
       "<table border=\"1\" class=\"dataframe\">\n",
       "  <thead>\n",
       "    <tr style=\"text-align: right;\">\n",
       "      <th></th>\n",
       "      <th>price</th>\n",
       "      <th>type</th>\n",
       "      <th>postcode</th>\n",
       "      <th>number_bedrooms</th>\n",
       "    </tr>\n",
       "  </thead>\n",
       "  <tbody>\n",
       "    <tr>\n",
       "      <th>0</th>\n",
       "      <td>320000.0</td>\n",
       "      <td>[detached, bungalow]</td>\n",
       "      <td>BN27</td>\n",
       "      <td>2.0</td>\n",
       "    </tr>\n",
       "    <tr>\n",
       "      <th>1</th>\n",
       "      <td>7500000.0</td>\n",
       "      <td>[detached, house]</td>\n",
       "      <td>GU27</td>\n",
       "      <td>9.0</td>\n",
       "    </tr>\n",
       "    <tr>\n",
       "      <th>2</th>\n",
       "      <td>6500000.0</td>\n",
       "      <td>[detached, house]</td>\n",
       "      <td>GU28</td>\n",
       "      <td>10.0</td>\n",
       "    </tr>\n",
       "    <tr>\n",
       "      <th>3</th>\n",
       "      <td>5950000.0</td>\n",
       "      <td>[detached, house]</td>\n",
       "      <td>RH17</td>\n",
       "      <td>9.0</td>\n",
       "    </tr>\n",
       "    <tr>\n",
       "      <th>4</th>\n",
       "      <td>5950000.0</td>\n",
       "      <td>[detached, house]</td>\n",
       "      <td>RH17</td>\n",
       "      <td>9.0</td>\n",
       "    </tr>\n",
       "    <tr>\n",
       "      <th>...</th>\n",
       "      <td>...</td>\n",
       "      <td>...</td>\n",
       "      <td>...</td>\n",
       "      <td>...</td>\n",
       "    </tr>\n",
       "    <tr>\n",
       "      <th>999</th>\n",
       "      <td>850000.0</td>\n",
       "      <td>[barn, conversion]</td>\n",
       "      <td>PO20</td>\n",
       "      <td>5.0</td>\n",
       "    </tr>\n",
       "    <tr>\n",
       "      <th>1000</th>\n",
       "      <td>850000.0</td>\n",
       "      <td>[character, property]</td>\n",
       "      <td>BN43</td>\n",
       "      <td>3.0</td>\n",
       "    </tr>\n",
       "    <tr>\n",
       "      <th>1001</th>\n",
       "      <td>850000.0</td>\n",
       "      <td>[detached, bungalow]</td>\n",
       "      <td>BN24</td>\n",
       "      <td>5.0</td>\n",
       "    </tr>\n",
       "    <tr>\n",
       "      <th>1002</th>\n",
       "      <td>850000.0</td>\n",
       "      <td>[house]</td>\n",
       "      <td>RH14</td>\n",
       "      <td>4.0</td>\n",
       "    </tr>\n",
       "    <tr>\n",
       "      <th>1003</th>\n",
       "      <td>850000.0</td>\n",
       "      <td>[detached, house]</td>\n",
       "      <td>TN31</td>\n",
       "      <td>5.0</td>\n",
       "    </tr>\n",
       "  </tbody>\n",
       "</table>\n",
       "<p>1004 rows × 4 columns</p>\n",
       "</div>"
      ],
      "text/plain": [
       "          price                   type postcode  number_bedrooms\n",
       "0      320000.0   [detached, bungalow]     BN27              2.0\n",
       "1     7500000.0      [detached, house]     GU27              9.0\n",
       "2     6500000.0      [detached, house]     GU28             10.0\n",
       "3     5950000.0      [detached, house]     RH17              9.0\n",
       "4     5950000.0      [detached, house]     RH17              9.0\n",
       "...         ...                    ...      ...              ...\n",
       "999    850000.0     [barn, conversion]     PO20              5.0\n",
       "1000   850000.0  [character, property]     BN43              3.0\n",
       "1001   850000.0   [detached, bungalow]     BN24              5.0\n",
       "1002   850000.0                [house]     RH14              4.0\n",
       "1003   850000.0      [detached, house]     TN31              5.0\n",
       "\n",
       "[1004 rows x 4 columns]"
      ]
     },
     "execution_count": 16,
     "metadata": {},
     "output_type": "execute_result"
    }
   ],
   "source": [
    "df"
   ]
  },
  {
   "cell_type": "code",
   "execution_count": 17,
   "metadata": {},
   "outputs": [
    {
     "name": "stdout",
     "output_type": "stream",
     "text": [
      "['property']\n",
      "['character', 'property']\n",
      "['apartment']\n",
      "['property']\n",
      "['barn', 'conversion']\n",
      "['apartment']\n",
      "['character', 'property']\n",
      "['barn', 'conversion']\n",
      "['property']\n",
      "['apartment']\n",
      "['apartment']\n",
      "['apartment']\n",
      "['character', 'property']\n",
      "['apartment']\n",
      "['apartment']\n",
      "['property']\n",
      "['barn', 'conversion']\n",
      "['barn', 'conversion']\n",
      "['apartment']\n",
      "['barn', 'conversion']\n",
      "['property']\n",
      "['apartment']\n",
      "['apartment']\n",
      "['penthouse']\n",
      "['barn']\n",
      "['apartment']\n",
      "['penthouse']\n",
      "['apartment']\n",
      "['apartment']\n",
      "['barn', 'conversion']\n",
      "['barn', 'conversion']\n",
      "['property']\n",
      "['barn', 'conversion']\n",
      "['penthouse']\n",
      "['apartment']\n",
      "['property']\n",
      "['barn', 'conversion']\n",
      "['penthouse']\n",
      "['apartment']\n",
      "['apartment']\n",
      "['apartment']\n",
      "['apartment']\n",
      "['apartment']\n",
      "['cottage']\n",
      "['apartment']\n",
      "['villa']\n",
      "['apartment']\n",
      "['cottage']\n",
      "['character', 'property']\n",
      "['barn', 'conversion']\n",
      "['cottage']\n",
      "['penthouse']\n",
      "['barn', 'conversion']\n",
      "['character', 'property']\n"
     ]
    }
   ],
   "source": [
    "for i in range(len(df)):\n",
    "    if df.type[i][-1] not in ['house', 'bungalow', 'facility']:\n",
    "        print(df.type[i])"
   ]
  },
  {
   "cell_type": "code",
   "execution_count": 18,
   "metadata": {},
   "outputs": [],
   "source": [
    "for i in range(len(df)):\n",
    "    if df.type[i][-1] == 'property':\n",
    "        df.type[i][-1] = 'house'"
   ]
  },
  {
   "cell_type": "code",
   "execution_count": 19,
   "metadata": {},
   "outputs": [
    {
     "name": "stdout",
     "output_type": "stream",
     "text": [
      "['apartment']\n",
      "['barn', 'conversion']\n",
      "['apartment']\n",
      "['barn', 'conversion']\n",
      "['apartment']\n",
      "['apartment']\n",
      "['apartment']\n",
      "['apartment']\n",
      "['apartment']\n",
      "['barn', 'conversion']\n",
      "['barn', 'conversion']\n",
      "['apartment']\n",
      "['barn', 'conversion']\n",
      "['apartment']\n",
      "['apartment']\n",
      "['penthouse']\n",
      "['barn']\n",
      "['apartment']\n",
      "['penthouse']\n",
      "['apartment']\n",
      "['apartment']\n",
      "['barn', 'conversion']\n",
      "['barn', 'conversion']\n",
      "['barn', 'conversion']\n",
      "['penthouse']\n",
      "['apartment']\n",
      "['barn', 'conversion']\n",
      "['penthouse']\n",
      "['apartment']\n",
      "['apartment']\n",
      "['apartment']\n",
      "['apartment']\n",
      "['apartment']\n",
      "['cottage']\n",
      "['apartment']\n",
      "['villa']\n",
      "['apartment']\n",
      "['cottage']\n",
      "['barn', 'conversion']\n",
      "['cottage']\n",
      "['penthouse']\n",
      "['barn', 'conversion']\n"
     ]
    }
   ],
   "source": [
    "for i in range(len(df)):\n",
    "    if df.type[i][-1] not in ['house', 'bungalow', 'facility']:\n",
    "        print(df.type[i])"
   ]
  },
  {
   "cell_type": "code",
   "execution_count": 20,
   "metadata": {},
   "outputs": [
    {
     "name": "stderr",
     "output_type": "stream",
     "text": [
      "/Users/patrickfahy99/opt/anaconda3/lib/python3.7/site-packages/ipykernel_launcher.py:3: SettingWithCopyWarning: \n",
      "A value is trying to be set on a copy of a slice from a DataFrame\n",
      "\n",
      "See the caveats in the documentation: https://pandas.pydata.org/pandas-docs/stable/user_guide/indexing.html#returning-a-view-versus-a-copy\n",
      "  This is separate from the ipykernel package so we can avoid doing imports until\n"
     ]
    }
   ],
   "source": [
    "for i in range(len(df)):\n",
    "    if df.type[i] == ['barn', 'conversion']:\n",
    "        df.type[i] = ['detached', 'barn']"
   ]
  },
  {
   "cell_type": "code",
   "execution_count": 21,
   "metadata": {},
   "outputs": [
    {
     "name": "stdout",
     "output_type": "stream",
     "text": [
      "['apartment']\n",
      "['detached', 'barn']\n",
      "['apartment']\n",
      "['detached', 'barn']\n",
      "['apartment']\n",
      "['apartment']\n",
      "['apartment']\n",
      "['apartment']\n",
      "['apartment']\n",
      "['detached', 'barn']\n",
      "['detached', 'barn']\n",
      "['apartment']\n",
      "['detached', 'barn']\n",
      "['apartment']\n",
      "['apartment']\n",
      "['penthouse']\n",
      "['barn']\n",
      "['apartment']\n",
      "['penthouse']\n",
      "['apartment']\n",
      "['apartment']\n",
      "['detached', 'barn']\n",
      "['detached', 'barn']\n",
      "['detached', 'barn']\n",
      "['penthouse']\n",
      "['apartment']\n",
      "['detached', 'barn']\n",
      "['penthouse']\n",
      "['apartment']\n",
      "['apartment']\n",
      "['apartment']\n",
      "['apartment']\n",
      "['apartment']\n",
      "['cottage']\n",
      "['apartment']\n",
      "['villa']\n",
      "['apartment']\n",
      "['cottage']\n",
      "['detached', 'barn']\n",
      "['cottage']\n",
      "['penthouse']\n",
      "['detached', 'barn']\n"
     ]
    }
   ],
   "source": [
    "for i in range(len(df)):\n",
    "    if df.type[i][-1] not in ['house', 'bungalow', 'facility']:\n",
    "        print(df.type[i])"
   ]
  },
  {
   "cell_type": "code",
   "execution_count": 22,
   "metadata": {},
   "outputs": [],
   "source": [
    "house_types = []\n",
    "for i in range(len(df)):\n",
    "    if df.type[i][-1] not in house_types:\n",
    "        house_types.append(df.type[i][-1])\n",
    "        house_types"
   ]
  },
  {
   "cell_type": "code",
   "execution_count": 23,
   "metadata": {},
   "outputs": [
    {
     "name": "stderr",
     "output_type": "stream",
     "text": [
      "/Users/patrickfahy99/opt/anaconda3/lib/python3.7/site-packages/ipykernel_launcher.py:5: SettingWithCopyWarning: \n",
      "A value is trying to be set on a copy of a slice from a DataFrame\n",
      "\n",
      "See the caveats in the documentation: https://pandas.pydata.org/pandas-docs/stable/user_guide/indexing.html#returning-a-view-versus-a-copy\n",
      "  \"\"\"\n",
      "/Users/patrickfahy99/opt/anaconda3/lib/python3.7/site-packages/pandas/core/indexing.py:671: SettingWithCopyWarning: \n",
      "A value is trying to be set on a copy of a slice from a DataFrame\n",
      "\n",
      "See the caveats in the documentation: https://pandas.pydata.org/pandas-docs/stable/user_guide/indexing.html#returning-a-view-versus-a-copy\n",
      "  self._setitem_with_indexer(indexer, value)\n"
     ]
    }
   ],
   "source": [
    "import numpy as np\n",
    "\n",
    "df['house_type'] = np.zeros(len(df))\n",
    "for i in range(len(df)):\n",
    "    df['house_type'][i] = df.type[i][-1]"
   ]
  },
  {
   "cell_type": "code",
   "execution_count": 24,
   "metadata": {},
   "outputs": [
    {
     "name": "stderr",
     "output_type": "stream",
     "text": [
      "/Users/patrickfahy99/opt/anaconda3/lib/python3.7/site-packages/ipykernel_launcher.py:2: SettingWithCopyWarning: \n",
      "A value is trying to be set on a copy of a slice from a DataFrame\n",
      "\n",
      "See the caveats in the documentation: https://pandas.pydata.org/pandas-docs/stable/user_guide/indexing.html#returning-a-view-versus-a-copy\n",
      "  \n"
     ]
    }
   ],
   "source": [
    "for i in range(len(df)):\n",
    "    df.type[i] = df.type[i][:-1]"
   ]
  },
  {
   "cell_type": "code",
   "execution_count": 25,
   "metadata": {},
   "outputs": [
    {
     "data": {
      "text/plain": [
       "array(['bungalow', 'house', 'facility', 'apartment', 'barn', 'penthouse',\n",
       "       'cottage', 'villa'], dtype=object)"
      ]
     },
     "execution_count": 25,
     "metadata": {},
     "output_type": "execute_result"
    }
   ],
   "source": [
    "df.house_type.unique()"
   ]
  },
  {
   "cell_type": "code",
   "execution_count": 26,
   "metadata": {},
   "outputs": [
    {
     "name": "stderr",
     "output_type": "stream",
     "text": [
      "/Users/patrickfahy99/opt/anaconda3/lib/python3.7/site-packages/ipykernel_launcher.py:3: SettingWithCopyWarning: \n",
      "A value is trying to be set on a copy of a slice from a DataFrame\n",
      "\n",
      "See the caveats in the documentation: https://pandas.pydata.org/pandas-docs/stable/user_guide/indexing.html#returning-a-view-versus-a-copy\n",
      "  This is separate from the ipykernel package so we can avoid doing imports until\n"
     ]
    }
   ],
   "source": [
    "for i in range(len(df)):\n",
    "    if df.type[i] in [['end', 'of', 'terrace'], ['link', 'detached']]:\n",
    "        df.type[i] = 'semi-detached'"
   ]
  },
  {
   "cell_type": "code",
   "execution_count": 27,
   "metadata": {},
   "outputs": [
    {
     "name": "stderr",
     "output_type": "stream",
     "text": [
      "/Users/patrickfahy99/opt/anaconda3/lib/python3.7/site-packages/ipykernel_launcher.py:3: SettingWithCopyWarning: \n",
      "A value is trying to be set on a copy of a slice from a DataFrame\n",
      "\n",
      "See the caveats in the documentation: https://pandas.pydata.org/pandas-docs/stable/user_guide/indexing.html#returning-a-view-versus-a-copy\n",
      "  This is separate from the ipykernel package so we can avoid doing imports until\n"
     ]
    }
   ],
   "source": [
    "for i in range(len(df)):\n",
    "    if len(df.type[i]) == 0:\n",
    "        df.type[i] = ''"
   ]
  },
  {
   "cell_type": "code",
   "execution_count": 28,
   "metadata": {},
   "outputs": [
    {
     "name": "stderr",
     "output_type": "stream",
     "text": [
      "/Users/patrickfahy99/opt/anaconda3/lib/python3.7/site-packages/ipykernel_launcher.py:2: SettingWithCopyWarning: \n",
      "A value is trying to be set on a copy of a slice from a DataFrame\n",
      "\n",
      "See the caveats in the documentation: https://pandas.pydata.org/pandas-docs/stable/user_guide/indexing.html#returning-a-view-versus-a-copy\n",
      "  \n"
     ]
    }
   ],
   "source": [
    "for i in range(len(df)):\n",
    "    df.type[i] = ''.join( df.type[i])"
   ]
  },
  {
   "cell_type": "code",
   "execution_count": 29,
   "metadata": {},
   "outputs": [
    {
     "data": {
      "text/plain": [
       "array(['detached', '', 'equestrian', 'semi-detached', 'terraced', 'town',\n",
       "       'character', 'country', 'farm', 'manor', 'mews'], dtype=object)"
      ]
     },
     "execution_count": 29,
     "metadata": {},
     "output_type": "execute_result"
    }
   ],
   "source": [
    "df.type.unique()"
   ]
  },
  {
   "cell_type": "code",
   "execution_count": 30,
   "metadata": {},
   "outputs": [
    {
     "data": {
      "text/html": [
       "<div>\n",
       "<style scoped>\n",
       "    .dataframe tbody tr th:only-of-type {\n",
       "        vertical-align: middle;\n",
       "    }\n",
       "\n",
       "    .dataframe tbody tr th {\n",
       "        vertical-align: top;\n",
       "    }\n",
       "\n",
       "    .dataframe thead th {\n",
       "        text-align: right;\n",
       "    }\n",
       "</style>\n",
       "<table border=\"1\" class=\"dataframe\">\n",
       "  <thead>\n",
       "    <tr style=\"text-align: right;\">\n",
       "      <th></th>\n",
       "      <th>price</th>\n",
       "      <th>type</th>\n",
       "      <th>postcode</th>\n",
       "      <th>number_bedrooms</th>\n",
       "      <th>house_type</th>\n",
       "      <th>num</th>\n",
       "    </tr>\n",
       "  </thead>\n",
       "  <tbody>\n",
       "    <tr>\n",
       "      <th>0</th>\n",
       "      <td>320000.0</td>\n",
       "      <td>detached</td>\n",
       "      <td>BN27</td>\n",
       "      <td>2.0</td>\n",
       "      <td>bungalow</td>\n",
       "      <td>1.0</td>\n",
       "    </tr>\n",
       "    <tr>\n",
       "      <th>1</th>\n",
       "      <td>7500000.0</td>\n",
       "      <td>detached</td>\n",
       "      <td>GU27</td>\n",
       "      <td>9.0</td>\n",
       "      <td>house</td>\n",
       "      <td>1.0</td>\n",
       "    </tr>\n",
       "    <tr>\n",
       "      <th>2</th>\n",
       "      <td>6500000.0</td>\n",
       "      <td>detached</td>\n",
       "      <td>GU28</td>\n",
       "      <td>10.0</td>\n",
       "      <td>house</td>\n",
       "      <td>1.0</td>\n",
       "    </tr>\n",
       "    <tr>\n",
       "      <th>3</th>\n",
       "      <td>5950000.0</td>\n",
       "      <td>detached</td>\n",
       "      <td>RH17</td>\n",
       "      <td>9.0</td>\n",
       "      <td>house</td>\n",
       "      <td>1.0</td>\n",
       "    </tr>\n",
       "    <tr>\n",
       "      <th>4</th>\n",
       "      <td>5950000.0</td>\n",
       "      <td>detached</td>\n",
       "      <td>RH17</td>\n",
       "      <td>9.0</td>\n",
       "      <td>house</td>\n",
       "      <td>1.0</td>\n",
       "    </tr>\n",
       "    <tr>\n",
       "      <th>...</th>\n",
       "      <td>...</td>\n",
       "      <td>...</td>\n",
       "      <td>...</td>\n",
       "      <td>...</td>\n",
       "      <td>...</td>\n",
       "      <td>...</td>\n",
       "    </tr>\n",
       "    <tr>\n",
       "      <th>999</th>\n",
       "      <td>850000.0</td>\n",
       "      <td>detached</td>\n",
       "      <td>PO20</td>\n",
       "      <td>5.0</td>\n",
       "      <td>barn</td>\n",
       "      <td>1.0</td>\n",
       "    </tr>\n",
       "    <tr>\n",
       "      <th>1000</th>\n",
       "      <td>850000.0</td>\n",
       "      <td>character</td>\n",
       "      <td>BN43</td>\n",
       "      <td>3.0</td>\n",
       "      <td>house</td>\n",
       "      <td>1.0</td>\n",
       "    </tr>\n",
       "    <tr>\n",
       "      <th>1001</th>\n",
       "      <td>850000.0</td>\n",
       "      <td>detached</td>\n",
       "      <td>BN24</td>\n",
       "      <td>5.0</td>\n",
       "      <td>bungalow</td>\n",
       "      <td>1.0</td>\n",
       "    </tr>\n",
       "    <tr>\n",
       "      <th>1002</th>\n",
       "      <td>850000.0</td>\n",
       "      <td></td>\n",
       "      <td>RH14</td>\n",
       "      <td>4.0</td>\n",
       "      <td>house</td>\n",
       "      <td>1.0</td>\n",
       "    </tr>\n",
       "    <tr>\n",
       "      <th>1003</th>\n",
       "      <td>850000.0</td>\n",
       "      <td>detached</td>\n",
       "      <td>TN31</td>\n",
       "      <td>5.0</td>\n",
       "      <td>house</td>\n",
       "      <td>1.0</td>\n",
       "    </tr>\n",
       "  </tbody>\n",
       "</table>\n",
       "<p>1004 rows × 6 columns</p>\n",
       "</div>"
      ],
      "text/plain": [
       "          price       type postcode  number_bedrooms house_type  num\n",
       "0      320000.0   detached     BN27              2.0   bungalow  1.0\n",
       "1     7500000.0   detached     GU27              9.0      house  1.0\n",
       "2     6500000.0   detached     GU28             10.0      house  1.0\n",
       "3     5950000.0   detached     RH17              9.0      house  1.0\n",
       "4     5950000.0   detached     RH17              9.0      house  1.0\n",
       "...         ...        ...      ...              ...        ...  ...\n",
       "999    850000.0   detached     PO20              5.0       barn  1.0\n",
       "1000   850000.0  character     BN43              3.0      house  1.0\n",
       "1001   850000.0   detached     BN24              5.0   bungalow  1.0\n",
       "1002   850000.0                RH14              4.0      house  1.0\n",
       "1003   850000.0   detached     TN31              5.0      house  1.0\n",
       "\n",
       "[1004 rows x 6 columns]"
      ]
     },
     "execution_count": 30,
     "metadata": {},
     "output_type": "execute_result"
    }
   ],
   "source": [
    "df['num'] = np.ones(len(df))\n",
    "df"
   ]
  },
  {
   "cell_type": "code",
   "execution_count": 31,
   "metadata": {},
   "outputs": [],
   "source": [
    "# Another outlier\n",
    "for i in range(len(df)):\n",
    "    if df.type[i] in ['mews', 'equestrian']:\n",
    "        df = df.drop(i)\n",
    "df.reset_index(inplace=True)"
   ]
  },
  {
   "cell_type": "code",
   "execution_count": 32,
   "metadata": {},
   "outputs": [
    {
     "data": {
      "text/plain": [
       "type\n",
       "                 110.0\n",
       "character          5.0\n",
       "country            4.0\n",
       "detached         745.0\n",
       "farm               5.0\n",
       "manor              4.0\n",
       "semi-detached     54.0\n",
       "terraced          49.0\n",
       "town               9.0\n",
       "Name: num, dtype: float64"
      ]
     },
     "execution_count": 32,
     "metadata": {},
     "output_type": "execute_result"
    }
   ],
   "source": [
    "# Look for how many of each type there is\n",
    "df.groupby('type')['num'].sum()"
   ]
  },
  {
   "cell_type": "code",
   "execution_count": 33,
   "metadata": {},
   "outputs": [],
   "source": [
    "#df = df[df.type != 'farm']"
   ]
  },
  {
   "cell_type": "code",
   "execution_count": 34,
   "metadata": {},
   "outputs": [
    {
     "data": {
      "text/plain": [
       "<matplotlib.axes._subplots.AxesSubplot at 0x117ce4550>"
      ]
     },
     "execution_count": 34,
     "metadata": {},
     "output_type": "execute_result"
    },
    {
     "data": {
      "image/png": "[encoded data removed]",
      "text/plain": [
       "<Figure size 1800x1080 with 1 Axes>"
      ]
     },
     "metadata": {
      "needs_background": "light"
     },
     "output_type": "display_data"
    }
   ],
   "source": [
    "df.groupby('type')['price'].mean().plot(figsize = (25,15), kind='bar')"
   ]
  },
  {
   "cell_type": "code",
   "execution_count": 35,
   "metadata": {},
   "outputs": [
    {
     "name": "stderr",
     "output_type": "stream",
     "text": [
      "/Users/patrickfahy99/opt/anaconda3/lib/python3.7/site-packages/ipykernel_launcher.py:3: SettingWithCopyWarning: \n",
      "A value is trying to be set on a copy of a slice from a DataFrame\n",
      "\n",
      "See the caveats in the documentation: https://pandas.pydata.org/pandas-docs/stable/user_guide/indexing.html#returning-a-view-versus-a-copy\n",
      "  This is separate from the ipykernel package so we can avoid doing imports until\n"
     ]
    }
   ],
   "source": [
    "for i in range(len(df)):\n",
    "    if df.type[i] in ['character','country', '', 'farm', 'manor', 'town']:\n",
    "        df.type[i] = 'other'"
   ]
  },
  {
   "cell_type": "code",
   "execution_count": 36,
   "metadata": {},
   "outputs": [
    {
     "data": {
      "text/plain": [
       "<matplotlib.axes._subplots.AxesSubplot at 0x117d34fd0>"
      ]
     },
     "execution_count": 36,
     "metadata": {},
     "output_type": "execute_result"
    },
    {
     "data": {
      "image/png": "[encoded data removed]",
      "text/plain": [
       "<Figure size 1800x1080 with 1 Axes>"
      ]
     },
     "metadata": {
      "needs_background": "light"
     },
     "output_type": "display_data"
    }
   ],
   "source": [
    "df.groupby('type')['price'].mean().plot(figsize = (25,15), kind='bar')"
   ]
  },
  {
   "cell_type": "code",
   "execution_count": 37,
   "metadata": {},
   "outputs": [
    {
     "data": {
      "text/plain": [
       "type\n",
       "detached         745.0\n",
       "other            137.0\n",
       "semi-detached     54.0\n",
       "terraced          49.0\n",
       "Name: num, dtype: float64"
      ]
     },
     "execution_count": 37,
     "metadata": {},
     "output_type": "execute_result"
    }
   ],
   "source": [
    "df.groupby('type')['num'].sum()"
   ]
  },
  {
   "cell_type": "code",
   "execution_count": 38,
   "metadata": {},
   "outputs": [
    {
     "name": "stderr",
     "output_type": "stream",
     "text": [
      "/Users/patrickfahy99/opt/anaconda3/lib/python3.7/site-packages/ipykernel_launcher.py:3: SettingWithCopyWarning: \n",
      "A value is trying to be set on a copy of a slice from a DataFrame\n",
      "\n",
      "See the caveats in the documentation: https://pandas.pydata.org/pandas-docs/stable/user_guide/indexing.html#returning-a-view-versus-a-copy\n",
      "  This is separate from the ipykernel package so we can avoid doing imports until\n"
     ]
    }
   ],
   "source": [
    "for i in range(len(df)):\n",
    "    if df.type[i] in ['semi-detached', 'terraced']:\n",
    "        df.type[i] = 'attached'"
   ]
  },
  {
   "cell_type": "code",
   "execution_count": 39,
   "metadata": {},
   "outputs": [
    {
     "data": {
      "text/plain": [
       "<matplotlib.axes._subplots.AxesSubplot at 0x116cb3610>"
      ]
     },
     "execution_count": 39,
     "metadata": {},
     "output_type": "execute_result"
    },
    {
     "data": {
      "image/png": "[encoded data removed]",
      "text/plain": [
       "<Figure size 1800x1080 with 1 Axes>"
      ]
     },
     "metadata": {
      "needs_background": "light"
     },
     "output_type": "display_data"
    }
   ],
   "source": [
    "df.groupby('type')['price'].mean().plot(figsize = (25,15), kind='bar')"
   ]
  },
  {
   "cell_type": "code",
   "execution_count": 40,
   "metadata": {},
   "outputs": [],
   "source": [
    "df = df.drop('index', axis=1)"
   ]
  },
  {
   "cell_type": "code",
   "execution_count": 41,
   "metadata": {},
   "outputs": [
    {
     "data": {
      "text/html": [
       "<div>\n",
       "<style scoped>\n",
       "    .dataframe tbody tr th:only-of-type {\n",
       "        vertical-align: middle;\n",
       "    }\n",
       "\n",
       "    .dataframe tbody tr th {\n",
       "        vertical-align: top;\n",
       "    }\n",
       "\n",
       "    .dataframe thead th {\n",
       "        text-align: right;\n",
       "    }\n",
       "</style>\n",
       "<table border=\"1\" class=\"dataframe\">\n",
       "  <thead>\n",
       "    <tr style=\"text-align: right;\">\n",
       "      <th></th>\n",
       "      <th>price</th>\n",
       "      <th>type</th>\n",
       "      <th>postcode</th>\n",
       "      <th>number_bedrooms</th>\n",
       "      <th>house_type</th>\n",
       "      <th>num</th>\n",
       "    </tr>\n",
       "  </thead>\n",
       "  <tbody>\n",
       "    <tr>\n",
       "      <th>0</th>\n",
       "      <td>320000.0</td>\n",
       "      <td>detached</td>\n",
       "      <td>BN27</td>\n",
       "      <td>2.0</td>\n",
       "      <td>bungalow</td>\n",
       "      <td>1.0</td>\n",
       "    </tr>\n",
       "    <tr>\n",
       "      <th>1</th>\n",
       "      <td>7500000.0</td>\n",
       "      <td>detached</td>\n",
       "      <td>GU27</td>\n",
       "      <td>9.0</td>\n",
       "      <td>house</td>\n",
       "      <td>1.0</td>\n",
       "    </tr>\n",
       "    <tr>\n",
       "      <th>2</th>\n",
       "      <td>6500000.0</td>\n",
       "      <td>detached</td>\n",
       "      <td>GU28</td>\n",
       "      <td>10.0</td>\n",
       "      <td>house</td>\n",
       "      <td>1.0</td>\n",
       "    </tr>\n",
       "    <tr>\n",
       "      <th>3</th>\n",
       "      <td>5950000.0</td>\n",
       "      <td>detached</td>\n",
       "      <td>RH17</td>\n",
       "      <td>9.0</td>\n",
       "      <td>house</td>\n",
       "      <td>1.0</td>\n",
       "    </tr>\n",
       "    <tr>\n",
       "      <th>4</th>\n",
       "      <td>5950000.0</td>\n",
       "      <td>detached</td>\n",
       "      <td>RH17</td>\n",
       "      <td>9.0</td>\n",
       "      <td>house</td>\n",
       "      <td>1.0</td>\n",
       "    </tr>\n",
       "    <tr>\n",
       "      <th>...</th>\n",
       "      <td>...</td>\n",
       "      <td>...</td>\n",
       "      <td>...</td>\n",
       "      <td>...</td>\n",
       "      <td>...</td>\n",
       "      <td>...</td>\n",
       "    </tr>\n",
       "    <tr>\n",
       "      <th>980</th>\n",
       "      <td>850000.0</td>\n",
       "      <td>detached</td>\n",
       "      <td>PO20</td>\n",
       "      <td>5.0</td>\n",
       "      <td>barn</td>\n",
       "      <td>1.0</td>\n",
       "    </tr>\n",
       "    <tr>\n",
       "      <th>981</th>\n",
       "      <td>850000.0</td>\n",
       "      <td>other</td>\n",
       "      <td>BN43</td>\n",
       "      <td>3.0</td>\n",
       "      <td>house</td>\n",
       "      <td>1.0</td>\n",
       "    </tr>\n",
       "    <tr>\n",
       "      <th>982</th>\n",
       "      <td>850000.0</td>\n",
       "      <td>detached</td>\n",
       "      <td>BN24</td>\n",
       "      <td>5.0</td>\n",
       "      <td>bungalow</td>\n",
       "      <td>1.0</td>\n",
       "    </tr>\n",
       "    <tr>\n",
       "      <th>983</th>\n",
       "      <td>850000.0</td>\n",
       "      <td>other</td>\n",
       "      <td>RH14</td>\n",
       "      <td>4.0</td>\n",
       "      <td>house</td>\n",
       "      <td>1.0</td>\n",
       "    </tr>\n",
       "    <tr>\n",
       "      <th>984</th>\n",
       "      <td>850000.0</td>\n",
       "      <td>detached</td>\n",
       "      <td>TN31</td>\n",
       "      <td>5.0</td>\n",
       "      <td>house</td>\n",
       "      <td>1.0</td>\n",
       "    </tr>\n",
       "  </tbody>\n",
       "</table>\n",
       "<p>985 rows × 6 columns</p>\n",
       "</div>"
      ],
      "text/plain": [
       "         price      type postcode  number_bedrooms house_type  num\n",
       "0     320000.0  detached     BN27              2.0   bungalow  1.0\n",
       "1    7500000.0  detached     GU27              9.0      house  1.0\n",
       "2    6500000.0  detached     GU28             10.0      house  1.0\n",
       "3    5950000.0  detached     RH17              9.0      house  1.0\n",
       "4    5950000.0  detached     RH17              9.0      house  1.0\n",
       "..         ...       ...      ...              ...        ...  ...\n",
       "980   850000.0  detached     PO20              5.0       barn  1.0\n",
       "981   850000.0     other     BN43              3.0      house  1.0\n",
       "982   850000.0  detached     BN24              5.0   bungalow  1.0\n",
       "983   850000.0     other     RH14              4.0      house  1.0\n",
       "984   850000.0  detached     TN31              5.0      house  1.0\n",
       "\n",
       "[985 rows x 6 columns]"
      ]
     },
     "execution_count": 41,
     "metadata": {},
     "output_type": "execute_result"
    }
   ],
   "source": [
    "df"
   ]
  },
  {
   "cell_type": "code",
   "execution_count": 42,
   "metadata": {},
   "outputs": [
    {
     "name": "stderr",
     "output_type": "stream",
     "text": [
      "/Users/patrickfahy99/opt/anaconda3/lib/python3.7/site-packages/ipykernel_launcher.py:6: SettingWithCopyWarning: \n",
      "A value is trying to be set on a copy of a slice from a DataFrame\n",
      "\n",
      "See the caveats in the documentation: https://pandas.pydata.org/pandas-docs/stable/user_guide/indexing.html#returning-a-view-versus-a-copy\n",
      "  \n"
     ]
    }
   ],
   "source": [
    "# Look at the distance from gatwick\n",
    "import pgeocode\n",
    "\n",
    "df['dist_gat'] = np.zeros(len(df))\n",
    "for i in range(len(df)):\n",
    "    df['dist_gat'][i] = pgeocode.GeoDistance('GB').query_postal_code(df.postcode[i], 'RH6 0NP')"
   ]
  },
  {
   "cell_type": "code",
   "execution_count": 43,
   "metadata": {},
   "outputs": [
    {
     "data": {
      "text/plain": [
       "house_type\n",
       "apartment     21.0\n",
       "barn          12.0\n",
       "bungalow      23.0\n",
       "cottage        3.0\n",
       "house        920.0\n",
       "penthouse      5.0\n",
       "villa          1.0\n",
       "Name: num, dtype: float64"
      ]
     },
     "execution_count": 43,
     "metadata": {},
     "output_type": "execute_result"
    }
   ],
   "source": [
    "df.groupby('house_type')['num'].sum()"
   ]
  },
  {
   "cell_type": "code",
   "execution_count": 44,
   "metadata": {},
   "outputs": [
    {
     "data": {
      "text/plain": [
       "<matplotlib.axes._subplots.AxesSubplot at 0x117fb3dd0>"
      ]
     },
     "execution_count": 44,
     "metadata": {},
     "output_type": "execute_result"
    },
    {
     "data": {
      "image/png": "[encoded data removed]",
      "text/plain": [
       "<Figure size 1800x1080 with 1 Axes>"
      ]
     },
     "metadata": {
      "needs_background": "light"
     },
     "output_type": "display_data"
    }
   ],
   "source": [
    "df.groupby('house_type')['price'].mean().plot(figsize = (25,15), kind='bar')"
   ]
  },
  {
   "cell_type": "code",
   "execution_count": 45,
   "metadata": {},
   "outputs": [
    {
     "data": {
      "text/html": [
       "<div>\n",
       "<style scoped>\n",
       "    .dataframe tbody tr th:only-of-type {\n",
       "        vertical-align: middle;\n",
       "    }\n",
       "\n",
       "    .dataframe tbody tr th {\n",
       "        vertical-align: top;\n",
       "    }\n",
       "\n",
       "    .dataframe thead th {\n",
       "        text-align: right;\n",
       "    }\n",
       "</style>\n",
       "<table border=\"1\" class=\"dataframe\">\n",
       "  <thead>\n",
       "    <tr style=\"text-align: right;\">\n",
       "      <th></th>\n",
       "      <th>price</th>\n",
       "      <th>number_bedrooms</th>\n",
       "      <th>num</th>\n",
       "      <th>dist_gat</th>\n",
       "    </tr>\n",
       "  </thead>\n",
       "  <tbody>\n",
       "    <tr>\n",
       "      <th>price</th>\n",
       "      <td>1.000000</td>\n",
       "      <td>0.499373</td>\n",
       "      <td>NaN</td>\n",
       "      <td>-0.044368</td>\n",
       "    </tr>\n",
       "    <tr>\n",
       "      <th>number_bedrooms</th>\n",
       "      <td>0.499373</td>\n",
       "      <td>1.000000</td>\n",
       "      <td>NaN</td>\n",
       "      <td>-0.025034</td>\n",
       "    </tr>\n",
       "    <tr>\n",
       "      <th>num</th>\n",
       "      <td>NaN</td>\n",
       "      <td>NaN</td>\n",
       "      <td>NaN</td>\n",
       "      <td>NaN</td>\n",
       "    </tr>\n",
       "    <tr>\n",
       "      <th>dist_gat</th>\n",
       "      <td>-0.044368</td>\n",
       "      <td>-0.025034</td>\n",
       "      <td>NaN</td>\n",
       "      <td>1.000000</td>\n",
       "    </tr>\n",
       "  </tbody>\n",
       "</table>\n",
       "</div>"
      ],
      "text/plain": [
       "                    price  number_bedrooms  num  dist_gat\n",
       "price            1.000000         0.499373  NaN -0.044368\n",
       "number_bedrooms  0.499373         1.000000  NaN -0.025034\n",
       "num                   NaN              NaN  NaN       NaN\n",
       "dist_gat        -0.044368        -0.025034  NaN  1.000000"
      ]
     },
     "execution_count": 45,
     "metadata": {},
     "output_type": "execute_result"
    }
   ],
   "source": [
    "df.corr()"
   ]
  },
  {
   "cell_type": "code",
   "execution_count": 46,
   "metadata": {},
   "outputs": [
    {
     "data": {
      "text/plain": [
       "<matplotlib.axes._subplots.AxesSubplot at 0x1040cee50>"
      ]
     },
     "execution_count": 46,
     "metadata": {},
     "output_type": "execute_result"
    },
    {
     "data": {
      "image/png": "[encoded data removed]",
      "text/plain": [
       "<Figure size 720x432 with 1 Axes>"
      ]
     },
     "metadata": {},
     "output_type": "display_data"
    }
   ],
   "source": [
    "import matplotlib.pyplot as plt\n",
    "\n",
    "sns.set_style('ticks')\n",
    "fig, ax = plt.subplots()\n",
    "fig.set_size_inches(10, 6)\n",
    "sns.distplot(df['price'])"
   ]
  },
  {
   "cell_type": "code",
   "execution_count": 47,
   "metadata": {},
   "outputs": [
    {
     "name": "stdout",
     "output_type": "stream",
     "text": [
      "mean: 1338337.6030456852   median 1150000.0   standard deviation: 697777.8158570311\n"
     ]
    }
   ],
   "source": [
    "print(\"mean:\", df['price'].mean(), \"  median\", df['price'].median(),\"  standard deviation:\", df['price'].std())"
   ]
  },
  {
   "cell_type": "code",
   "execution_count": 48,
   "metadata": {},
   "outputs": [
    {
     "data": {
      "text/plain": [
       "<matplotlib.axes._subplots.AxesSubplot at 0x117f36310>"
      ]
     },
     "execution_count": 48,
     "metadata": {},
     "output_type": "execute_result"
    },
    {
     "data": {
      "image/png": "[encoded data removed]",
      "text/plain": [
       "<Figure size 432x288 with 1 Axes>"
      ]
     },
     "metadata": {},
     "output_type": "display_data"
    }
   ],
   "source": [
    "sns.distplot(df['dist_gat'])"
   ]
  },
  {
   "cell_type": "code",
   "execution_count": 49,
   "metadata": {},
   "outputs": [],
   "source": [
    "df = df[df.dist_gat <= 100]"
   ]
  },
  {
   "cell_type": "code",
   "execution_count": 50,
   "metadata": {},
   "outputs": [],
   "source": [
    "df.reset_index(inplace=True)\n",
    "df = df.drop('index', axis=1)"
   ]
  },
  {
   "cell_type": "code",
   "execution_count": 51,
   "metadata": {},
   "outputs": [
    {
     "name": "stderr",
     "output_type": "stream",
     "text": [
      "/Users/patrickfahy99/opt/anaconda3/lib/python3.7/site-packages/ipykernel_launcher.py:3: SettingWithCopyWarning: \n",
      "A value is trying to be set on a copy of a slice from a DataFrame\n",
      "\n",
      "See the caveats in the documentation: https://pandas.pydata.org/pandas-docs/stable/user_guide/indexing.html#returning-a-view-versus-a-copy\n",
      "  This is separate from the ipykernel package so we can avoid doing imports until\n",
      "/Users/patrickfahy99/opt/anaconda3/lib/python3.7/site-packages/pandas/core/indexing.py:671: SettingWithCopyWarning: \n",
      "A value is trying to be set on a copy of a slice from a DataFrame\n",
      "\n",
      "See the caveats in the documentation: https://pandas.pydata.org/pandas-docs/stable/user_guide/indexing.html#returning-a-view-versus-a-copy\n",
      "  self._setitem_with_indexer(indexer, value)\n"
     ]
    }
   ],
   "source": [
    "df['area'] = np.zeros(len(df))\n",
    "for i in range(len(df)):\n",
    "    df['area'][i] = df['postcode'][i][:2]"
   ]
  },
  {
   "cell_type": "code",
   "execution_count": 52,
   "metadata": {},
   "outputs": [
    {
     "data": {
      "text/plain": [
       "<matplotlib.axes._subplots.AxesSubplot at 0x117fa09d0>"
      ]
     },
     "execution_count": 52,
     "metadata": {},
     "output_type": "execute_result"
    },
    {
     "data": {
      "image/png": "[encoded data removed]",
      "text/plain": [
       "<Figure size 432x288 with 1 Axes>"
      ]
     },
     "metadata": {},
     "output_type": "display_data"
    }
   ],
   "source": [
    "sns.distplot(df[df['house_type'] == 'house']['price'])"
   ]
  },
  {
   "cell_type": "code",
   "execution_count": 53,
   "metadata": {},
   "outputs": [],
   "source": [
    "for i in range(len(df)):\n",
    "    if df['house_type'][i] == 'house':\n",
    "        if df['price'][i] > 4000000:\n",
    "            df = df.drop(i)\n",
    "df.reset_index(inplace=True)\n",
    "df = df.drop('index', axis=1)"
   ]
  },
  {
   "cell_type": "code",
   "execution_count": 54,
   "metadata": {},
   "outputs": [],
   "source": [
    "# Getting dummies\n",
    "df = pd.concat([df.drop('type', axis=1), pd.get_dummies(df['type'])], axis=1)\n",
    "df = pd.concat([df.drop('house_type', axis=1), pd.get_dummies(df['house_type'])], axis=1)\n",
    "df = pd.concat([df.drop(['postcode', 'area'], axis=1), pd.get_dummies(df['area'])], axis=1)"
   ]
  },
  {
   "cell_type": "code",
   "execution_count": 55,
   "metadata": {},
   "outputs": [],
   "source": [
    "df = df.drop('num', axis=1)"
   ]
  },
  {
   "cell_type": "code",
   "execution_count": 56,
   "metadata": {},
   "outputs": [],
   "source": [
    "df['price'] = np.log1p(df.price)"
   ]
  },
  {
   "cell_type": "code",
   "execution_count": 57,
   "metadata": {},
   "outputs": [],
   "source": [
    "X = df.drop('price', axis=1)\n",
    "y = df['price']\n",
    "\n",
    "from sklearn.model_selection import train_test_split\n",
    "X_train, X_test, y_train, y_test = train_test_split(X, y, test_size=0.25, random_state=42)"
   ]
  },
  {
   "cell_type": "code",
   "execution_count": 58,
   "metadata": {},
   "outputs": [
    {
     "data": {
      "text/html": [
       "<div>\n",
       "<style scoped>\n",
       "    .dataframe tbody tr th:only-of-type {\n",
       "        vertical-align: middle;\n",
       "    }\n",
       "\n",
       "    .dataframe tbody tr th {\n",
       "        vertical-align: top;\n",
       "    }\n",
       "\n",
       "    .dataframe thead th {\n",
       "        text-align: right;\n",
       "    }\n",
       "</style>\n",
       "<table border=\"1\" class=\"dataframe\">\n",
       "  <thead>\n",
       "    <tr style=\"text-align: right;\">\n",
       "      <th></th>\n",
       "      <th>number_bedrooms</th>\n",
       "      <th>dist_gat</th>\n",
       "      <th>attached</th>\n",
       "      <th>detached</th>\n",
       "      <th>other</th>\n",
       "      <th>apartment</th>\n",
       "      <th>barn</th>\n",
       "      <th>bungalow</th>\n",
       "      <th>cottage</th>\n",
       "      <th>house</th>\n",
       "      <th>...</th>\n",
       "      <th>villa</th>\n",
       "      <th>BN</th>\n",
       "      <th>CM</th>\n",
       "      <th>GU</th>\n",
       "      <th>IG</th>\n",
       "      <th>KT</th>\n",
       "      <th>PO</th>\n",
       "      <th>RH</th>\n",
       "      <th>SS</th>\n",
       "      <th>TN</th>\n",
       "    </tr>\n",
       "  </thead>\n",
       "  <tbody>\n",
       "    <tr>\n",
       "      <th>357</th>\n",
       "      <td>4.0</td>\n",
       "      <td>22.072087</td>\n",
       "      <td>0</td>\n",
       "      <td>1</td>\n",
       "      <td>0</td>\n",
       "      <td>0</td>\n",
       "      <td>0</td>\n",
       "      <td>0</td>\n",
       "      <td>0</td>\n",
       "      <td>1</td>\n",
       "      <td>...</td>\n",
       "      <td>0</td>\n",
       "      <td>0</td>\n",
       "      <td>0</td>\n",
       "      <td>0</td>\n",
       "      <td>0</td>\n",
       "      <td>0</td>\n",
       "      <td>0</td>\n",
       "      <td>1</td>\n",
       "      <td>0</td>\n",
       "      <td>0</td>\n",
       "    </tr>\n",
       "    <tr>\n",
       "      <th>29</th>\n",
       "      <td>4.0</td>\n",
       "      <td>55.176198</td>\n",
       "      <td>0</td>\n",
       "      <td>1</td>\n",
       "      <td>0</td>\n",
       "      <td>0</td>\n",
       "      <td>0</td>\n",
       "      <td>0</td>\n",
       "      <td>0</td>\n",
       "      <td>1</td>\n",
       "      <td>...</td>\n",
       "      <td>0</td>\n",
       "      <td>0</td>\n",
       "      <td>0</td>\n",
       "      <td>0</td>\n",
       "      <td>0</td>\n",
       "      <td>0</td>\n",
       "      <td>1</td>\n",
       "      <td>0</td>\n",
       "      <td>0</td>\n",
       "      <td>0</td>\n",
       "    </tr>\n",
       "    <tr>\n",
       "      <th>55</th>\n",
       "      <td>8.0</td>\n",
       "      <td>38.666557</td>\n",
       "      <td>0</td>\n",
       "      <td>1</td>\n",
       "      <td>0</td>\n",
       "      <td>0</td>\n",
       "      <td>0</td>\n",
       "      <td>0</td>\n",
       "      <td>0</td>\n",
       "      <td>1</td>\n",
       "      <td>...</td>\n",
       "      <td>0</td>\n",
       "      <td>0</td>\n",
       "      <td>0</td>\n",
       "      <td>0</td>\n",
       "      <td>0</td>\n",
       "      <td>0</td>\n",
       "      <td>0</td>\n",
       "      <td>0</td>\n",
       "      <td>0</td>\n",
       "      <td>1</td>\n",
       "    </tr>\n",
       "    <tr>\n",
       "      <th>481</th>\n",
       "      <td>4.0</td>\n",
       "      <td>24.705718</td>\n",
       "      <td>0</td>\n",
       "      <td>1</td>\n",
       "      <td>0</td>\n",
       "      <td>0</td>\n",
       "      <td>0</td>\n",
       "      <td>0</td>\n",
       "      <td>0</td>\n",
       "      <td>1</td>\n",
       "      <td>...</td>\n",
       "      <td>0</td>\n",
       "      <td>0</td>\n",
       "      <td>0</td>\n",
       "      <td>0</td>\n",
       "      <td>0</td>\n",
       "      <td>0</td>\n",
       "      <td>0</td>\n",
       "      <td>0</td>\n",
       "      <td>0</td>\n",
       "      <td>1</td>\n",
       "    </tr>\n",
       "    <tr>\n",
       "      <th>331</th>\n",
       "      <td>6.0</td>\n",
       "      <td>31.862594</td>\n",
       "      <td>0</td>\n",
       "      <td>1</td>\n",
       "      <td>0</td>\n",
       "      <td>0</td>\n",
       "      <td>0</td>\n",
       "      <td>0</td>\n",
       "      <td>0</td>\n",
       "      <td>1</td>\n",
       "      <td>...</td>\n",
       "      <td>0</td>\n",
       "      <td>1</td>\n",
       "      <td>0</td>\n",
       "      <td>0</td>\n",
       "      <td>0</td>\n",
       "      <td>0</td>\n",
       "      <td>0</td>\n",
       "      <td>0</td>\n",
       "      <td>0</td>\n",
       "      <td>0</td>\n",
       "    </tr>\n",
       "    <tr>\n",
       "      <th>...</th>\n",
       "      <td>...</td>\n",
       "      <td>...</td>\n",
       "      <td>...</td>\n",
       "      <td>...</td>\n",
       "      <td>...</td>\n",
       "      <td>...</td>\n",
       "      <td>...</td>\n",
       "      <td>...</td>\n",
       "      <td>...</td>\n",
       "      <td>...</td>\n",
       "      <td>...</td>\n",
       "      <td>...</td>\n",
       "      <td>...</td>\n",
       "      <td>...</td>\n",
       "      <td>...</td>\n",
       "      <td>...</td>\n",
       "      <td>...</td>\n",
       "      <td>...</td>\n",
       "      <td>...</td>\n",
       "      <td>...</td>\n",
       "      <td>...</td>\n",
       "    </tr>\n",
       "    <tr>\n",
       "      <th>106</th>\n",
       "      <td>5.0</td>\n",
       "      <td>31.862594</td>\n",
       "      <td>0</td>\n",
       "      <td>1</td>\n",
       "      <td>0</td>\n",
       "      <td>0</td>\n",
       "      <td>0</td>\n",
       "      <td>0</td>\n",
       "      <td>0</td>\n",
       "      <td>1</td>\n",
       "      <td>...</td>\n",
       "      <td>0</td>\n",
       "      <td>1</td>\n",
       "      <td>0</td>\n",
       "      <td>0</td>\n",
       "      <td>0</td>\n",
       "      <td>0</td>\n",
       "      <td>0</td>\n",
       "      <td>0</td>\n",
       "      <td>0</td>\n",
       "      <td>0</td>\n",
       "    </tr>\n",
       "    <tr>\n",
       "      <th>270</th>\n",
       "      <td>7.0</td>\n",
       "      <td>52.451940</td>\n",
       "      <td>0</td>\n",
       "      <td>1</td>\n",
       "      <td>0</td>\n",
       "      <td>0</td>\n",
       "      <td>0</td>\n",
       "      <td>0</td>\n",
       "      <td>0</td>\n",
       "      <td>1</td>\n",
       "      <td>...</td>\n",
       "      <td>0</td>\n",
       "      <td>0</td>\n",
       "      <td>0</td>\n",
       "      <td>0</td>\n",
       "      <td>0</td>\n",
       "      <td>0</td>\n",
       "      <td>0</td>\n",
       "      <td>0</td>\n",
       "      <td>0</td>\n",
       "      <td>1</td>\n",
       "    </tr>\n",
       "    <tr>\n",
       "      <th>860</th>\n",
       "      <td>4.0</td>\n",
       "      <td>57.837874</td>\n",
       "      <td>0</td>\n",
       "      <td>0</td>\n",
       "      <td>1</td>\n",
       "      <td>0</td>\n",
       "      <td>0</td>\n",
       "      <td>0</td>\n",
       "      <td>0</td>\n",
       "      <td>1</td>\n",
       "      <td>...</td>\n",
       "      <td>0</td>\n",
       "      <td>0</td>\n",
       "      <td>0</td>\n",
       "      <td>0</td>\n",
       "      <td>0</td>\n",
       "      <td>0</td>\n",
       "      <td>1</td>\n",
       "      <td>0</td>\n",
       "      <td>0</td>\n",
       "      <td>0</td>\n",
       "    </tr>\n",
       "    <tr>\n",
       "      <th>435</th>\n",
       "      <td>4.0</td>\n",
       "      <td>35.952236</td>\n",
       "      <td>0</td>\n",
       "      <td>0</td>\n",
       "      <td>1</td>\n",
       "      <td>1</td>\n",
       "      <td>0</td>\n",
       "      <td>0</td>\n",
       "      <td>0</td>\n",
       "      <td>0</td>\n",
       "      <td>...</td>\n",
       "      <td>0</td>\n",
       "      <td>1</td>\n",
       "      <td>0</td>\n",
       "      <td>0</td>\n",
       "      <td>0</td>\n",
       "      <td>0</td>\n",
       "      <td>0</td>\n",
       "      <td>0</td>\n",
       "      <td>0</td>\n",
       "      <td>0</td>\n",
       "    </tr>\n",
       "    <tr>\n",
       "      <th>102</th>\n",
       "      <td>6.0</td>\n",
       "      <td>31.862594</td>\n",
       "      <td>0</td>\n",
       "      <td>1</td>\n",
       "      <td>0</td>\n",
       "      <td>0</td>\n",
       "      <td>0</td>\n",
       "      <td>0</td>\n",
       "      <td>0</td>\n",
       "      <td>1</td>\n",
       "      <td>...</td>\n",
       "      <td>0</td>\n",
       "      <td>1</td>\n",
       "      <td>0</td>\n",
       "      <td>0</td>\n",
       "      <td>0</td>\n",
       "      <td>0</td>\n",
       "      <td>0</td>\n",
       "      <td>0</td>\n",
       "      <td>0</td>\n",
       "      <td>0</td>\n",
       "    </tr>\n",
       "  </tbody>\n",
       "</table>\n",
       "<p>717 rows × 21 columns</p>\n",
       "</div>"
      ],
      "text/plain": [
       "     number_bedrooms   dist_gat  attached  detached  other  apartment  barn  \\\n",
       "357              4.0  22.072087         0         1      0          0     0   \n",
       "29               4.0  55.176198         0         1      0          0     0   \n",
       "55               8.0  38.666557         0         1      0          0     0   \n",
       "481              4.0  24.705718         0         1      0          0     0   \n",
       "331              6.0  31.862594         0         1      0          0     0   \n",
       "..               ...        ...       ...       ...    ...        ...   ...   \n",
       "106              5.0  31.862594         0         1      0          0     0   \n",
       "270              7.0  52.451940         0         1      0          0     0   \n",
       "860              4.0  57.837874         0         0      1          0     0   \n",
       "435              4.0  35.952236         0         0      1          1     0   \n",
       "102              6.0  31.862594         0         1      0          0     0   \n",
       "\n",
       "     bungalow  cottage  house  ...  villa  BN  CM  GU  IG  KT  PO  RH  SS  TN  \n",
       "357         0        0      1  ...      0   0   0   0   0   0   0   1   0   0  \n",
       "29          0        0      1  ...      0   0   0   0   0   0   1   0   0   0  \n",
       "55          0        0      1  ...      0   0   0   0   0   0   0   0   0   1  \n",
       "481         0        0      1  ...      0   0   0   0   0   0   0   0   0   1  \n",
       "331         0        0      1  ...      0   1   0   0   0   0   0   0   0   0  \n",
       "..        ...      ...    ...  ...    ...  ..  ..  ..  ..  ..  ..  ..  ..  ..  \n",
       "106         0        0      1  ...      0   1   0   0   0   0   0   0   0   0  \n",
       "270         0        0      1  ...      0   0   0   0   0   0   0   0   0   1  \n",
       "860         0        0      1  ...      0   0   0   0   0   0   1   0   0   0  \n",
       "435         0        0      0  ...      0   1   0   0   0   0   0   0   0   0  \n",
       "102         0        0      1  ...      0   1   0   0   0   0   0   0   0   0  \n",
       "\n",
       "[717 rows x 21 columns]"
      ]
     },
     "execution_count": 58,
     "metadata": {},
     "output_type": "execute_result"
    }
   ],
   "source": [
    "X_train"
   ]
  },
  {
   "cell_type": "code",
   "execution_count": 59,
   "metadata": {},
   "outputs": [],
   "source": [
    "from sklearn.model_selection import KFold\n",
    "\n",
    "kfolds = KFold(n_splits=4, shuffle=True, random_state=42)\n",
    "\n",
    "def rmsle(y_train, y_pred):\n",
    "    return np.sqrt(mean_squared_error(y, y_pred))\n",
    "\n",
    "def cv_rmse(model, X=X_train):\n",
    "    rmse = np.sqrt(-cross_val_score(model, X_train, y_train, scoring=\"neg_mean_squared_error\", cv=kfolds))\n",
    "    return (rmse)"
   ]
  },
  {
   "cell_type": "code",
   "execution_count": 60,
   "metadata": {},
   "outputs": [],
   "source": [
    "from datetime import datetime\n",
    "from scipy.stats import skew  # for some statistics\n",
    "from scipy.special import boxcox1p\n",
    "from scipy.stats import boxcox_normmax\n",
    "from sklearn.linear_model import ElasticNetCV, LassoCV, RidgeCV\n",
    "from sklearn.ensemble import GradientBoostingRegressor\n",
    "from sklearn.svm import SVR\n",
    "from sklearn.pipeline import make_pipeline\n",
    "from sklearn.preprocessing import RobustScaler\n",
    "from sklearn.model_selection import KFold, cross_val_score\n",
    "from sklearn.metrics import mean_squared_error\n",
    "from mlxtend.regressor import StackingCVRegressor\n",
    "from xgboost import XGBRegressor\n",
    "from lightgbm import LGBMRegressor\n",
    "import matplotlib.pyplot as plt\n",
    "import scipy.stats as stats\n",
    "import sklearn.linear_model as linear_model\n",
    "import seaborn as sns\n",
    "from sklearn.manifold import TSNE\n",
    "from sklearn.cluster import KMeans\n",
    "from sklearn.decomposition import PCA\n",
    "from sklearn.preprocessing import StandardScaler\n",
    "\n",
    "ridge = make_pipeline(RobustScaler(), RidgeCV(cv=kfolds))\n",
    "lasso = make_pipeline(RobustScaler(), LassoCV(random_state=42, cv=kfolds))\n",
    "elasticnet = make_pipeline(RobustScaler(), ElasticNetCV(cv=kfolds))                                \n",
    "svr = make_pipeline(RobustScaler(), SVR())"
   ]
  },
  {
   "cell_type": "code",
   "execution_count": 61,
   "metadata": {},
   "outputs": [],
   "source": [
    "gbr = GradientBoostingRegressor(loss='huber', random_state =42)"
   ]
  },
  {
   "cell_type": "code",
   "execution_count": 62,
   "metadata": {},
   "outputs": [],
   "source": [
    "lightgbm = LGBMRegressor(objective='regression', \n",
    "                                       verbose=-1,\n",
    "                                       )"
   ]
  },
  {
   "cell_type": "code",
   "execution_count": 63,
   "metadata": {},
   "outputs": [],
   "source": [
    "xgboost = XGBRegressor(objective='reg:linear')"
   ]
  },
  {
   "cell_type": "code",
   "execution_count": 64,
   "metadata": {},
   "outputs": [],
   "source": [
    "stack_gen = StackingCVRegressor(regressors=(ridge, lasso, elasticnet, gbr, xgboost, lightgbm),\n",
    "                                meta_regressor=xgboost,\n",
    "                                use_features_in_secondary=True)"
   ]
  },
  {
   "cell_type": "code",
   "execution_count": 65,
   "metadata": {},
   "outputs": [
    {
     "name": "stdout",
     "output_type": "stream",
     "text": [
      "LASSO: 0.3470 (0.0225)\n",
      " 2020-07-12 19:46:04.080354\n",
      "elastic net: 0.3466 (0.0219)\n",
      " 2020-07-12 19:46:04.347433\n",
      "SVR: 0.3536 (0.0247)\n",
      " 2020-07-12 19:46:04.463633\n",
      "lightgbm: 0.3573 (0.0137)\n",
      " 2020-07-12 19:46:04.602917\n",
      "gbr: 0.3403 (0.0167)\n",
      " 2020-07-12 19:46:05.358630\n",
      "[19:46:05] WARNING: /Users/travis/build/dmlc/xgboost/src/objective/regression_obj.cu:170: reg:linear is now deprecated in favor of reg:squarederror.\n",
      "[19:46:05] WARNING: /Users/travis/build/dmlc/xgboost/src/objective/regression_obj.cu:170: reg:linear is now deprecated in favor of reg:squarederror.\n",
      "[19:46:05] WARNING: /Users/travis/build/dmlc/xgboost/src/objective/regression_obj.cu:170: reg:linear is now deprecated in favor of reg:squarederror.\n",
      "[19:46:05] WARNING: /Users/travis/build/dmlc/xgboost/src/objective/regression_obj.cu:170: reg:linear is now deprecated in favor of reg:squarederror.\n",
      "[19:46:05] WARNING: /Users/travis/build/dmlc/xgboost/src/objective/regression_obj.cu:170: reg:linear is now deprecated in favor of reg:squarederror.\n",
      "[19:46:05] WARNING: /Users/travis/build/dmlc/xgboost/src/objective/regression_obj.cu:170: reg:linear is now deprecated in favor of reg:squarederror.\n",
      "[19:46:05] WARNING: /Users/travis/build/dmlc/xgboost/src/objective/regression_obj.cu:170: reg:linear is now deprecated in favor of reg:squarederror.\n",
      "[19:46:05] WARNING: /Users/travis/build/dmlc/xgboost/src/objective/regression_obj.cu:170: reg:linear is now deprecated in favor of reg:squarederror.\n",
      "xgboost: 0.3722 (0.0234)\n",
      " 2020-07-12 19:46:05.585289\n"
     ]
    }
   ],
   "source": [
    "score = cv_rmse(ridge)\n",
    "score = cv_rmse(lasso)\n",
    "print(\"LASSO: {:.4f} ({:.4f})\\n\".format(score.mean(), score.std()), datetime.now(), )\n",
    "\n",
    "score = cv_rmse(elasticnet)\n",
    "print(\"elastic net: {:.4f} ({:.4f})\\n\".format(score.mean(), score.std()), datetime.now(), )\n",
    "\n",
    "score = cv_rmse(svr)\n",
    "print(\"SVR: {:.4f} ({:.4f})\\n\".format(score.mean(), score.std()), datetime.now(), )\n",
    "\n",
    "score = cv_rmse(lightgbm)\n",
    "print(\"lightgbm: {:.4f} ({:.4f})\\n\".format(score.mean(), score.std()), datetime.now(), )\n",
    "\n",
    "score = cv_rmse(gbr)\n",
    "print(\"gbr: {:.4f} ({:.4f})\\n\".format(score.mean(), score.std()), datetime.now(), )\n",
    "\n",
    "score = cv_rmse(xgboost)\n",
    "print(\"xgboost: {:.4f} ({:.4f})\\n\".format(score.mean(), score.std()), datetime.now(), )"
   ]
  },
  {
   "cell_type": "code",
   "execution_count": 66,
   "metadata": {},
   "outputs": [
    {
     "name": "stdout",
     "output_type": "stream",
     "text": [
      "START Fit\n",
      "stack_gen\n",
      "[19:46:07] WARNING: /Users/travis/build/dmlc/xgboost/src/objective/regression_obj.cu:170: reg:linear is now deprecated in favor of reg:squarederror.\n",
      "[19:46:07] WARNING: /Users/travis/build/dmlc/xgboost/src/objective/regression_obj.cu:170: reg:linear is now deprecated in favor of reg:squarederror.\n",
      "[19:46:07] WARNING: /Users/travis/build/dmlc/xgboost/src/objective/regression_obj.cu:170: reg:linear is now deprecated in favor of reg:squarederror.\n",
      "[19:46:07] WARNING: /Users/travis/build/dmlc/xgboost/src/objective/regression_obj.cu:170: reg:linear is now deprecated in favor of reg:squarederror.\n",
      "[19:46:07] WARNING: /Users/travis/build/dmlc/xgboost/src/objective/regression_obj.cu:170: reg:linear is now deprecated in favor of reg:squarederror.\n",
      "[19:46:07] WARNING: /Users/travis/build/dmlc/xgboost/src/objective/regression_obj.cu:170: reg:linear is now deprecated in favor of reg:squarederror.\n",
      "[19:46:07] WARNING: /Users/travis/build/dmlc/xgboost/src/objective/regression_obj.cu:170: reg:linear is now deprecated in favor of reg:squarederror.\n",
      "[19:46:07] WARNING: /Users/travis/build/dmlc/xgboost/src/objective/regression_obj.cu:170: reg:linear is now deprecated in favor of reg:squarederror.\n",
      "[19:46:07] WARNING: /Users/travis/build/dmlc/xgboost/src/objective/regression_obj.cu:170: reg:linear is now deprecated in favor of reg:squarederror.\n",
      "[19:46:07] WARNING: /Users/travis/build/dmlc/xgboost/src/objective/regression_obj.cu:170: reg:linear is now deprecated in favor of reg:squarederror.\n",
      "[19:46:08] WARNING: /Users/travis/build/dmlc/xgboost/src/objective/regression_obj.cu:170: reg:linear is now deprecated in favor of reg:squarederror.\n",
      "[19:46:08] WARNING: /Users/travis/build/dmlc/xgboost/src/objective/regression_obj.cu:170: reg:linear is now deprecated in favor of reg:squarederror.\n",
      "[19:46:08] WARNING: /Users/travis/build/dmlc/xgboost/src/objective/regression_obj.cu:170: reg:linear is now deprecated in favor of reg:squarederror.\n",
      "[19:46:08] WARNING: /Users/travis/build/dmlc/xgboost/src/objective/regression_obj.cu:170: reg:linear is now deprecated in favor of reg:squarederror.\n",
      "elasticnet\n",
      "Lasso\n",
      "Ridge\n",
      "Svr\n",
      "GradientBoosting\n",
      "X_traingboost\n",
      "[19:46:09] WARNING: /Users/travis/build/dmlc/xgboost/src/objective/regression_obj.cu:170: reg:linear is now deprecated in favor of reg:squarederror.\n",
      "[19:46:09] WARNING: /Users/travis/build/dmlc/xgboost/src/objective/regression_obj.cu:170: reg:linear is now deprecated in favor of reg:squarederror.\n",
      "lightgbm\n"
     ]
    }
   ],
   "source": [
    "print('START Fit')\n",
    "\n",
    "print('stack_gen')\n",
    "stack_gen_model = stack_gen.fit(np.array(X_train), np.array(y_train))\n",
    "\n",
    "print('elasticnet')\n",
    "elastic_model_full_data = elasticnet.fit(X_train, y_train)\n",
    "\n",
    "print('Lasso')\n",
    "lasso_model_full_data = lasso.fit(X_train, y_train)\n",
    "\n",
    "print('Ridge')\n",
    "ridge_model_full_data = ridge.fit(X_train, y_train)\n",
    "\n",
    "print('Svr')\n",
    "svr_model_full_data = svr.fit(X_train, y_train)\n",
    "\n",
    "print('GradientBoosting')\n",
    "gbr_model_full_data = gbr.fit(X_train, y_train)\n",
    "\n",
    "print('X_traingboost')\n",
    "xgb_model_full_data = xgboost.fit(X_train, y_train)\n",
    "\n",
    "print('lightgbm')\n",
    "lgb_model_full_data = lightgbm.fit(X_train, y_train)"
   ]
  },
  {
   "cell_type": "code",
   "execution_count": 67,
   "metadata": {},
   "outputs": [],
   "source": [
    "model = gbr_model_full_data"
   ]
  },
  {
   "cell_type": "code",
   "execution_count": 68,
   "metadata": {},
   "outputs": [],
   "source": [
    "y_pr = model.predict(X_train)"
   ]
  },
  {
   "cell_type": "code",
   "execution_count": 69,
   "metadata": {},
   "outputs": [
    {
     "data": {
      "text/plain": [
       "<matplotlib.axes._subplots.AxesSubplot at 0x128bcc1d0>"
      ]
     },
     "execution_count": 69,
     "metadata": {},
     "output_type": "execute_result"
    },
    {
     "data": {
      "image/png": "[encoded data removed]",
      "text/plain": [
       "<Figure size 432x288 with 1 Axes>"
      ]
     },
     "metadata": {},
     "output_type": "display_data"
    }
   ],
   "source": [
    "sns.distplot(y_train, hist=False, rug=True)\n",
    "sns.distplot(y_pr, hist=False, rug=True)"
   ]
  },
  {
   "cell_type": "code",
   "execution_count": 70,
   "metadata": {},
   "outputs": [
    {
     "data": {
      "text/plain": [
       "<matplotlib.axes._subplots.AxesSubplot at 0x128bcc190>"
      ]
     },
     "execution_count": 70,
     "metadata": {},
     "output_type": "execute_result"
    },
    {
     "data": {
      "image/png": "[encoded data removed]",
      "text/plain": [
       "<Figure size 432x288 with 1 Axes>"
      ]
     },
     "metadata": {},
     "output_type": "display_data"
    }
   ],
   "source": [
    "y_pred = model.predict(X_test)\n",
    "sns.distplot(y_test, hist=False, rug=True)\n",
    "sns.distplot(y_pred, hist=False, rug=True)"
   ]
  },
  {
   "cell_type": "code",
   "execution_count": 71,
   "metadata": {},
   "outputs": [
    {
     "data": {
      "text/plain": [
       "number_bedrooms     4.000000\n",
       "dist_gat           22.072087\n",
       "attached            0.000000\n",
       "detached            1.000000\n",
       "other               0.000000\n",
       "apartment           0.000000\n",
       "barn                0.000000\n",
       "bungalow            0.000000\n",
       "cottage             0.000000\n",
       "house               1.000000\n",
       "penthouse           0.000000\n",
       "villa               0.000000\n",
       "BN                  0.000000\n",
       "CM                  0.000000\n",
       "GU                  0.000000\n",
       "IG                  0.000000\n",
       "KT                  0.000000\n",
       "PO                  0.000000\n",
       "RH                  1.000000\n",
       "SS                  0.000000\n",
       "TN                  0.000000\n",
       "Name: 357, dtype: float64"
      ]
     },
     "execution_count": 71,
     "metadata": {},
     "output_type": "execute_result"
    }
   ],
   "source": [
    "import sys\n",
    "np.set_printoptions(threshold=sys.maxsize)\n",
    "\n",
    "X_train.iloc[0]"
   ]
  },
  {
   "cell_type": "code",
   "execution_count": 72,
   "metadata": {},
   "outputs": [
    {
     "data": {
      "text/plain": [
       "21"
      ]
     },
     "execution_count": 72,
     "metadata": {},
     "output_type": "execute_result"
    }
   ],
   "source": [
    "new = [4,pgeocode.GeoDistance('GB').query_postal_code('RH10 4JJ', 'RH6 0NP'), 0,1,0,0,0,0,0,1,0,0,0,0,0,0,0,0,1,0,0]\n",
    "#model.predict(new)\n",
    "len(new)"
   ]
  },
  {
   "cell_type": "code",
   "execution_count": 73,
   "metadata": {},
   "outputs": [
    {
     "data": {
      "text/html": [
       "<div>\n",
       "<style scoped>\n",
       "    .dataframe tbody tr th:only-of-type {\n",
       "        vertical-align: middle;\n",
       "    }\n",
       "\n",
       "    .dataframe tbody tr th {\n",
       "        vertical-align: top;\n",
       "    }\n",
       "\n",
       "    .dataframe thead th {\n",
       "        text-align: right;\n",
       "    }\n",
       "</style>\n",
       "<table border=\"1\" class=\"dataframe\">\n",
       "  <thead>\n",
       "    <tr style=\"text-align: right;\">\n",
       "      <th></th>\n",
       "      <th>number_bedrooms</th>\n",
       "      <th>dist_gat</th>\n",
       "      <th>attached</th>\n",
       "      <th>detached</th>\n",
       "      <th>other</th>\n",
       "      <th>apartment</th>\n",
       "      <th>barn</th>\n",
       "      <th>bungalow</th>\n",
       "      <th>cottage</th>\n",
       "      <th>house</th>\n",
       "      <th>...</th>\n",
       "      <th>villa</th>\n",
       "      <th>BN</th>\n",
       "      <th>CM</th>\n",
       "      <th>GU</th>\n",
       "      <th>IG</th>\n",
       "      <th>KT</th>\n",
       "      <th>PO</th>\n",
       "      <th>RH</th>\n",
       "      <th>SS</th>\n",
       "      <th>TN</th>\n",
       "    </tr>\n",
       "  </thead>\n",
       "  <tbody>\n",
       "    <tr>\n",
       "      <th>835</th>\n",
       "      <td>5.0</td>\n",
       "      <td>40.870195</td>\n",
       "      <td>0</td>\n",
       "      <td>1</td>\n",
       "      <td>0</td>\n",
       "      <td>0</td>\n",
       "      <td>0</td>\n",
       "      <td>0</td>\n",
       "      <td>0</td>\n",
       "      <td>1</td>\n",
       "      <td>...</td>\n",
       "      <td>0</td>\n",
       "      <td>1</td>\n",
       "      <td>0</td>\n",
       "      <td>0</td>\n",
       "      <td>0</td>\n",
       "      <td>0</td>\n",
       "      <td>0</td>\n",
       "      <td>0</td>\n",
       "      <td>0</td>\n",
       "      <td>0</td>\n",
       "    </tr>\n",
       "    <tr>\n",
       "      <th>477</th>\n",
       "      <td>5.0</td>\n",
       "      <td>17.950947</td>\n",
       "      <td>0</td>\n",
       "      <td>1</td>\n",
       "      <td>0</td>\n",
       "      <td>0</td>\n",
       "      <td>0</td>\n",
       "      <td>0</td>\n",
       "      <td>0</td>\n",
       "      <td>1</td>\n",
       "      <td>...</td>\n",
       "      <td>0</td>\n",
       "      <td>0</td>\n",
       "      <td>0</td>\n",
       "      <td>0</td>\n",
       "      <td>0</td>\n",
       "      <td>0</td>\n",
       "      <td>0</td>\n",
       "      <td>1</td>\n",
       "      <td>0</td>\n",
       "      <td>0</td>\n",
       "    </tr>\n",
       "    <tr>\n",
       "      <th>350</th>\n",
       "      <td>5.0</td>\n",
       "      <td>19.724686</td>\n",
       "      <td>1</td>\n",
       "      <td>0</td>\n",
       "      <td>0</td>\n",
       "      <td>0</td>\n",
       "      <td>0</td>\n",
       "      <td>0</td>\n",
       "      <td>0</td>\n",
       "      <td>1</td>\n",
       "      <td>...</td>\n",
       "      <td>0</td>\n",
       "      <td>0</td>\n",
       "      <td>0</td>\n",
       "      <td>0</td>\n",
       "      <td>0</td>\n",
       "      <td>0</td>\n",
       "      <td>0</td>\n",
       "      <td>0</td>\n",
       "      <td>0</td>\n",
       "      <td>1</td>\n",
       "    </tr>\n",
       "    <tr>\n",
       "      <th>890</th>\n",
       "      <td>4.0</td>\n",
       "      <td>22.072087</td>\n",
       "      <td>0</td>\n",
       "      <td>1</td>\n",
       "      <td>0</td>\n",
       "      <td>0</td>\n",
       "      <td>0</td>\n",
       "      <td>0</td>\n",
       "      <td>0</td>\n",
       "      <td>1</td>\n",
       "      <td>...</td>\n",
       "      <td>0</td>\n",
       "      <td>0</td>\n",
       "      <td>0</td>\n",
       "      <td>0</td>\n",
       "      <td>0</td>\n",
       "      <td>0</td>\n",
       "      <td>0</td>\n",
       "      <td>1</td>\n",
       "      <td>0</td>\n",
       "      <td>0</td>\n",
       "    </tr>\n",
       "    <tr>\n",
       "      <th>854</th>\n",
       "      <td>5.0</td>\n",
       "      <td>55.176198</td>\n",
       "      <td>0</td>\n",
       "      <td>0</td>\n",
       "      <td>1</td>\n",
       "      <td>0</td>\n",
       "      <td>0</td>\n",
       "      <td>1</td>\n",
       "      <td>0</td>\n",
       "      <td>0</td>\n",
       "      <td>...</td>\n",
       "      <td>0</td>\n",
       "      <td>0</td>\n",
       "      <td>0</td>\n",
       "      <td>0</td>\n",
       "      <td>0</td>\n",
       "      <td>0</td>\n",
       "      <td>1</td>\n",
       "      <td>0</td>\n",
       "      <td>0</td>\n",
       "      <td>0</td>\n",
       "    </tr>\n",
       "    <tr>\n",
       "      <th>...</th>\n",
       "      <td>...</td>\n",
       "      <td>...</td>\n",
       "      <td>...</td>\n",
       "      <td>...</td>\n",
       "      <td>...</td>\n",
       "      <td>...</td>\n",
       "      <td>...</td>\n",
       "      <td>...</td>\n",
       "      <td>...</td>\n",
       "      <td>...</td>\n",
       "      <td>...</td>\n",
       "      <td>...</td>\n",
       "      <td>...</td>\n",
       "      <td>...</td>\n",
       "      <td>...</td>\n",
       "      <td>...</td>\n",
       "      <td>...</td>\n",
       "      <td>...</td>\n",
       "      <td>...</td>\n",
       "      <td>...</td>\n",
       "      <td>...</td>\n",
       "    </tr>\n",
       "    <tr>\n",
       "      <th>497</th>\n",
       "      <td>5.0</td>\n",
       "      <td>42.737883</td>\n",
       "      <td>0</td>\n",
       "      <td>1</td>\n",
       "      <td>0</td>\n",
       "      <td>0</td>\n",
       "      <td>0</td>\n",
       "      <td>0</td>\n",
       "      <td>0</td>\n",
       "      <td>1</td>\n",
       "      <td>...</td>\n",
       "      <td>0</td>\n",
       "      <td>1</td>\n",
       "      <td>0</td>\n",
       "      <td>0</td>\n",
       "      <td>0</td>\n",
       "      <td>0</td>\n",
       "      <td>0</td>\n",
       "      <td>0</td>\n",
       "      <td>0</td>\n",
       "      <td>0</td>\n",
       "    </tr>\n",
       "    <tr>\n",
       "      <th>519</th>\n",
       "      <td>5.0</td>\n",
       "      <td>17.950947</td>\n",
       "      <td>0</td>\n",
       "      <td>1</td>\n",
       "      <td>0</td>\n",
       "      <td>0</td>\n",
       "      <td>0</td>\n",
       "      <td>0</td>\n",
       "      <td>0</td>\n",
       "      <td>1</td>\n",
       "      <td>...</td>\n",
       "      <td>0</td>\n",
       "      <td>0</td>\n",
       "      <td>0</td>\n",
       "      <td>0</td>\n",
       "      <td>0</td>\n",
       "      <td>0</td>\n",
       "      <td>0</td>\n",
       "      <td>1</td>\n",
       "      <td>0</td>\n",
       "      <td>0</td>\n",
       "    </tr>\n",
       "    <tr>\n",
       "      <th>453</th>\n",
       "      <td>5.0</td>\n",
       "      <td>40.870195</td>\n",
       "      <td>0</td>\n",
       "      <td>1</td>\n",
       "      <td>0</td>\n",
       "      <td>0</td>\n",
       "      <td>0</td>\n",
       "      <td>0</td>\n",
       "      <td>0</td>\n",
       "      <td>1</td>\n",
       "      <td>...</td>\n",
       "      <td>0</td>\n",
       "      <td>1</td>\n",
       "      <td>0</td>\n",
       "      <td>0</td>\n",
       "      <td>0</td>\n",
       "      <td>0</td>\n",
       "      <td>0</td>\n",
       "      <td>0</td>\n",
       "      <td>0</td>\n",
       "      <td>0</td>\n",
       "    </tr>\n",
       "    <tr>\n",
       "      <th>118</th>\n",
       "      <td>8.0</td>\n",
       "      <td>40.870195</td>\n",
       "      <td>0</td>\n",
       "      <td>1</td>\n",
       "      <td>0</td>\n",
       "      <td>0</td>\n",
       "      <td>0</td>\n",
       "      <td>0</td>\n",
       "      <td>0</td>\n",
       "      <td>1</td>\n",
       "      <td>...</td>\n",
       "      <td>0</td>\n",
       "      <td>1</td>\n",
       "      <td>0</td>\n",
       "      <td>0</td>\n",
       "      <td>0</td>\n",
       "      <td>0</td>\n",
       "      <td>0</td>\n",
       "      <td>0</td>\n",
       "      <td>0</td>\n",
       "      <td>0</td>\n",
       "    </tr>\n",
       "    <tr>\n",
       "      <th>346</th>\n",
       "      <td>6.0</td>\n",
       "      <td>5.990720</td>\n",
       "      <td>0</td>\n",
       "      <td>1</td>\n",
       "      <td>0</td>\n",
       "      <td>0</td>\n",
       "      <td>0</td>\n",
       "      <td>0</td>\n",
       "      <td>0</td>\n",
       "      <td>1</td>\n",
       "      <td>...</td>\n",
       "      <td>0</td>\n",
       "      <td>0</td>\n",
       "      <td>0</td>\n",
       "      <td>0</td>\n",
       "      <td>0</td>\n",
       "      <td>0</td>\n",
       "      <td>0</td>\n",
       "      <td>1</td>\n",
       "      <td>0</td>\n",
       "      <td>0</td>\n",
       "    </tr>\n",
       "  </tbody>\n",
       "</table>\n",
       "<p>240 rows × 21 columns</p>\n",
       "</div>"
      ],
      "text/plain": [
       "     number_bedrooms   dist_gat  attached  detached  other  apartment  barn  \\\n",
       "835              5.0  40.870195         0         1      0          0     0   \n",
       "477              5.0  17.950947         0         1      0          0     0   \n",
       "350              5.0  19.724686         1         0      0          0     0   \n",
       "890              4.0  22.072087         0         1      0          0     0   \n",
       "854              5.0  55.176198         0         0      1          0     0   \n",
       "..               ...        ...       ...       ...    ...        ...   ...   \n",
       "497              5.0  42.737883         0         1      0          0     0   \n",
       "519              5.0  17.950947         0         1      0          0     0   \n",
       "453              5.0  40.870195         0         1      0          0     0   \n",
       "118              8.0  40.870195         0         1      0          0     0   \n",
       "346              6.0   5.990720         0         1      0          0     0   \n",
       "\n",
       "     bungalow  cottage  house  ...  villa  BN  CM  GU  IG  KT  PO  RH  SS  TN  \n",
       "835         0        0      1  ...      0   1   0   0   0   0   0   0   0   0  \n",
       "477         0        0      1  ...      0   0   0   0   0   0   0   1   0   0  \n",
       "350         0        0      1  ...      0   0   0   0   0   0   0   0   0   1  \n",
       "890         0        0      1  ...      0   0   0   0   0   0   0   1   0   0  \n",
       "854         1        0      0  ...      0   0   0   0   0   0   1   0   0   0  \n",
       "..        ...      ...    ...  ...    ...  ..  ..  ..  ..  ..  ..  ..  ..  ..  \n",
       "497         0        0      1  ...      0   1   0   0   0   0   0   0   0   0  \n",
       "519         0        0      1  ...      0   0   0   0   0   0   0   1   0   0  \n",
       "453         0        0      1  ...      0   1   0   0   0   0   0   0   0   0  \n",
       "118         0        0      1  ...      0   1   0   0   0   0   0   0   0   0  \n",
       "346         0        0      1  ...      0   0   0   0   0   0   0   1   0   0  \n",
       "\n",
       "[240 rows x 21 columns]"
      ]
     },
     "execution_count": 73,
     "metadata": {},
     "output_type": "execute_result"
    }
   ],
   "source": [
    "X_test"
   ]
  },
  {
   "cell_type": "code",
   "execution_count": 74,
   "metadata": {},
   "outputs": [
    {
     "name": "stderr",
     "output_type": "stream",
     "text": [
      "/Users/patrickfahy99/opt/anaconda3/lib/python3.7/site-packages/pandas/core/indexing.py:671: SettingWithCopyWarning: \n",
      "A value is trying to be set on a copy of a slice from a DataFrame\n",
      "\n",
      "See the caveats in the documentation: https://pandas.pydata.org/pandas-docs/stable/user_guide/indexing.html#returning-a-view-versus-a-copy\n",
      "  self._setitem_with_indexer(indexer, value)\n"
     ]
    }
   ],
   "source": [
    "X_test.loc[240] = new"
   ]
  },
  {
   "cell_type": "code",
   "execution_count": 75,
   "metadata": {},
   "outputs": [
    {
     "data": {
      "text/html": [
       "<div>\n",
       "<style scoped>\n",
       "    .dataframe tbody tr th:only-of-type {\n",
       "        vertical-align: middle;\n",
       "    }\n",
       "\n",
       "    .dataframe tbody tr th {\n",
       "        vertical-align: top;\n",
       "    }\n",
       "\n",
       "    .dataframe thead th {\n",
       "        text-align: right;\n",
       "    }\n",
       "</style>\n",
       "<table border=\"1\" class=\"dataframe\">\n",
       "  <thead>\n",
       "    <tr style=\"text-align: right;\">\n",
       "      <th></th>\n",
       "      <th>number_bedrooms</th>\n",
       "      <th>dist_gat</th>\n",
       "      <th>attached</th>\n",
       "      <th>detached</th>\n",
       "      <th>other</th>\n",
       "      <th>apartment</th>\n",
       "      <th>barn</th>\n",
       "      <th>bungalow</th>\n",
       "      <th>cottage</th>\n",
       "      <th>house</th>\n",
       "      <th>...</th>\n",
       "      <th>villa</th>\n",
       "      <th>BN</th>\n",
       "      <th>CM</th>\n",
       "      <th>GU</th>\n",
       "      <th>IG</th>\n",
       "      <th>KT</th>\n",
       "      <th>PO</th>\n",
       "      <th>RH</th>\n",
       "      <th>SS</th>\n",
       "      <th>TN</th>\n",
       "    </tr>\n",
       "  </thead>\n",
       "  <tbody>\n",
       "    <tr>\n",
       "      <th>835</th>\n",
       "      <td>5.0</td>\n",
       "      <td>40.870195</td>\n",
       "      <td>0.0</td>\n",
       "      <td>1.0</td>\n",
       "      <td>0.0</td>\n",
       "      <td>0.0</td>\n",
       "      <td>0.0</td>\n",
       "      <td>0.0</td>\n",
       "      <td>0.0</td>\n",
       "      <td>1.0</td>\n",
       "      <td>...</td>\n",
       "      <td>0.0</td>\n",
       "      <td>1.0</td>\n",
       "      <td>0.0</td>\n",
       "      <td>0.0</td>\n",
       "      <td>0.0</td>\n",
       "      <td>0.0</td>\n",
       "      <td>0.0</td>\n",
       "      <td>0.0</td>\n",
       "      <td>0.0</td>\n",
       "      <td>0.0</td>\n",
       "    </tr>\n",
       "    <tr>\n",
       "      <th>477</th>\n",
       "      <td>5.0</td>\n",
       "      <td>17.950947</td>\n",
       "      <td>0.0</td>\n",
       "      <td>1.0</td>\n",
       "      <td>0.0</td>\n",
       "      <td>0.0</td>\n",
       "      <td>0.0</td>\n",
       "      <td>0.0</td>\n",
       "      <td>0.0</td>\n",
       "      <td>1.0</td>\n",
       "      <td>...</td>\n",
       "      <td>0.0</td>\n",
       "      <td>0.0</td>\n",
       "      <td>0.0</td>\n",
       "      <td>0.0</td>\n",
       "      <td>0.0</td>\n",
       "      <td>0.0</td>\n",
       "      <td>0.0</td>\n",
       "      <td>1.0</td>\n",
       "      <td>0.0</td>\n",
       "      <td>0.0</td>\n",
       "    </tr>\n",
       "    <tr>\n",
       "      <th>350</th>\n",
       "      <td>5.0</td>\n",
       "      <td>19.724686</td>\n",
       "      <td>1.0</td>\n",
       "      <td>0.0</td>\n",
       "      <td>0.0</td>\n",
       "      <td>0.0</td>\n",
       "      <td>0.0</td>\n",
       "      <td>0.0</td>\n",
       "      <td>0.0</td>\n",
       "      <td>1.0</td>\n",
       "      <td>...</td>\n",
       "      <td>0.0</td>\n",
       "      <td>0.0</td>\n",
       "      <td>0.0</td>\n",
       "      <td>0.0</td>\n",
       "      <td>0.0</td>\n",
       "      <td>0.0</td>\n",
       "      <td>0.0</td>\n",
       "      <td>0.0</td>\n",
       "      <td>0.0</td>\n",
       "      <td>1.0</td>\n",
       "    </tr>\n",
       "    <tr>\n",
       "      <th>890</th>\n",
       "      <td>4.0</td>\n",
       "      <td>22.072087</td>\n",
       "      <td>0.0</td>\n",
       "      <td>1.0</td>\n",
       "      <td>0.0</td>\n",
       "      <td>0.0</td>\n",
       "      <td>0.0</td>\n",
       "      <td>0.0</td>\n",
       "      <td>0.0</td>\n",
       "      <td>1.0</td>\n",
       "      <td>...</td>\n",
       "      <td>0.0</td>\n",
       "      <td>0.0</td>\n",
       "      <td>0.0</td>\n",
       "      <td>0.0</td>\n",
       "      <td>0.0</td>\n",
       "      <td>0.0</td>\n",
       "      <td>0.0</td>\n",
       "      <td>1.0</td>\n",
       "      <td>0.0</td>\n",
       "      <td>0.0</td>\n",
       "    </tr>\n",
       "    <tr>\n",
       "      <th>854</th>\n",
       "      <td>5.0</td>\n",
       "      <td>55.176198</td>\n",
       "      <td>0.0</td>\n",
       "      <td>0.0</td>\n",
       "      <td>1.0</td>\n",
       "      <td>0.0</td>\n",
       "      <td>0.0</td>\n",
       "      <td>1.0</td>\n",
       "      <td>0.0</td>\n",
       "      <td>0.0</td>\n",
       "      <td>...</td>\n",
       "      <td>0.0</td>\n",
       "      <td>0.0</td>\n",
       "      <td>0.0</td>\n",
       "      <td>0.0</td>\n",
       "      <td>0.0</td>\n",
       "      <td>0.0</td>\n",
       "      <td>1.0</td>\n",
       "      <td>0.0</td>\n",
       "      <td>0.0</td>\n",
       "      <td>0.0</td>\n",
       "    </tr>\n",
       "    <tr>\n",
       "      <th>...</th>\n",
       "      <td>...</td>\n",
       "      <td>...</td>\n",
       "      <td>...</td>\n",
       "      <td>...</td>\n",
       "      <td>...</td>\n",
       "      <td>...</td>\n",
       "      <td>...</td>\n",
       "      <td>...</td>\n",
       "      <td>...</td>\n",
       "      <td>...</td>\n",
       "      <td>...</td>\n",
       "      <td>...</td>\n",
       "      <td>...</td>\n",
       "      <td>...</td>\n",
       "      <td>...</td>\n",
       "      <td>...</td>\n",
       "      <td>...</td>\n",
       "      <td>...</td>\n",
       "      <td>...</td>\n",
       "      <td>...</td>\n",
       "      <td>...</td>\n",
       "    </tr>\n",
       "    <tr>\n",
       "      <th>519</th>\n",
       "      <td>5.0</td>\n",
       "      <td>17.950947</td>\n",
       "      <td>0.0</td>\n",
       "      <td>1.0</td>\n",
       "      <td>0.0</td>\n",
       "      <td>0.0</td>\n",
       "      <td>0.0</td>\n",
       "      <td>0.0</td>\n",
       "      <td>0.0</td>\n",
       "      <td>1.0</td>\n",
       "      <td>...</td>\n",
       "      <td>0.0</td>\n",
       "      <td>0.0</td>\n",
       "      <td>0.0</td>\n",
       "      <td>0.0</td>\n",
       "      <td>0.0</td>\n",
       "      <td>0.0</td>\n",
       "      <td>0.0</td>\n",
       "      <td>1.0</td>\n",
       "      <td>0.0</td>\n",
       "      <td>0.0</td>\n",
       "    </tr>\n",
       "    <tr>\n",
       "      <th>453</th>\n",
       "      <td>5.0</td>\n",
       "      <td>40.870195</td>\n",
       "      <td>0.0</td>\n",
       "      <td>1.0</td>\n",
       "      <td>0.0</td>\n",
       "      <td>0.0</td>\n",
       "      <td>0.0</td>\n",
       "      <td>0.0</td>\n",
       "      <td>0.0</td>\n",
       "      <td>1.0</td>\n",
       "      <td>...</td>\n",
       "      <td>0.0</td>\n",
       "      <td>1.0</td>\n",
       "      <td>0.0</td>\n",
       "      <td>0.0</td>\n",
       "      <td>0.0</td>\n",
       "      <td>0.0</td>\n",
       "      <td>0.0</td>\n",
       "      <td>0.0</td>\n",
       "      <td>0.0</td>\n",
       "      <td>0.0</td>\n",
       "    </tr>\n",
       "    <tr>\n",
       "      <th>118</th>\n",
       "      <td>8.0</td>\n",
       "      <td>40.870195</td>\n",
       "      <td>0.0</td>\n",
       "      <td>1.0</td>\n",
       "      <td>0.0</td>\n",
       "      <td>0.0</td>\n",
       "      <td>0.0</td>\n",
       "      <td>0.0</td>\n",
       "      <td>0.0</td>\n",
       "      <td>1.0</td>\n",
       "      <td>...</td>\n",
       "      <td>0.0</td>\n",
       "      <td>1.0</td>\n",
       "      <td>0.0</td>\n",
       "      <td>0.0</td>\n",
       "      <td>0.0</td>\n",
       "      <td>0.0</td>\n",
       "      <td>0.0</td>\n",
       "      <td>0.0</td>\n",
       "      <td>0.0</td>\n",
       "      <td>0.0</td>\n",
       "    </tr>\n",
       "    <tr>\n",
       "      <th>346</th>\n",
       "      <td>6.0</td>\n",
       "      <td>5.990720</td>\n",
       "      <td>0.0</td>\n",
       "      <td>1.0</td>\n",
       "      <td>0.0</td>\n",
       "      <td>0.0</td>\n",
       "      <td>0.0</td>\n",
       "      <td>0.0</td>\n",
       "      <td>0.0</td>\n",
       "      <td>1.0</td>\n",
       "      <td>...</td>\n",
       "      <td>0.0</td>\n",
       "      <td>0.0</td>\n",
       "      <td>0.0</td>\n",
       "      <td>0.0</td>\n",
       "      <td>0.0</td>\n",
       "      <td>0.0</td>\n",
       "      <td>0.0</td>\n",
       "      <td>1.0</td>\n",
       "      <td>0.0</td>\n",
       "      <td>0.0</td>\n",
       "    </tr>\n",
       "    <tr>\n",
       "      <th>240</th>\n",
       "      <td>4.0</td>\n",
       "      <td>5.159449</td>\n",
       "      <td>0.0</td>\n",
       "      <td>1.0</td>\n",
       "      <td>0.0</td>\n",
       "      <td>0.0</td>\n",
       "      <td>0.0</td>\n",
       "      <td>0.0</td>\n",
       "      <td>0.0</td>\n",
       "      <td>1.0</td>\n",
       "      <td>...</td>\n",
       "      <td>0.0</td>\n",
       "      <td>0.0</td>\n",
       "      <td>0.0</td>\n",
       "      <td>0.0</td>\n",
       "      <td>0.0</td>\n",
       "      <td>0.0</td>\n",
       "      <td>0.0</td>\n",
       "      <td>1.0</td>\n",
       "      <td>0.0</td>\n",
       "      <td>0.0</td>\n",
       "    </tr>\n",
       "  </tbody>\n",
       "</table>\n",
       "<p>241 rows × 21 columns</p>\n",
       "</div>"
      ],
      "text/plain": [
       "     number_bedrooms   dist_gat  attached  detached  other  apartment  barn  \\\n",
       "835              5.0  40.870195       0.0       1.0    0.0        0.0   0.0   \n",
       "477              5.0  17.950947       0.0       1.0    0.0        0.0   0.0   \n",
       "350              5.0  19.724686       1.0       0.0    0.0        0.0   0.0   \n",
       "890              4.0  22.072087       0.0       1.0    0.0        0.0   0.0   \n",
       "854              5.0  55.176198       0.0       0.0    1.0        0.0   0.0   \n",
       "..               ...        ...       ...       ...    ...        ...   ...   \n",
       "519              5.0  17.950947       0.0       1.0    0.0        0.0   0.0   \n",
       "453              5.0  40.870195       0.0       1.0    0.0        0.0   0.0   \n",
       "118              8.0  40.870195       0.0       1.0    0.0        0.0   0.0   \n",
       "346              6.0   5.990720       0.0       1.0    0.0        0.0   0.0   \n",
       "240              4.0   5.159449       0.0       1.0    0.0        0.0   0.0   \n",
       "\n",
       "     bungalow  cottage  house  ...  villa   BN   CM   GU   IG   KT   PO   RH  \\\n",
       "835       0.0      0.0    1.0  ...    0.0  1.0  0.0  0.0  0.0  0.0  0.0  0.0   \n",
       "477       0.0      0.0    1.0  ...    0.0  0.0  0.0  0.0  0.0  0.0  0.0  1.0   \n",
       "350       0.0      0.0    1.0  ...    0.0  0.0  0.0  0.0  0.0  0.0  0.0  0.0   \n",
       "890       0.0      0.0    1.0  ...    0.0  0.0  0.0  0.0  0.0  0.0  0.0  1.0   \n",
       "854       1.0      0.0    0.0  ...    0.0  0.0  0.0  0.0  0.0  0.0  1.0  0.0   \n",
       "..        ...      ...    ...  ...    ...  ...  ...  ...  ...  ...  ...  ...   \n",
       "519       0.0      0.0    1.0  ...    0.0  0.0  0.0  0.0  0.0  0.0  0.0  1.0   \n",
       "453       0.0      0.0    1.0  ...    0.0  1.0  0.0  0.0  0.0  0.0  0.0  0.0   \n",
       "118       0.0      0.0    1.0  ...    0.0  1.0  0.0  0.0  0.0  0.0  0.0  0.0   \n",
       "346       0.0      0.0    1.0  ...    0.0  0.0  0.0  0.0  0.0  0.0  0.0  1.0   \n",
       "240       0.0      0.0    1.0  ...    0.0  0.0  0.0  0.0  0.0  0.0  0.0  1.0   \n",
       "\n",
       "      SS   TN  \n",
       "835  0.0  0.0  \n",
       "477  0.0  0.0  \n",
       "350  0.0  1.0  \n",
       "890  0.0  0.0  \n",
       "854  0.0  0.0  \n",
       "..   ...  ...  \n",
       "519  0.0  0.0  \n",
       "453  0.0  0.0  \n",
       "118  0.0  0.0  \n",
       "346  0.0  0.0  \n",
       "240  0.0  0.0  \n",
       "\n",
       "[241 rows x 21 columns]"
      ]
     },
     "execution_count": 75,
     "metadata": {},
     "output_type": "execute_result"
    }
   ],
   "source": [
    "X_test"
   ]
  },
  {
   "cell_type": "code",
   "execution_count": 77,
   "metadata": {},
   "outputs": [],
   "source": [
    "pred = model.predict(np.array(X_test.iloc[-1]).reshape(1, -1))"
   ]
  },
  {
   "cell_type": "code",
   "execution_count": 78,
   "metadata": {},
   "outputs": [
    {
     "data": {
      "text/plain": [
       "array([1043526.15144671])"
      ]
     },
     "execution_count": 78,
     "metadata": {},
     "output_type": "execute_result"
    }
   ],
   "source": [
    "np.exp(pred)-1"
   ]
  }
 ],
 "metadata": {
  "kernelspec": {
   "display_name": "Python 3",
   "language": "python",
   "name": "python3"
  },
  "language_info": {
   "codemirror_mode": {
    "name": "ipython",
    "version": 3
   },
   "file_extension": ".py",
   "mimetype": "text/x-python",
   "name": "python",
   "nbconvert_exporter": "python",
   "pygments_lexer": "ipython3",
   "version": "3.7.4"
  }
 },
 "nbformat": 4,
 "nbformat_minor": 2
}
