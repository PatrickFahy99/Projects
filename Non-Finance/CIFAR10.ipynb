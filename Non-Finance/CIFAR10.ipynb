{
 "cells": [
  {
   "cell_type": "code",
   "execution_count": 1,
   "metadata": {},
   "outputs": [],
   "source": [
    "from keras import datasets\n",
    "from keras.datasets import cifar10\n",
    "\n",
    "(X_train, y_train), (X_test, y_test) = cifar10.load_data()\n",
    "\n",
    "# Normalize pixel values to be between 0 and 1\n",
    "X_train, X_test = X_train / 255.0, X_test / 255.0"
   ]
  },
  {
   "cell_type": "code",
   "execution_count": 2,
   "metadata": {},
   "outputs": [],
   "source": [
    "X_train = X_train.reshape(-1,32,32,3)\n",
    "X_test = X_test.reshape(-1,32,32,3)"
   ]
  },
  {
   "cell_type": "code",
   "execution_count": 3,
   "metadata": {},
   "outputs": [],
   "source": [
    "import tensorflow as tf\n",
    "from keras.utils import to_categorical\n",
    "\n",
    "# Convert label to one hot vectors (ex : 2 -> [0,0,1,0,0,0,0,0,0,0])\n",
    "y_train = to_categorical(y_train, num_classes = 10)\n",
    "y_test = to_categorical(y_test, num_classes = 10)"
   ]
  },
  {
   "cell_type": "code",
   "execution_count": 4,
   "metadata": {},
   "outputs": [],
   "source": [
    "from sklearn.model_selection import train_test_split\n",
    "\n",
    "# Split dataset into training set and validation set\n",
    "X_train, X_val, y_train, y_val = train_test_split(X_train, y_train, test_size = 0.1, random_state=2)"
   ]
  },
  {
   "cell_type": "code",
   "execution_count": 5,
   "metadata": {},
   "outputs": [],
   "source": [
    "import keras\n",
    "from keras.models import Sequential\n",
    "from keras.layers import Dense, Dropout, Flatten\n",
    "from keras.layers import Conv2D, MaxPool2D\n",
    "from keras.layers import BatchNormalization\n",
    "\n",
    "#Creating CNN model\n",
    "\"\"\"\n",
    "  [[Conv2D->relu]*2 -> BatchNormalization -> MaxPool2D -> Dropout]*2 -> \n",
    "  [Conv2D->relu]*2 -> BatchNormalization -> Dropout -> \n",
    "  Flatten -> Dense -> BatchNormalization -> Dropout -> Out\n",
    "\"\"\"\n",
    "model = Sequential()\n",
    "\n",
    "model.add(Conv2D(filters = 64, kernel_size = (5,5),padding = 'Same', activation ='relu', input_shape = (32,32,3)))\n",
    "model.add(BatchNormalization())\n",
    "\n",
    "model.add(Conv2D(filters = 64, kernel_size = (5,5),padding = 'Same', activation ='relu'))\n",
    "model.add(BatchNormalization())\n",
    "\n",
    "model.add(MaxPool2D(pool_size=(2,2)))\n",
    "model.add(Dropout(0.25))\n",
    "\n",
    "model.add(Conv2D(filters = 64, kernel_size = (3,3),padding = 'Same', activation ='relu'))\n",
    "model.add(BatchNormalization())\n",
    "\n",
    "model.add(Conv2D(filters = 64, kernel_size = (3,3),padding = 'Same', activation ='relu'))\n",
    "model.add(BatchNormalization())\n",
    "model.add(MaxPool2D(pool_size=(2,2), strides=(2,2)))\n",
    "model.add(Dropout(0.25))\n",
    "\n",
    "model.add(Conv2D(filters = 64, kernel_size = (3,3), padding = 'Same',  activation ='relu'))\n",
    "model.add(BatchNormalization())\n",
    "model.add(Dropout(0.25))\n",
    "\n",
    "model.add(Flatten())\n",
    "model.add(Dense(256, activation = \"relu\"))\n",
    "model.add(BatchNormalization())\n",
    "model.add(Dropout(0.25))\n",
    "\n",
    "model.add(Dense(10, activation = \"softmax\"))"
   ]
  },
  {
   "cell_type": "code",
   "execution_count": 6,
   "metadata": {},
   "outputs": [],
   "source": [
    "from keras.optimizers import RMSprop\n",
    "\n",
    "# Define Optimizer\n",
    "optimizer = RMSprop(lr=0.001, rho=0.9, epsilon=1e-08, decay=0.0)"
   ]
  },
  {
   "cell_type": "code",
   "execution_count": 7,
   "metadata": {},
   "outputs": [],
   "source": [
    "# Compile model\n",
    "model.compile(optimizer = optimizer , loss = \"categorical_crossentropy\", metrics=[\"accuracy\"])"
   ]
  },
  {
   "cell_type": "code",
   "execution_count": 8,
   "metadata": {},
   "outputs": [],
   "source": [
    "from keras.callbacks import ReduceLROnPlateau\n",
    "\n",
    "# Audjusting learning rate\n",
    "learning_rate_reduction = ReduceLROnPlateau(monitor='val_accuracy', \n",
    "                                            patience=3, \n",
    "                                            verbose=1, \n",
    "                                            factor=0.5, \n",
    "                                            min_lr=0.00001)"
   ]
  },
  {
   "cell_type": "code",
   "execution_count": 9,
   "metadata": {},
   "outputs": [],
   "source": [
    "#Adjusting epochs and batch_size\n",
    "epochs = 60\n",
    "batch_size = 128"
   ]
  },
  {
   "cell_type": "code",
   "execution_count": 10,
   "metadata": {},
   "outputs": [],
   "source": [
    "from keras.preprocessing.image import ImageDataGenerator\n",
    "\n",
    "#Data Augmentation \n",
    "datagen = ImageDataGenerator(\n",
    "        featurewise_center=False, # set input mean to 0 over the dataset\n",
    "        samplewise_center=False,  # set each sample mean to 0\n",
    "        featurewise_std_normalization=False,  # divide inputs by std of the dataset\n",
    "        samplewise_std_normalization=False,  # divide each input by its std\n",
    "        zca_whitening=False,  # apply ZCA whitening\n",
    "        rotation_range=10,  # randomly rotate images in the range (degrees, 0 to 180)\n",
    "        zoom_range = 0.1, # Randomly zoom image \n",
    "        width_shift_range=0.1,  # randomly shift images horizontally (fraction of total width)\n",
    "        height_shift_range=0.1,  # randomly shift images vertically (fraction of total height)\n",
    "        horizontal_flip=False,  # randomly flip images\n",
    "        vertical_flip=False)  # randomly flip images\n",
    "datagen.fit(X_train)"
   ]
  },
  {
   "cell_type": "code",
   "execution_count": 11,
   "metadata": {},
   "outputs": [
    {
     "name": "stdout",
     "output_type": "stream",
     "text": [
      "Epoch 1/60\n",
      "351/351 - 463s - loss: 1.6559 - accuracy: 0.4341 - val_loss: 2.0728 - val_accuracy: 0.3136 - lr: 0.0010\n",
      "Epoch 2/60\n",
      "351/351 - 464s - loss: 1.1392 - accuracy: 0.5980 - val_loss: 1.3692 - val_accuracy: 0.5842 - lr: 0.0010\n",
      "Epoch 3/60\n",
      "351/351 - 561s - loss: 0.9570 - accuracy: 0.6636 - val_loss: 1.1191 - val_accuracy: 0.6178 - lr: 0.0010\n",
      "Epoch 4/60\n",
      "351/351 - 598s - loss: 0.8522 - accuracy: 0.7016 - val_loss: 0.8948 - val_accuracy: 0.6910 - lr: 0.0010\n",
      "Epoch 5/60\n",
      "351/351 - 569s - loss: 0.7827 - accuracy: 0.7261 - val_loss: 0.9523 - val_accuracy: 0.6928 - lr: 0.0010\n",
      "Epoch 6/60\n",
      "351/351 - 573s - loss: 0.7350 - accuracy: 0.7410 - val_loss: 0.8791 - val_accuracy: 0.7130 - lr: 0.0010\n",
      "Epoch 7/60\n",
      "351/351 - 577s - loss: 0.6930 - accuracy: 0.7556 - val_loss: 0.7760 - val_accuracy: 0.7430 - lr: 0.0010\n",
      "Epoch 8/60\n",
      "351/351 - 545s - loss: 0.6514 - accuracy: 0.7705 - val_loss: 1.2617 - val_accuracy: 0.6432 - lr: 0.0010\n",
      "Epoch 9/60\n",
      "351/351 - 457s - loss: 0.6242 - accuracy: 0.7828 - val_loss: 0.7605 - val_accuracy: 0.7572 - lr: 0.0010\n",
      "Epoch 10/60\n",
      "351/351 - 457s - loss: 0.6000 - accuracy: 0.7896 - val_loss: 0.6330 - val_accuracy: 0.7780 - lr: 0.0010\n",
      "Epoch 11/60\n",
      "351/351 - 515s - loss: 0.5902 - accuracy: 0.7944 - val_loss: 0.6208 - val_accuracy: 0.7858 - lr: 0.0010\n",
      "Epoch 12/60\n",
      "351/351 - 525s - loss: 0.5622 - accuracy: 0.8043 - val_loss: 0.6583 - val_accuracy: 0.7846 - lr: 0.0010\n",
      "Epoch 13/60\n",
      "351/351 - 511s - loss: 0.5439 - accuracy: 0.8103 - val_loss: 0.5888 - val_accuracy: 0.8096 - lr: 0.0010\n",
      "Epoch 14/60\n",
      "351/351 - 465s - loss: 0.5344 - accuracy: 0.8167 - val_loss: 0.5944 - val_accuracy: 0.8074 - lr: 0.0010\n",
      "Epoch 15/60\n",
      "351/351 - 464s - loss: 0.5220 - accuracy: 0.8195 - val_loss: 0.6486 - val_accuracy: 0.7904 - lr: 0.0010\n",
      "Epoch 16/60\n",
      "\n",
      "Epoch 00016: ReduceLROnPlateau reducing learning rate to 0.0005000000237487257.\n",
      "351/351 - 459s - loss: 0.5049 - accuracy: 0.8229 - val_loss: 0.6786 - val_accuracy: 0.7850 - lr: 0.0010\n",
      "Epoch 17/60\n",
      "351/351 - 462s - loss: 0.4547 - accuracy: 0.8442 - val_loss: 0.4856 - val_accuracy: 0.8394 - lr: 5.0000e-04\n",
      "Epoch 18/60\n",
      "351/351 - 495s - loss: 0.4428 - accuracy: 0.8464 - val_loss: 0.5613 - val_accuracy: 0.8202 - lr: 5.0000e-04\n",
      "Epoch 19/60\n",
      "351/351 - 544s - loss: 0.4313 - accuracy: 0.8506 - val_loss: 0.5431 - val_accuracy: 0.8214 - lr: 5.0000e-04\n",
      "Epoch 20/60\n",
      "\n",
      "Epoch 00020: ReduceLROnPlateau reducing learning rate to 0.0002500000118743628.\n",
      "351/351 - 672s - loss: 0.4166 - accuracy: 0.8565 - val_loss: 0.4978 - val_accuracy: 0.8344 - lr: 5.0000e-04\n",
      "Epoch 21/60\n",
      "351/351 - 480s - loss: 0.3962 - accuracy: 0.8621 - val_loss: 0.4813 - val_accuracy: 0.8412 - lr: 2.5000e-04\n",
      "Epoch 22/60\n",
      "351/351 - 484s - loss: 0.3837 - accuracy: 0.8658 - val_loss: 0.4799 - val_accuracy: 0.8422 - lr: 2.5000e-04\n",
      "Epoch 23/60\n",
      "351/351 - 486s - loss: 0.3757 - accuracy: 0.8691 - val_loss: 0.4692 - val_accuracy: 0.8498 - lr: 2.5000e-04\n",
      "Epoch 24/60\n",
      "351/351 - 506s - loss: 0.3760 - accuracy: 0.8686 - val_loss: 0.5003 - val_accuracy: 0.8400 - lr: 2.5000e-04\n",
      "Epoch 25/60\n",
      "351/351 - 535s - loss: 0.3706 - accuracy: 0.8698 - val_loss: 0.5094 - val_accuracy: 0.8330 - lr: 2.5000e-04\n",
      "Epoch 26/60\n",
      "\n",
      "Epoch 00026: ReduceLROnPlateau reducing learning rate to 0.0001250000059371814.\n",
      "351/351 - 555s - loss: 0.3677 - accuracy: 0.8725 - val_loss: 0.4854 - val_accuracy: 0.8398 - lr: 2.5000e-04\n",
      "Epoch 27/60\n",
      "351/351 - 593s - loss: 0.3528 - accuracy: 0.8771 - val_loss: 0.4693 - val_accuracy: 0.8466 - lr: 1.2500e-04\n",
      "Epoch 28/60\n",
      "351/351 - 571s - loss: 0.3510 - accuracy: 0.8776 - val_loss: 0.4769 - val_accuracy: 0.8454 - lr: 1.2500e-04\n",
      "Epoch 29/60\n",
      "\n",
      "Epoch 00029: ReduceLROnPlateau reducing learning rate to 6.25000029685907e-05.\n",
      "351/351 - 582s - loss: 0.3510 - accuracy: 0.8810 - val_loss: 0.4796 - val_accuracy: 0.8478 - lr: 1.2500e-04\n",
      "Epoch 30/60\n",
      "351/351 - 617s - loss: 0.3359 - accuracy: 0.8838 - val_loss: 0.4485 - val_accuracy: 0.8538 - lr: 6.2500e-05\n",
      "Epoch 31/60\n",
      "351/351 - 525s - loss: 0.3382 - accuracy: 0.8812 - val_loss: 0.4485 - val_accuracy: 0.8582 - lr: 6.2500e-05\n",
      "Epoch 32/60\n",
      "351/351 - 546s - loss: 0.3414 - accuracy: 0.8822 - val_loss: 0.4524 - val_accuracy: 0.8536 - lr: 6.2500e-05\n",
      "Epoch 33/60\n",
      "351/351 - 523s - loss: 0.3402 - accuracy: 0.8812 - val_loss: 0.4667 - val_accuracy: 0.8488 - lr: 6.2500e-05\n",
      "Epoch 34/60\n",
      "\n",
      "Epoch 00034: ReduceLROnPlateau reducing learning rate to 3.125000148429535e-05.\n",
      "351/351 - 489s - loss: 0.3319 - accuracy: 0.8849 - val_loss: 0.4520 - val_accuracy: 0.8538 - lr: 6.2500e-05\n",
      "Epoch 35/60\n",
      "351/351 - 505s - loss: 0.3344 - accuracy: 0.8832 - val_loss: 0.4503 - val_accuracy: 0.8548 - lr: 3.1250e-05\n",
      "Epoch 36/60\n",
      "351/351 - 588s - loss: 0.3309 - accuracy: 0.8841 - val_loss: 0.4480 - val_accuracy: 0.8536 - lr: 3.1250e-05\n",
      "Epoch 37/60\n",
      "\n",
      "Epoch 00037: ReduceLROnPlateau reducing learning rate to 1.5625000742147677e-05.\n",
      "351/351 - 534s - loss: 0.3266 - accuracy: 0.8869 - val_loss: 0.4403 - val_accuracy: 0.8572 - lr: 3.1250e-05\n",
      "Epoch 38/60\n",
      "351/351 - 526s - loss: 0.3305 - accuracy: 0.8845 - val_loss: 0.4508 - val_accuracy: 0.8522 - lr: 1.5625e-05\n",
      "Epoch 39/60\n",
      "351/351 - 552s - loss: 0.3258 - accuracy: 0.8857 - val_loss: 0.4501 - val_accuracy: 0.8542 - lr: 1.5625e-05\n",
      "Epoch 40/60\n",
      "\n",
      "Epoch 00040: ReduceLROnPlateau reducing learning rate to 1e-05.\n",
      "351/351 - 535s - loss: 0.3320 - accuracy: 0.8844 - val_loss: 0.4541 - val_accuracy: 0.8528 - lr: 1.5625e-05\n",
      "Epoch 41/60\n",
      "351/351 - 520s - loss: 0.3246 - accuracy: 0.8874 - val_loss: 0.4500 - val_accuracy: 0.8542 - lr: 1.0000e-05\n",
      "Epoch 42/60\n",
      "351/351 - 455s - loss: 0.3271 - accuracy: 0.8849 - val_loss: 0.4502 - val_accuracy: 0.8544 - lr: 1.0000e-05\n",
      "Epoch 43/60\n",
      "351/351 - 480s - loss: 0.3238 - accuracy: 0.8867 - val_loss: 0.4521 - val_accuracy: 0.8534 - lr: 1.0000e-05\n",
      "Epoch 44/60\n",
      "351/351 - 446s - loss: 0.3293 - accuracy: 0.8847 - val_loss: 0.4504 - val_accuracy: 0.8534 - lr: 1.0000e-05\n",
      "Epoch 45/60\n",
      "351/351 - 42760s - loss: 0.3261 - accuracy: 0.8871 - val_loss: 0.4534 - val_accuracy: 0.8524 - lr: 1.0000e-05\n",
      "Epoch 46/60\n",
      "351/351 - 1099s - loss: 0.3252 - accuracy: 0.8860 - val_loss: 0.4543 - val_accuracy: 0.8524 - lr: 1.0000e-05\n",
      "Epoch 47/60\n",
      "351/351 - 561s - loss: 0.3218 - accuracy: 0.8878 - val_loss: 0.4555 - val_accuracy: 0.8524 - lr: 1.0000e-05\n",
      "Epoch 48/60\n",
      "351/351 - 605s - loss: 0.3233 - accuracy: 0.8875 - val_loss: 0.4516 - val_accuracy: 0.8540 - lr: 1.0000e-05\n",
      "Epoch 49/60\n",
      "351/351 - 638s - loss: 0.3236 - accuracy: 0.8861 - val_loss: 0.4504 - val_accuracy: 0.8550 - lr: 1.0000e-05\n",
      "Epoch 50/60\n",
      "351/351 - 425s - loss: 0.3255 - accuracy: 0.8875 - val_loss: 0.4533 - val_accuracy: 0.8544 - lr: 1.0000e-05\n",
      "Epoch 51/60\n",
      "351/351 - 424s - loss: 0.3220 - accuracy: 0.8885 - val_loss: 0.4518 - val_accuracy: 0.8542 - lr: 1.0000e-05\n",
      "Epoch 52/60\n",
      "351/351 - 442s - loss: 0.3263 - accuracy: 0.8866 - val_loss: 0.4521 - val_accuracy: 0.8530 - lr: 1.0000e-05\n",
      "Epoch 53/60\n",
      "351/351 - 445s - loss: 0.3249 - accuracy: 0.8868 - val_loss: 0.4474 - val_accuracy: 0.8548 - lr: 1.0000e-05\n",
      "Epoch 54/60\n",
      "351/351 - 470s - loss: 0.3260 - accuracy: 0.8863 - val_loss: 0.4483 - val_accuracy: 0.8552 - lr: 1.0000e-05\n",
      "Epoch 55/60\n",
      "351/351 - 493s - loss: 0.3267 - accuracy: 0.8853 - val_loss: 0.4477 - val_accuracy: 0.8542 - lr: 1.0000e-05\n",
      "Epoch 56/60\n",
      "351/351 - 509s - loss: 0.3222 - accuracy: 0.8869 - val_loss: 0.4484 - val_accuracy: 0.8540 - lr: 1.0000e-05\n",
      "Epoch 57/60\n",
      "351/351 - 525s - loss: 0.3247 - accuracy: 0.8864 - val_loss: 0.4485 - val_accuracy: 0.8546 - lr: 1.0000e-05\n",
      "Epoch 58/60\n",
      "351/351 - 541s - loss: 0.3263 - accuracy: 0.8860 - val_loss: 0.4506 - val_accuracy: 0.8556 - lr: 1.0000e-05\n",
      "Epoch 59/60\n",
      "351/351 - 515s - loss: 0.3187 - accuracy: 0.8898 - val_loss: 0.4492 - val_accuracy: 0.8544 - lr: 1.0000e-05\n",
      "Epoch 60/60\n",
      "351/351 - 510s - loss: 0.3128 - accuracy: 0.8905 - val_loss: 0.4509 - val_accuracy: 0.8552 - lr: 1.0000e-05\n"
     ]
    }
   ],
   "source": [
    "#Prediction model\n",
    "history = model.fit(datagen.flow(X_train,y_train, batch_size=batch_size),\n",
    "                              epochs = epochs, validation_data = (X_val,y_val),\n",
    "                              verbose = 2, steps_per_epoch=X_train.shape[0] // batch_size\n",
    "                              , callbacks=[learning_rate_reduction])"
   ]
  },
  {
   "cell_type": "code",
   "execution_count": 19,
   "metadata": {},
   "outputs": [
    {
     "name": "stdout",
     "output_type": "stream",
     "text": [
      "dict_keys(['loss', 'accuracy', 'val_loss', 'val_accuracy', 'lr'])\n"
     ]
    },
    {
     "data": {
      "image/png": "[encoded data removed]",
      "text/plain": [
       "<Figure size 1080x360 with 2 Axes>"
      ]
     },
     "metadata": {
      "needs_background": "light"
     },
     "output_type": "display_data"
    }
   ],
   "source": [
    "import matplotlib.pyplot as plt\n",
    "\n",
    "def plotmodelhistory(history): \n",
    "    fig, axs = plt.subplots(1,2,figsize=(15,5)) \n",
    "    # summarize history for accuracy\n",
    "    axs[0].plot(history.history['accuracy']) \n",
    "    axs[0].plot(history.history['val_accuracy']) \n",
    "    axs[0].set_title('Model Accuracy')\n",
    "    axs[0].set_ylabel('Accuracy') \n",
    "    axs[0].set_xlabel('Epoch')\n",
    "    axs[0].legend(['train', 'validate'], loc='upper left')\n",
    "    # summarize history for loss\n",
    "    axs[1].plot(history.history['loss']) \n",
    "    axs[1].plot(history.history['val_loss']) \n",
    "    axs[1].set_title('Model Loss')\n",
    "    axs[1].set_ylabel('Loss') \n",
    "    axs[1].set_xlabel('Epoch')\n",
    "    axs[1].legend(['train', 'validate'], loc='upper left')\n",
    "    plt.show()\n",
    "\n",
    "# list all data in history\n",
    "print(history.history.keys())\n",
    "\n",
    "plotmodelhistory(history)\n",
    "plt.show()"
   ]
  },
  {
   "cell_type": "code",
   "execution_count": 14,
   "metadata": {},
   "outputs": [
    {
     "name": "stdout",
     "output_type": "stream",
     "text": [
      "313/313 [==============================] - 25s 81ms/step - loss: 0.4665 - accuracy: 0.8532\n",
      "Test loss: 0.46648865938186646\n",
      "Test accuracy: 0.8532000184059143\n"
     ]
    }
   ],
   "source": [
    "# Score trained model.\n",
    "scores = model.evaluate(X_test, y_test, verbose=1)\n",
    "print('Test loss:', scores[0])\n",
    "print('Test accuracy:', scores[1])\n",
    "\n",
    "# make prediction.\n",
    "pred = model.predict(X_test)"
   ]
  },
  {
   "cell_type": "code",
   "execution_count": 15,
   "metadata": {},
   "outputs": [],
   "source": [
    "def heatmap(data, row_labels, col_labels, ax=None, cbar_kw={}, cbarlabel=\"\", **kwargs):\n",
    "    \"\"\"\n",
    "    Create a heatmap from a numpy array and two lists of labels.\n",
    "    \"\"\"\n",
    "    if not ax:\n",
    "        ax = plt.gca()\n",
    "\n",
    "    # Plot the heatmap\n",
    "    im = ax.imshow(data, **kwargs)\n",
    "\n",
    "    # Create colorbar\n",
    "    cbar = ax.figure.colorbar(im, ax=ax, **cbar_kw)\n",
    "    cbar.ax.set_ylabel(cbarlabel, rotation=-90, va=\"bottom\")\n",
    "\n",
    "    # Let the horizontal axes labeling appear on top.\n",
    "    ax.tick_params(top=True, bottom=False,\n",
    "                   labeltop=True, labelbottom=False)\n",
    "    # We want to show all ticks...\n",
    "    ax.set_xticks(np.arange(data.shape[1]))\n",
    "    ax.set_yticks(np.arange(data.shape[0]))\n",
    "    # ... and label them with the respective list entries.\n",
    "    ax.set_xticklabels(col_labels)\n",
    "    ax.set_yticklabels(row_labels)\n",
    "    \n",
    "    ax.set_xlabel('Predicted Label') \n",
    "    ax.set_ylabel('True Label')\n",
    "    \n",
    "    return im, cbar\n",
    "\n",
    "def annotate_heatmap(im, data=None, fmt=\"d\", threshold=None):\n",
    "    \"\"\"\n",
    "    A function to annotate a heatmap.\n",
    "    \"\"\"\n",
    "    # Change the text's color depending on the data.\n",
    "    texts = []\n",
    "    for i in range(data.shape[0]):\n",
    "        for j in range(data.shape[1]):\n",
    "            text = im.axes.text(j, i, format(data[i, j], fmt), horizontalalignment=\"center\",\n",
    "                                 color=\"white\" if data[i, j] > thresh else \"black\")\n",
    "            texts.append(text)\n",
    "\n",
    "    return texts"
   ]
  },
  {
   "cell_type": "code",
   "execution_count": 16,
   "metadata": {},
   "outputs": [
    {
     "data": {
      "image/png": "[encoded data removed]",
      "text/plain": [
       "<Figure size 864x864 with 2 Axes>"
      ]
     },
     "metadata": {
      "needs_background": "light"
     },
     "output_type": "display_data"
    }
   ],
   "source": [
    "from sklearn.metrics import confusion_matrix\n",
    "\n",
    "import numpy as np\n",
    "\n",
    "labels = ['Airplane', 'Automobile', 'Bird', 'Cat', 'Deer', 'Dog', 'Frog', 'Horse', 'Ship', 'Truck']\n",
    "\n",
    "# Convert predictions classes to one hot vectors \n",
    "y_pred_classes = np.argmax(pred, axis=1) \n",
    "# Convert validation observations to one hot vectors\n",
    "y_true = np.argmax(y_test, axis=1)\n",
    "# Errors are difference between predicted labels and true labels\n",
    "errors = (y_pred_classes - y_true != 0)\n",
    "\n",
    "y_pred_classes_errors = y_pred_classes[errors]\n",
    "y_pred_errors = pred[errors]\n",
    "y_true_errors = y_true[errors]\n",
    "X_test_errors = X_test[errors]\n",
    "\n",
    "cm = confusion_matrix(y_true, y_pred_classes) \n",
    "thresh = cm.max() / 2.\n",
    "\n",
    "fig, ax = plt.subplots(figsize=(12,12))\n",
    "im, cbar = heatmap(cm, labels, labels, ax=ax,\n",
    "                   cmap=plt.cm.Blues, cbarlabel=\"count of predictions\")\n",
    "texts = annotate_heatmap(im, data=cm, threshold=thresh)\n",
    "\n",
    "fig.tight_layout()\n",
    "plt.show()"
   ]
  },
  {
   "cell_type": "code",
   "execution_count": 17,
   "metadata": {},
   "outputs": [
    {
     "name": "stdout",
     "output_type": "stream",
     "text": [
      "Saved trained model at /Users/patrickfahy99/Kaggle_Competitions/saved_models/keras_cifar10_trained_model.h5 \n",
      "313/313 [==============================] - 25s 81ms/step - loss: 0.4665 - accuracy: 0.8532\n",
      "Test loss: 0.46648865938186646\n",
      "Test accuracy: 0.8532000184059143\n"
     ]
    }
   ],
   "source": [
    "import os\n",
    "\n",
    "save_dir = os.path.join(os.getcwd(), 'saved_models')\n",
    "model_name = 'keras_cifar10_trained_model.h5'\n",
    "\n",
    "# Save model and weights\n",
    "if not os.path.isdir(save_dir):\n",
    "    os.makedirs(save_dir)\n",
    "model_path = os.path.join(save_dir, model_name)\n",
    "model.save(model_path)\n",
    "print('Saved trained model at %s ' % model_path)\n",
    "\n",
    "# Score trained model.\n",
    "scores = model.evaluate(X_test, y_test, verbose=1)\n",
    "print('Test loss:', scores[0])\n",
    "print('Test accuracy:', scores[1])"
   ]
  },
  {
   "cell_type": "markdown",
   "metadata": {},
   "source": [
    "*** Don't need the cells below ***"
   ]
  },
  {
   "cell_type": "code",
   "execution_count": 69,
   "metadata": {},
   "outputs": [],
   "source": [
    "# select the index with the maximum probability\n",
    "results = np.argmax(pred,axis = 1)"
   ]
  },
  {
   "cell_type": "code",
   "execution_count": 70,
   "metadata": {},
   "outputs": [],
   "source": [
    "onehot_encoded = list()\n",
    "for value in results:\n",
    "    letter = [0 for _ in range(10)]\n",
    "    letter[value] = 1\n",
    "    onehot_encoded.append(letter)\n",
    "results = onehot_encoded"
   ]
  },
  {
   "cell_type": "code",
   "execution_count": 71,
   "metadata": {},
   "outputs": [
    {
     "name": "stdout",
     "output_type": "stream",
     "text": [
      "85.32 % accurate\n"
     ]
    }
   ],
   "source": [
    "num = 0.0\n",
    "for y,x in zip(y_test, results):\n",
    "    if not all(y == x):\n",
    "        num += 1\n",
    "accuracy = 1 - num / 10000\n",
    "print(100 * float(accuracy), '% accurate')"
   ]
  }
 ],
 "metadata": {
  "kernelspec": {
   "display_name": "Python 3",
   "language": "python",
   "name": "python3"
  },
  "language_info": {
   "codemirror_mode": {
    "name": "ipython",
    "version": 3
   },
   "file_extension": ".py",
   "mimetype": "text/x-python",
   "name": "python",
   "nbconvert_exporter": "python",
   "pygments_lexer": "ipython3",
   "version": "3.7.4"
  }
 },
 "nbformat": 4,
 "nbformat_minor": 2
}
