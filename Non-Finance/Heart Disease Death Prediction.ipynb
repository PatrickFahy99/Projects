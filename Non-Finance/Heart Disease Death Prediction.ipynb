{
 "cells": [
  {
   "cell_type": "markdown",
   "metadata": {},
   "source": [
    "# Heart Disease Death Prediction"
   ]
  },
  {
   "cell_type": "markdown",
   "metadata": {},
   "source": [
    "---------------------------------------------------------------------------------"
   ]
  },
  {
   "cell_type": "markdown",
   "metadata": {},
   "source": [
    "## Inital Checks"
   ]
  },
  {
   "cell_type": "code",
   "execution_count": 1,
   "metadata": {},
   "outputs": [],
   "source": [
    "# Importing important packages\n",
    "\n",
    "import pandas as pd\n",
    "import numpy as np\n",
    "import seaborn as sns\n",
    "import matplotlib.pyplot as plt"
   ]
  },
  {
   "cell_type": "code",
   "execution_count": 2,
   "metadata": {},
   "outputs": [],
   "source": [
    "# Fetching the data\n",
    "\n",
    "df = pd.read_csv('datasets_heart_failure_clinical_records_dataset.csv')"
   ]
  },
  {
   "cell_type": "code",
   "execution_count": 3,
   "metadata": {},
   "outputs": [
    {
     "data": {
      "text/html": [
       "<div>\n",
       "<style scoped>\n",
       "    .dataframe tbody tr th:only-of-type {\n",
       "        vertical-align: middle;\n",
       "    }\n",
       "\n",
       "    .dataframe tbody tr th {\n",
       "        vertical-align: top;\n",
       "    }\n",
       "\n",
       "    .dataframe thead th {\n",
       "        text-align: right;\n",
       "    }\n",
       "</style>\n",
       "<table border=\"1\" class=\"dataframe\">\n",
       "  <thead>\n",
       "    <tr style=\"text-align: right;\">\n",
       "      <th></th>\n",
       "      <th>age</th>\n",
       "      <th>anaemia</th>\n",
       "      <th>creatinine_phosphokinase</th>\n",
       "      <th>diabetes</th>\n",
       "      <th>ejection_fraction</th>\n",
       "      <th>high_blood_pressure</th>\n",
       "      <th>platelets</th>\n",
       "      <th>serum_creatinine</th>\n",
       "      <th>serum_sodium</th>\n",
       "      <th>sex</th>\n",
       "      <th>smoking</th>\n",
       "      <th>time</th>\n",
       "      <th>DEATH_EVENT</th>\n",
       "    </tr>\n",
       "  </thead>\n",
       "  <tbody>\n",
       "    <tr>\n",
       "      <th>0</th>\n",
       "      <td>75.0</td>\n",
       "      <td>0</td>\n",
       "      <td>582</td>\n",
       "      <td>0</td>\n",
       "      <td>20</td>\n",
       "      <td>1</td>\n",
       "      <td>265000.00</td>\n",
       "      <td>1.9</td>\n",
       "      <td>130</td>\n",
       "      <td>1</td>\n",
       "      <td>0</td>\n",
       "      <td>4</td>\n",
       "      <td>1</td>\n",
       "    </tr>\n",
       "    <tr>\n",
       "      <th>1</th>\n",
       "      <td>55.0</td>\n",
       "      <td>0</td>\n",
       "      <td>7861</td>\n",
       "      <td>0</td>\n",
       "      <td>38</td>\n",
       "      <td>0</td>\n",
       "      <td>263358.03</td>\n",
       "      <td>1.1</td>\n",
       "      <td>136</td>\n",
       "      <td>1</td>\n",
       "      <td>0</td>\n",
       "      <td>6</td>\n",
       "      <td>1</td>\n",
       "    </tr>\n",
       "    <tr>\n",
       "      <th>2</th>\n",
       "      <td>65.0</td>\n",
       "      <td>0</td>\n",
       "      <td>146</td>\n",
       "      <td>0</td>\n",
       "      <td>20</td>\n",
       "      <td>0</td>\n",
       "      <td>162000.00</td>\n",
       "      <td>1.3</td>\n",
       "      <td>129</td>\n",
       "      <td>1</td>\n",
       "      <td>1</td>\n",
       "      <td>7</td>\n",
       "      <td>1</td>\n",
       "    </tr>\n",
       "    <tr>\n",
       "      <th>3</th>\n",
       "      <td>50.0</td>\n",
       "      <td>1</td>\n",
       "      <td>111</td>\n",
       "      <td>0</td>\n",
       "      <td>20</td>\n",
       "      <td>0</td>\n",
       "      <td>210000.00</td>\n",
       "      <td>1.9</td>\n",
       "      <td>137</td>\n",
       "      <td>1</td>\n",
       "      <td>0</td>\n",
       "      <td>7</td>\n",
       "      <td>1</td>\n",
       "    </tr>\n",
       "    <tr>\n",
       "      <th>4</th>\n",
       "      <td>65.0</td>\n",
       "      <td>1</td>\n",
       "      <td>160</td>\n",
       "      <td>1</td>\n",
       "      <td>20</td>\n",
       "      <td>0</td>\n",
       "      <td>327000.00</td>\n",
       "      <td>2.7</td>\n",
       "      <td>116</td>\n",
       "      <td>0</td>\n",
       "      <td>0</td>\n",
       "      <td>8</td>\n",
       "      <td>1</td>\n",
       "    </tr>\n",
       "    <tr>\n",
       "      <th>...</th>\n",
       "      <td>...</td>\n",
       "      <td>...</td>\n",
       "      <td>...</td>\n",
       "      <td>...</td>\n",
       "      <td>...</td>\n",
       "      <td>...</td>\n",
       "      <td>...</td>\n",
       "      <td>...</td>\n",
       "      <td>...</td>\n",
       "      <td>...</td>\n",
       "      <td>...</td>\n",
       "      <td>...</td>\n",
       "      <td>...</td>\n",
       "    </tr>\n",
       "    <tr>\n",
       "      <th>294</th>\n",
       "      <td>62.0</td>\n",
       "      <td>0</td>\n",
       "      <td>61</td>\n",
       "      <td>1</td>\n",
       "      <td>38</td>\n",
       "      <td>1</td>\n",
       "      <td>155000.00</td>\n",
       "      <td>1.1</td>\n",
       "      <td>143</td>\n",
       "      <td>1</td>\n",
       "      <td>1</td>\n",
       "      <td>270</td>\n",
       "      <td>0</td>\n",
       "    </tr>\n",
       "    <tr>\n",
       "      <th>295</th>\n",
       "      <td>55.0</td>\n",
       "      <td>0</td>\n",
       "      <td>1820</td>\n",
       "      <td>0</td>\n",
       "      <td>38</td>\n",
       "      <td>0</td>\n",
       "      <td>270000.00</td>\n",
       "      <td>1.2</td>\n",
       "      <td>139</td>\n",
       "      <td>0</td>\n",
       "      <td>0</td>\n",
       "      <td>271</td>\n",
       "      <td>0</td>\n",
       "    </tr>\n",
       "    <tr>\n",
       "      <th>296</th>\n",
       "      <td>45.0</td>\n",
       "      <td>0</td>\n",
       "      <td>2060</td>\n",
       "      <td>1</td>\n",
       "      <td>60</td>\n",
       "      <td>0</td>\n",
       "      <td>742000.00</td>\n",
       "      <td>0.8</td>\n",
       "      <td>138</td>\n",
       "      <td>0</td>\n",
       "      <td>0</td>\n",
       "      <td>278</td>\n",
       "      <td>0</td>\n",
       "    </tr>\n",
       "    <tr>\n",
       "      <th>297</th>\n",
       "      <td>45.0</td>\n",
       "      <td>0</td>\n",
       "      <td>2413</td>\n",
       "      <td>0</td>\n",
       "      <td>38</td>\n",
       "      <td>0</td>\n",
       "      <td>140000.00</td>\n",
       "      <td>1.4</td>\n",
       "      <td>140</td>\n",
       "      <td>1</td>\n",
       "      <td>1</td>\n",
       "      <td>280</td>\n",
       "      <td>0</td>\n",
       "    </tr>\n",
       "    <tr>\n",
       "      <th>298</th>\n",
       "      <td>50.0</td>\n",
       "      <td>0</td>\n",
       "      <td>196</td>\n",
       "      <td>0</td>\n",
       "      <td>45</td>\n",
       "      <td>0</td>\n",
       "      <td>395000.00</td>\n",
       "      <td>1.6</td>\n",
       "      <td>136</td>\n",
       "      <td>1</td>\n",
       "      <td>1</td>\n",
       "      <td>285</td>\n",
       "      <td>0</td>\n",
       "    </tr>\n",
       "  </tbody>\n",
       "</table>\n",
       "<p>299 rows × 13 columns</p>\n",
       "</div>"
      ],
      "text/plain": [
       "      age  anaemia  creatinine_phosphokinase  diabetes  ejection_fraction  \\\n",
       "0    75.0        0                       582         0                 20   \n",
       "1    55.0        0                      7861         0                 38   \n",
       "2    65.0        0                       146         0                 20   \n",
       "3    50.0        1                       111         0                 20   \n",
       "4    65.0        1                       160         1                 20   \n",
       "..    ...      ...                       ...       ...                ...   \n",
       "294  62.0        0                        61         1                 38   \n",
       "295  55.0        0                      1820         0                 38   \n",
       "296  45.0        0                      2060         1                 60   \n",
       "297  45.0        0                      2413         0                 38   \n",
       "298  50.0        0                       196         0                 45   \n",
       "\n",
       "     high_blood_pressure  platelets  serum_creatinine  serum_sodium  sex  \\\n",
       "0                      1  265000.00               1.9           130    1   \n",
       "1                      0  263358.03               1.1           136    1   \n",
       "2                      0  162000.00               1.3           129    1   \n",
       "3                      0  210000.00               1.9           137    1   \n",
       "4                      0  327000.00               2.7           116    0   \n",
       "..                   ...        ...               ...           ...  ...   \n",
       "294                    1  155000.00               1.1           143    1   \n",
       "295                    0  270000.00               1.2           139    0   \n",
       "296                    0  742000.00               0.8           138    0   \n",
       "297                    0  140000.00               1.4           140    1   \n",
       "298                    0  395000.00               1.6           136    1   \n",
       "\n",
       "     smoking  time  DEATH_EVENT  \n",
       "0          0     4            1  \n",
       "1          0     6            1  \n",
       "2          1     7            1  \n",
       "3          0     7            1  \n",
       "4          0     8            1  \n",
       "..       ...   ...          ...  \n",
       "294        1   270            0  \n",
       "295        0   271            0  \n",
       "296        0   278            0  \n",
       "297        1   280            0  \n",
       "298        1   285            0  \n",
       "\n",
       "[299 rows x 13 columns]"
      ]
     },
     "execution_count": 3,
     "metadata": {},
     "output_type": "execute_result"
    }
   ],
   "source": [
    "# Viewing the data\n",
    "\n",
    "df"
   ]
  },
  {
   "cell_type": "markdown",
   "metadata": {},
   "source": [
    "### Dataset overview:\n",
    "\n",
    "* There are 299 records in the dataset, with 12 features: \n",
    "\n",
    "age, anaemia, creatinine_phosphokinase, diabetes, ejection_fraction, high_blood_pressure, platelets, serum_creatinine, serum_sodium, sex, smoking and time \n",
    "\n",
    "* The target variable is DEATH_EVENT\n",
    "\n",
    "\n",
    "* There are 7 quantitative and 5 qualitative features.\n",
    "\n",
    "\n",
    "* Quantitative features:\\\n",
    "age, creatinine_phosphokinase, ejection_fraction, platelets, serum_creatinine, serum_sodium and time\\\n",
    "\n",
    "\n",
    "* Qualitative features:\\\n",
    "anaemia, diabetes, high_blood_pressure, sex and smoking\\\n",
    "\n",
    "\n",
    "* There are no missing values"
   ]
  },
  {
   "cell_type": "code",
   "execution_count": 4,
   "metadata": {},
   "outputs": [
    {
     "data": {
      "text/plain": [
       "<matplotlib.axes._subplots.AxesSubplot at 0x7f9d8eb7a390>"
      ]
     },
     "execution_count": 4,
     "metadata": {},
     "output_type": "execute_result"
    },
    {
     "data": {
      "image/png": "[encoded data removed]",
      "text/plain": [
       "<Figure size 432x288 with 1 Axes>"
      ]
     },
     "metadata": {
      "needs_background": "light"
     },
     "output_type": "display_data"
    }
   ],
   "source": [
    "# Visualising the distribution of DEATH_EVENT\n",
    "\n",
    "sns.countplot(df['DEATH_EVENT'])"
   ]
  },
  {
   "cell_type": "code",
   "execution_count": 5,
   "metadata": {},
   "outputs": [
    {
     "name": "stdout",
     "output_type": "stream",
     "text": [
      "Percentage of records have DEATH_EVENT: 32.0%\n"
     ]
    }
   ],
   "source": [
    "print('Percentage of records have DEATH_EVENT: {}%'.format(round(df['DEATH_EVENT'].sum()/len(df)*100),3))"
   ]
  },
  {
   "cell_type": "markdown",
   "metadata": {},
   "source": [
    "We see that the distribution of the target variable is slightly unbalanced. However, I wouldn't say it is unbalanced enough to use an oversampling or undersampling technique.\n",
    "\n",
    "Considering that false negatives are important, we might want to train the model to maximise 'recall' score. However, due to this being a small dataset I will choose to simply maximise 'accuracy'."
   ]
  },
  {
   "cell_type": "markdown",
   "metadata": {},
   "source": [
    "### Looking for Outliers:"
   ]
  },
  {
   "cell_type": "code",
   "execution_count": 6,
   "metadata": {},
   "outputs": [
    {
     "data": {
      "text/plain": [
       "<matplotlib.axes._subplots.AxesSubplot at 0x7f9d90c9e210>"
      ]
     },
     "execution_count": 6,
     "metadata": {},
     "output_type": "execute_result"
    },
    {
     "data": {
      "image/png": "[encoded data removed]",
      "text/plain": [
       "<Figure size 432x288 with 1 Axes>"
      ]
     },
     "metadata": {
      "needs_background": "light"
     },
     "output_type": "display_data"
    }
   ],
   "source": [
    "# Plotting the distribution of the serum_creatinine column\n",
    "\n",
    "sns.distplot(df['serum_creatinine'])"
   ]
  },
  {
   "cell_type": "code",
   "execution_count": 7,
   "metadata": {},
   "outputs": [
    {
     "data": {
      "text/html": [
       "<div>\n",
       "<style scoped>\n",
       "    .dataframe tbody tr th:only-of-type {\n",
       "        vertical-align: middle;\n",
       "    }\n",
       "\n",
       "    .dataframe tbody tr th {\n",
       "        vertical-align: top;\n",
       "    }\n",
       "\n",
       "    .dataframe thead th {\n",
       "        text-align: right;\n",
       "    }\n",
       "</style>\n",
       "<table border=\"1\" class=\"dataframe\">\n",
       "  <thead>\n",
       "    <tr style=\"text-align: right;\">\n",
       "      <th></th>\n",
       "      <th>age</th>\n",
       "      <th>anaemia</th>\n",
       "      <th>creatinine_phosphokinase</th>\n",
       "      <th>diabetes</th>\n",
       "      <th>ejection_fraction</th>\n",
       "      <th>high_blood_pressure</th>\n",
       "      <th>platelets</th>\n",
       "      <th>serum_creatinine</th>\n",
       "      <th>serum_sodium</th>\n",
       "      <th>sex</th>\n",
       "      <th>smoking</th>\n",
       "      <th>time</th>\n",
       "      <th>DEATH_EVENT</th>\n",
       "    </tr>\n",
       "  </thead>\n",
       "  <tbody>\n",
       "    <tr>\n",
       "      <th>9</th>\n",
       "      <td>80.0</td>\n",
       "      <td>1</td>\n",
       "      <td>123</td>\n",
       "      <td>0</td>\n",
       "      <td>35</td>\n",
       "      <td>1</td>\n",
       "      <td>388000.00</td>\n",
       "      <td>9.4</td>\n",
       "      <td>133</td>\n",
       "      <td>1</td>\n",
       "      <td>1</td>\n",
       "      <td>10</td>\n",
       "      <td>1</td>\n",
       "    </tr>\n",
       "    <tr>\n",
       "      <th>28</th>\n",
       "      <td>58.0</td>\n",
       "      <td>1</td>\n",
       "      <td>60</td>\n",
       "      <td>0</td>\n",
       "      <td>38</td>\n",
       "      <td>0</td>\n",
       "      <td>153000.00</td>\n",
       "      <td>5.8</td>\n",
       "      <td>134</td>\n",
       "      <td>1</td>\n",
       "      <td>0</td>\n",
       "      <td>26</td>\n",
       "      <td>1</td>\n",
       "    </tr>\n",
       "    <tr>\n",
       "      <th>48</th>\n",
       "      <td>80.0</td>\n",
       "      <td>1</td>\n",
       "      <td>553</td>\n",
       "      <td>0</td>\n",
       "      <td>20</td>\n",
       "      <td>1</td>\n",
       "      <td>140000.00</td>\n",
       "      <td>4.4</td>\n",
       "      <td>133</td>\n",
       "      <td>1</td>\n",
       "      <td>0</td>\n",
       "      <td>41</td>\n",
       "      <td>1</td>\n",
       "    </tr>\n",
       "    <tr>\n",
       "      <th>52</th>\n",
       "      <td>60.0</td>\n",
       "      <td>0</td>\n",
       "      <td>3964</td>\n",
       "      <td>1</td>\n",
       "      <td>62</td>\n",
       "      <td>0</td>\n",
       "      <td>263358.03</td>\n",
       "      <td>6.8</td>\n",
       "      <td>146</td>\n",
       "      <td>0</td>\n",
       "      <td>0</td>\n",
       "      <td>43</td>\n",
       "      <td>1</td>\n",
       "    </tr>\n",
       "    <tr>\n",
       "      <th>131</th>\n",
       "      <td>60.0</td>\n",
       "      <td>1</td>\n",
       "      <td>1082</td>\n",
       "      <td>1</td>\n",
       "      <td>45</td>\n",
       "      <td>0</td>\n",
       "      <td>250000.00</td>\n",
       "      <td>6.1</td>\n",
       "      <td>131</td>\n",
       "      <td>1</td>\n",
       "      <td>0</td>\n",
       "      <td>107</td>\n",
       "      <td>0</td>\n",
       "    </tr>\n",
       "    <tr>\n",
       "      <th>217</th>\n",
       "      <td>54.0</td>\n",
       "      <td>1</td>\n",
       "      <td>427</td>\n",
       "      <td>0</td>\n",
       "      <td>70</td>\n",
       "      <td>1</td>\n",
       "      <td>151000.00</td>\n",
       "      <td>9.0</td>\n",
       "      <td>137</td>\n",
       "      <td>0</td>\n",
       "      <td>0</td>\n",
       "      <td>196</td>\n",
       "      <td>1</td>\n",
       "    </tr>\n",
       "    <tr>\n",
       "      <th>228</th>\n",
       "      <td>65.0</td>\n",
       "      <td>0</td>\n",
       "      <td>56</td>\n",
       "      <td>0</td>\n",
       "      <td>25</td>\n",
       "      <td>0</td>\n",
       "      <td>237000.00</td>\n",
       "      <td>5.0</td>\n",
       "      <td>130</td>\n",
       "      <td>0</td>\n",
       "      <td>0</td>\n",
       "      <td>207</td>\n",
       "      <td>0</td>\n",
       "    </tr>\n",
       "  </tbody>\n",
       "</table>\n",
       "</div>"
      ],
      "text/plain": [
       "      age  anaemia  creatinine_phosphokinase  diabetes  ejection_fraction  \\\n",
       "9    80.0        1                       123         0                 35   \n",
       "28   58.0        1                        60         0                 38   \n",
       "48   80.0        1                       553         0                 20   \n",
       "52   60.0        0                      3964         1                 62   \n",
       "131  60.0        1                      1082         1                 45   \n",
       "217  54.0        1                       427         0                 70   \n",
       "228  65.0        0                        56         0                 25   \n",
       "\n",
       "     high_blood_pressure  platelets  serum_creatinine  serum_sodium  sex  \\\n",
       "9                      1  388000.00               9.4           133    1   \n",
       "28                     0  153000.00               5.8           134    1   \n",
       "48                     1  140000.00               4.4           133    1   \n",
       "52                     0  263358.03               6.8           146    0   \n",
       "131                    0  250000.00               6.1           131    1   \n",
       "217                    1  151000.00               9.0           137    0   \n",
       "228                    0  237000.00               5.0           130    0   \n",
       "\n",
       "     smoking  time  DEATH_EVENT  \n",
       "9          1    10            1  \n",
       "28         0    26            1  \n",
       "48         0    41            1  \n",
       "52         0    43            1  \n",
       "131        0   107            0  \n",
       "217        0   196            1  \n",
       "228        0   207            0  "
      ]
     },
     "execution_count": 7,
     "metadata": {},
     "output_type": "execute_result"
    }
   ],
   "source": [
    "df[df['serum_creatinine']>4]"
   ]
  },
  {
   "cell_type": "code",
   "execution_count": 8,
   "metadata": {},
   "outputs": [
    {
     "data": {
      "text/plain": [
       "<matplotlib.axes._subplots.AxesSubplot at 0x7f9d90e31b10>"
      ]
     },
     "execution_count": 8,
     "metadata": {},
     "output_type": "execute_result"
    },
    {
     "data": {
      "image/png": "[encoded data removed]",
      "text/plain": [
       "<Figure size 432x288 with 1 Axes>"
      ]
     },
     "metadata": {
      "needs_background": "light"
     },
     "output_type": "display_data"
    }
   ],
   "source": [
    "# Plotting the distribution of the creatinine_phosphokinase column\n",
    "\n",
    "sns.distplot(df['creatinine_phosphokinase'])"
   ]
  },
  {
   "cell_type": "code",
   "execution_count": 9,
   "metadata": {},
   "outputs": [
    {
     "data": {
      "text/html": [
       "<div>\n",
       "<style scoped>\n",
       "    .dataframe tbody tr th:only-of-type {\n",
       "        vertical-align: middle;\n",
       "    }\n",
       "\n",
       "    .dataframe tbody tr th {\n",
       "        vertical-align: top;\n",
       "    }\n",
       "\n",
       "    .dataframe thead th {\n",
       "        text-align: right;\n",
       "    }\n",
       "</style>\n",
       "<table border=\"1\" class=\"dataframe\">\n",
       "  <thead>\n",
       "    <tr style=\"text-align: right;\">\n",
       "      <th></th>\n",
       "      <th>age</th>\n",
       "      <th>anaemia</th>\n",
       "      <th>creatinine_phosphokinase</th>\n",
       "      <th>diabetes</th>\n",
       "      <th>ejection_fraction</th>\n",
       "      <th>high_blood_pressure</th>\n",
       "      <th>platelets</th>\n",
       "      <th>serum_creatinine</th>\n",
       "      <th>serum_sodium</th>\n",
       "      <th>sex</th>\n",
       "      <th>smoking</th>\n",
       "      <th>time</th>\n",
       "      <th>DEATH_EVENT</th>\n",
       "    </tr>\n",
       "  </thead>\n",
       "  <tbody>\n",
       "    <tr>\n",
       "      <th>1</th>\n",
       "      <td>55.0</td>\n",
       "      <td>0</td>\n",
       "      <td>7861</td>\n",
       "      <td>0</td>\n",
       "      <td>38</td>\n",
       "      <td>0</td>\n",
       "      <td>263358.03</td>\n",
       "      <td>1.10</td>\n",
       "      <td>136</td>\n",
       "      <td>1</td>\n",
       "      <td>0</td>\n",
       "      <td>6</td>\n",
       "      <td>1</td>\n",
       "    </tr>\n",
       "    <tr>\n",
       "      <th>52</th>\n",
       "      <td>60.0</td>\n",
       "      <td>0</td>\n",
       "      <td>3964</td>\n",
       "      <td>1</td>\n",
       "      <td>62</td>\n",
       "      <td>0</td>\n",
       "      <td>263358.03</td>\n",
       "      <td>6.80</td>\n",
       "      <td>146</td>\n",
       "      <td>0</td>\n",
       "      <td>0</td>\n",
       "      <td>43</td>\n",
       "      <td>1</td>\n",
       "    </tr>\n",
       "    <tr>\n",
       "      <th>60</th>\n",
       "      <td>45.0</td>\n",
       "      <td>0</td>\n",
       "      <td>7702</td>\n",
       "      <td>1</td>\n",
       "      <td>25</td>\n",
       "      <td>1</td>\n",
       "      <td>390000.00</td>\n",
       "      <td>1.00</td>\n",
       "      <td>139</td>\n",
       "      <td>1</td>\n",
       "      <td>0</td>\n",
       "      <td>60</td>\n",
       "      <td>1</td>\n",
       "    </tr>\n",
       "    <tr>\n",
       "      <th>72</th>\n",
       "      <td>85.0</td>\n",
       "      <td>0</td>\n",
       "      <td>5882</td>\n",
       "      <td>0</td>\n",
       "      <td>35</td>\n",
       "      <td>0</td>\n",
       "      <td>243000.00</td>\n",
       "      <td>1.00</td>\n",
       "      <td>132</td>\n",
       "      <td>1</td>\n",
       "      <td>1</td>\n",
       "      <td>72</td>\n",
       "      <td>1</td>\n",
       "    </tr>\n",
       "    <tr>\n",
       "      <th>103</th>\n",
       "      <td>42.0</td>\n",
       "      <td>0</td>\n",
       "      <td>5209</td>\n",
       "      <td>0</td>\n",
       "      <td>30</td>\n",
       "      <td>0</td>\n",
       "      <td>226000.00</td>\n",
       "      <td>1.00</td>\n",
       "      <td>140</td>\n",
       "      <td>1</td>\n",
       "      <td>1</td>\n",
       "      <td>87</td>\n",
       "      <td>0</td>\n",
       "    </tr>\n",
       "    <tr>\n",
       "      <th>134</th>\n",
       "      <td>81.0</td>\n",
       "      <td>0</td>\n",
       "      <td>4540</td>\n",
       "      <td>0</td>\n",
       "      <td>35</td>\n",
       "      <td>0</td>\n",
       "      <td>231000.00</td>\n",
       "      <td>1.18</td>\n",
       "      <td>137</td>\n",
       "      <td>1</td>\n",
       "      <td>1</td>\n",
       "      <td>107</td>\n",
       "      <td>0</td>\n",
       "    </tr>\n",
       "    <tr>\n",
       "      <th>171</th>\n",
       "      <td>52.0</td>\n",
       "      <td>0</td>\n",
       "      <td>3966</td>\n",
       "      <td>0</td>\n",
       "      <td>40</td>\n",
       "      <td>0</td>\n",
       "      <td>325000.00</td>\n",
       "      <td>0.90</td>\n",
       "      <td>140</td>\n",
       "      <td>1</td>\n",
       "      <td>1</td>\n",
       "      <td>146</td>\n",
       "      <td>0</td>\n",
       "    </tr>\n",
       "  </tbody>\n",
       "</table>\n",
       "</div>"
      ],
      "text/plain": [
       "      age  anaemia  creatinine_phosphokinase  diabetes  ejection_fraction  \\\n",
       "1    55.0        0                      7861         0                 38   \n",
       "52   60.0        0                      3964         1                 62   \n",
       "60   45.0        0                      7702         1                 25   \n",
       "72   85.0        0                      5882         0                 35   \n",
       "103  42.0        0                      5209         0                 30   \n",
       "134  81.0        0                      4540         0                 35   \n",
       "171  52.0        0                      3966         0                 40   \n",
       "\n",
       "     high_blood_pressure  platelets  serum_creatinine  serum_sodium  sex  \\\n",
       "1                      0  263358.03              1.10           136    1   \n",
       "52                     0  263358.03              6.80           146    0   \n",
       "60                     1  390000.00              1.00           139    1   \n",
       "72                     0  243000.00              1.00           132    1   \n",
       "103                    0  226000.00              1.00           140    1   \n",
       "134                    0  231000.00              1.18           137    1   \n",
       "171                    0  325000.00              0.90           140    1   \n",
       "\n",
       "     smoking  time  DEATH_EVENT  \n",
       "1          0     6            1  \n",
       "52         0    43            1  \n",
       "60         0    60            1  \n",
       "72         1    72            1  \n",
       "103        1    87            0  \n",
       "134        1   107            0  \n",
       "171        1   146            0  "
      ]
     },
     "execution_count": 9,
     "metadata": {},
     "output_type": "execute_result"
    }
   ],
   "source": [
    "df[df['creatinine_phosphokinase']>3000]"
   ]
  },
  {
   "cell_type": "markdown",
   "metadata": {},
   "source": [
    "We'll treat the rows shown above as outliers, as they could cause problems during the training of our model."
   ]
  },
  {
   "cell_type": "code",
   "execution_count": 10,
   "metadata": {},
   "outputs": [],
   "source": [
    "# Getting rid of outliers \n",
    "\n",
    "df = df.drop([9,28,48,52,131,217,228,1,52,60,72,103,134,171])\n",
    "df = df.reset_index(drop=True)"
   ]
  },
  {
   "cell_type": "markdown",
   "metadata": {},
   "source": [
    "---------------------------------------------------------------------------------"
   ]
  },
  {
   "cell_type": "markdown",
   "metadata": {},
   "source": [
    "## Feature Engineering"
   ]
  },
  {
   "cell_type": "code",
   "execution_count": 11,
   "metadata": {},
   "outputs": [],
   "source": [
    "# Rescaling skewed features\n",
    "\n",
    "df['creatinine_phosphokinase'] = np.log(df['creatinine_phosphokinase'])\n",
    "df['serum_creatinine'] = np.log(df['serum_creatinine'])"
   ]
  },
  {
   "cell_type": "markdown",
   "metadata": {},
   "source": [
    "Next, I will look into which features seem to influence DEATH_EVENT the most.\n",
    "\n",
    "I will then generate new features.\n",
    "\n",
    "I will split into a training and test set now in order to remove any bias in chosing these special features.\\\n",
    "I will set a random_state of 42 in order to be consistent with which data entries are used for training and testing."
   ]
  },
  {
   "cell_type": "code",
   "execution_count": 12,
   "metadata": {},
   "outputs": [],
   "source": [
    "from sklearn.model_selection import train_test_split\n",
    "\n",
    "X = df.drop('DEATH_EVENT', axis=1)\n",
    "y = df['DEATH_EVENT']\n",
    "\n",
    "X_train, X_test, y_train, y_test = train_test_split(X, y, test_size=0.2, random_state=42)\n",
    "\n",
    "train = pd.concat([X_train, y_train], axis=1)"
   ]
  },
  {
   "cell_type": "code",
   "execution_count": 13,
   "metadata": {},
   "outputs": [
    {
     "data": {
      "text/plain": [
       "time                       -0.522495\n",
       "ejection_fraction          -0.294449\n",
       "serum_sodium               -0.200197\n",
       "diabetes                   -0.012182\n",
       "platelets                  -0.010817\n",
       "creatinine_phosphokinase   -0.007048\n",
       "sex                         0.018693\n",
       "anaemia                     0.031318\n",
       "smoking                     0.034041\n",
       "high_blood_pressure         0.080083\n",
       "age                         0.261032\n",
       "serum_creatinine            0.415227\n",
       "DEATH_EVENT                 1.000000\n",
       "Name: DEATH_EVENT, dtype: float64"
      ]
     },
     "execution_count": 13,
     "metadata": {},
     "output_type": "execute_result"
    }
   ],
   "source": [
    "# Seeing which features have the highest correlation with DEATH_EVENT\n",
    "\n",
    "train.corr()['DEATH_EVENT'].sort_values()"
   ]
  },
  {
   "cell_type": "markdown",
   "metadata": {},
   "source": [
    "As we can see, the features which seem to have the largest impact on DEATH_EVENT are (in descending order):\n",
    "* time\n",
    "* serum_creatinine\n",
    "* ejection_fraction\n",
    "* age\n",
    "* serum_sodium\n",
    "\n",
    "Let's generate new features using these:"
   ]
  },
  {
   "cell_type": "code",
   "execution_count": 14,
   "metadata": {},
   "outputs": [],
   "source": [
    "# Feature generation\n",
    "\n",
    "df['creatnine/ejection'] = df['serum_creatinine']/df['ejection_fraction']\n",
    "df['creatnine/sodium'] = df['serum_creatinine']/df['serum_sodium']\n",
    "df['creatnine/time'] = df['serum_creatinine']/df['time']\n",
    "df['age_creatnine'] =  df['serum_creatinine']*df['age']\n",
    "df['age/ejection'] = df['age']/df['ejection_fraction']\n",
    "df['age/sodium'] = df['age']/df['serum_sodium']\n",
    "df['age/time'] = df['age']/df['time']\n",
    "df['sodium_ejection'] = df['serum_sodium']*df['ejection_fraction']\n",
    "df['sodium_time'] = df['serum_sodium']*df['time']\n",
    "df['ejection_time'] = df['ejection_fraction']*df['time']"
   ]
  },
  {
   "cell_type": "markdown",
   "metadata": {},
   "source": [
    "Next, I will normalise the quantiative features"
   ]
  },
  {
   "cell_type": "code",
   "execution_count": 15,
   "metadata": {},
   "outputs": [],
   "source": [
    "quantitative = ['age', 'creatinine_phosphokinase', 'ejection_fraction', 'platelets',\n",
    "               'serum_creatinine', 'serum_sodium', 'time', 'creatnine/ejection',\n",
    "               'creatnine/sodium', 'age_creatnine', 'age/ejection', \n",
    "               'age/sodium', 'sodium_ejection']\n",
    "\n",
    "from sklearn.preprocessing import MinMaxScaler\n",
    "sc = MinMaxScaler()\n",
    "df[quantitative] = sc.fit_transform(df[quantitative])"
   ]
  },
  {
   "cell_type": "markdown",
   "metadata": {},
   "source": [
    "---------------------------------------------------------------------------------"
   ]
  },
  {
   "cell_type": "markdown",
   "metadata": {},
   "source": [
    "## Model Building"
   ]
  },
  {
   "cell_type": "markdown",
   "metadata": {},
   "source": [
    "Now, due to the dataset being having few entries, I will reduce the number of features used in the model - as this will decrease variance.\n",
    "\n",
    "As i did previously, I will split the new dataset into the same train and test sets, and view the features which have a large absolute correlation with DEATH_EVENT"
   ]
  },
  {
   "cell_type": "code",
   "execution_count": 16,
   "metadata": {},
   "outputs": [
    {
     "data": {
      "text/plain": [
       "ejection_time              -0.579251\n",
       "sodium_time                -0.524682\n",
       "time                       -0.522495\n",
       "sodium_ejection            -0.305453\n",
       "ejection_fraction          -0.294449\n",
       "serum_sodium               -0.200197\n",
       "diabetes                   -0.012182\n",
       "platelets                  -0.010817\n",
       "creatinine_phosphokinase   -0.007048\n",
       "sex                         0.018693\n",
       "anaemia                     0.031318\n",
       "smoking                     0.034041\n",
       "high_blood_pressure         0.080083\n",
       "age                         0.261032\n",
       "age/sodium                  0.289377\n",
       "creatnine/time              0.374550\n",
       "serum_creatinine            0.415227\n",
       "creatnine/sodium            0.419493\n",
       "age_creatnine               0.432068\n",
       "creatnine/ejection          0.433401\n",
       "age/ejection                0.452385\n",
       "age/time                    0.469109\n",
       "DEATH_EVENT                 1.000000\n",
       "Name: DEATH_EVENT, dtype: float64"
      ]
     },
     "execution_count": 16,
     "metadata": {},
     "output_type": "execute_result"
    }
   ],
   "source": [
    "X = df.drop('DEATH_EVENT', axis=1)\n",
    "y = df['DEATH_EVENT']\n",
    "\n",
    "X_train, X_test, y_train, y_test = train_test_split(X, y, test_size=0.2, random_state=42)\n",
    "\n",
    "train = pd.concat([X_train, y_train], axis=1)\n",
    "\n",
    "train.corr()['DEATH_EVENT'].sort_values()"
   ]
  },
  {
   "cell_type": "code",
   "execution_count": 17,
   "metadata": {},
   "outputs": [],
   "source": [
    "# Choosing which features I will use in the model\n",
    "\n",
    "features = ['creatnine/ejection', 'age/time', 'creatnine/sodium', 'ejection_time']"
   ]
  },
  {
   "cell_type": "markdown",
   "metadata": {},
   "source": [
    "Now to create the model!"
   ]
  },
  {
   "cell_type": "code",
   "execution_count": 18,
   "metadata": {},
   "outputs": [],
   "source": [
    "# Importing ML packages\n",
    "\n",
    "from sklearn import svm, tree, linear_model, neighbors, naive_bayes, ensemble, discriminant_analysis, gaussian_process\n",
    "from xgboost import XGBClassifier\n",
    "\n",
    "# Creating a list of different models\n",
    "models = [\n",
    "    #Ensemble Methods\n",
    "    ensemble.AdaBoostClassifier(),\n",
    "    ensemble.BaggingClassifier(),\n",
    "    ensemble.ExtraTreesClassifier(),\n",
    "    ensemble.GradientBoostingClassifier(),\n",
    "    ensemble.RandomForestClassifier(),\n",
    "\n",
    "    #Gaussian Processes\n",
    "    gaussian_process.GaussianProcessClassifier(),\n",
    "    \n",
    "    #GLM\n",
    "    linear_model.LogisticRegression(),\n",
    "    linear_model.PassiveAggressiveClassifier(),\n",
    "    linear_model.RidgeClassifier(),\n",
    "    linear_model.SGDClassifier(),\n",
    "    linear_model.Perceptron(),\n",
    "    \n",
    "    #Navies Bayes\n",
    "    naive_bayes.BernoulliNB(),\n",
    "    naive_bayes.GaussianNB(),\n",
    "    \n",
    "    #Nearest Neighbor\n",
    "    neighbors.KNeighborsClassifier(),\n",
    "    \n",
    "    #SVM\n",
    "    svm.SVC(),\n",
    "    svm.NuSVC(),\n",
    "    svm.LinearSVC(),\n",
    "    \n",
    "    #Trees    \n",
    "    tree.DecisionTreeClassifier(),\n",
    "    tree.ExtraTreeClassifier(),\n",
    "    \n",
    "    #Discriminant Analysis\n",
    "    discriminant_analysis.LinearDiscriminantAnalysis(),\n",
    "    discriminant_analysis.QuadraticDiscriminantAnalysis(),\n",
    "    \n",
    "    XGBClassifier()\n",
    "]"
   ]
  },
  {
   "cell_type": "code",
   "execution_count": 19,
   "metadata": {},
   "outputs": [],
   "source": [
    "# Split into train and test sets again\n",
    "\n",
    "X = df[features]\n",
    "y = df['DEATH_EVENT']\n",
    "\n",
    "from sklearn.model_selection import train_test_split\n",
    "\n",
    "X_train, X_test, y_train, y_test = train_test_split(X, y, test_size=0.2, random_state=42)"
   ]
  },
  {
   "cell_type": "code",
   "execution_count": 20,
   "metadata": {},
   "outputs": [
    {
     "name": "stdout",
     "output_type": "stream",
     "text": [
      "[0.74561404 0.80701754] AdaBoostClassifier\n",
      "[0.78947368 0.86842105] BaggingClassifier\n",
      "[0.8245614  0.80701754] ExtraTreesClassifier\n",
      "[0.79824561 0.78947368] GradientBoostingClassifier\n",
      "[0.80701754 0.83333333] RandomForestClassifier\n",
      "[0.78070175 0.76315789] GaussianProcessClassifier\n",
      "[0.8245614  0.86842105] LogisticRegression\n",
      "[0.75438596 0.71929825] PassiveAggressiveClassifier\n",
      "[0.83333333 0.84210526] RidgeClassifier\n",
      "[0.71052632 0.70175439] SGDClassifier\n",
      "[0.71052632 0.70175439] Perceptron\n",
      "[0.71052632 0.69298246] BernoulliNB\n",
      "[0.83333333 0.84210526] GaussianNB\n",
      "[0.81578947 0.89473684] KNeighborsClassifier\n",
      "[0.81578947 0.89473684] SVC\n",
      "[0.8245614  0.90350877] NuSVC\n",
      "[0.83333333 0.29824561] LinearSVC\n",
      "[0.78070175 0.72807018] DecisionTreeClassifier\n",
      "[0.75438596 0.81578947] ExtraTreeClassifier\n",
      "[0.85087719 0.85087719] LinearDiscriminantAnalysis\n",
      "[0.84210526 0.8245614 ] QuadraticDiscriminantAnalysis\n",
      "[0.8245614  0.79824561] XGBClassifier\n"
     ]
    }
   ],
   "source": [
    "# Performing KFold Cross Validation on the train set\n",
    "# Put the best performing models aside to use in a voting classifier \n",
    "# in order to reduce variance\n",
    "\n",
    "from sklearn.model_selection import KFold\n",
    "from sklearn.model_selection import cross_val_score\n",
    "kf = KFold(n_splits=2, random_state=42, shuffle=True)\n",
    "\n",
    "bag = []\n",
    "for model in models:\n",
    "    # evaluate model\n",
    "    scores = cross_val_score(model, X_train, y_train, scoring='accuracy', cv=kf, n_jobs=-1)\n",
    "    print(scores, str(model).split('(')[0])\n",
    "    \n",
    "    if scores[0] + scores[1]>1.65:\n",
    "        bag.append((str(model).split('(')[0], scores))"
   ]
  },
  {
   "cell_type": "code",
   "execution_count": 21,
   "metadata": {},
   "outputs": [
    {
     "data": {
      "text/plain": [
       "[('BaggingClassifier', array([0.78947368, 0.86842105])),\n",
       " ('LogisticRegression', array([0.8245614 , 0.86842105])),\n",
       " ('RidgeClassifier', array([0.83333333, 0.84210526])),\n",
       " ('GaussianNB', array([0.83333333, 0.84210526])),\n",
       " ('KNeighborsClassifier', array([0.81578947, 0.89473684])),\n",
       " ('SVC', array([0.81578947, 0.89473684])),\n",
       " ('NuSVC', array([0.8245614 , 0.90350877])),\n",
       " ('LinearDiscriminantAnalysis', array([0.85087719, 0.85087719])),\n",
       " ('QuadraticDiscriminantAnalysis', array([0.84210526, 0.8245614 ]))]"
      ]
     },
     "execution_count": 21,
     "metadata": {},
     "output_type": "execute_result"
    }
   ],
   "source": [
    "# Viewing the models to be used in the voting classifier\n",
    "\n",
    "bag"
   ]
  },
  {
   "cell_type": "code",
   "execution_count": 22,
   "metadata": {},
   "outputs": [],
   "source": [
    "# Creating the voting classifier\n",
    "\n",
    "from sklearn.ensemble import VotingClassifier\n",
    "\n",
    "clf1 = ensemble.BaggingClassifier()\n",
    "clf2 = linear_model.LogisticRegression()\n",
    "clf3 = linear_model.RidgeClassifier()\n",
    "clf4 = naive_bayes.GaussianNB()\n",
    "clf5 = neighbors.KNeighborsClassifier()\n",
    "clf6 = svm.SVC()\n",
    "clf7 = discriminant_analysis.LinearDiscriminantAnalysis()\n",
    "\n",
    "\n",
    "eclf = VotingClassifier(estimators=[('Bagging', clf1),\n",
    "                                     ('LogReg', clf2),\n",
    "                                     ('Ridge', clf3),\n",
    "                                    ('GaussianNB', clf4),\n",
    "                                    ('KNN', clf5),\n",
    "                                   ('SVC', clf6),\n",
    "                                   ('LDA', clf7)],\n",
    "                                   voting='hard')\n",
    "eclf = eclf.fit(X_train, y_train)"
   ]
  },
  {
   "cell_type": "code",
   "execution_count": 23,
   "metadata": {},
   "outputs": [
    {
     "data": {
      "text/plain": [
       "array([0.8245614 , 0.86842105])"
      ]
     },
     "execution_count": 23,
     "metadata": {},
     "output_type": "execute_result"
    }
   ],
   "source": [
    "# Viewing the cross validation scores for the voting classifier\n",
    "\n",
    "cross_val_score(eclf, X_train, y_train, scoring='accuracy', cv=kf, n_jobs=-1)"
   ]
  },
  {
   "cell_type": "markdown",
   "metadata": {},
   "source": [
    "Variance seems to be relatively low, so I will forgo hyperparameter optimisation."
   ]
  },
  {
   "cell_type": "code",
   "execution_count": 24,
   "metadata": {},
   "outputs": [
    {
     "name": "stdout",
     "output_type": "stream",
     "text": [
      "The accuracy of the voting classifier on the test set is: 84.5%\n"
     ]
    }
   ],
   "source": [
    "# Viewing the score of this classifier on the test set\n",
    "\n",
    "print('The accuracy of the voting classifier on the test set is: {}%'\\\n",
    "      .format(round(100*eclf.score(X_test,y_test),1)))"
   ]
  },
  {
   "cell_type": "code",
   "execution_count": 25,
   "metadata": {},
   "outputs": [
    {
     "data": {
      "text/plain": [
       "0.9285714285714286"
      ]
     },
     "execution_count": 25,
     "metadata": {},
     "output_type": "execute_result"
    }
   ],
   "source": [
    "# Viewing the recall\n",
    "\n",
    "from sklearn.metrics import recall_score\n",
    "recall_score(eclf.predict(X_test), y_test)"
   ]
  },
  {
   "cell_type": "markdown",
   "metadata": {},
   "source": [
    "As we can see, the scores are very good!"
   ]
  },
  {
   "cell_type": "markdown",
   "metadata": {},
   "source": [
    "---------------------------------------------------------------------------------"
   ]
  },
  {
   "cell_type": "markdown",
   "metadata": {},
   "source": [
    "## Summary:\n",
    "\n",
    "* First of all, there were relatively few data points with a few outliers, so overfitting was a potential problem which needed to be combatted.\n",
    "\n",
    "* The distribution of DEATH_EVENT was slightly unbalanced, but not enough for us to use sampling techniques when training a model. \n",
    "\n",
    "* Upon inspection of the dataset, I found that there were a few very important features in predicting DEATH_EVENT. These were: time, serum_creatinine, ejection_fraction, age and serum_sodium. \n",
    "\n",
    "* For these two reasons, I created new features using those which had great importance, and only used a few in the training of the model. \n",
    "\n",
    "* As for the metric used for training the model, I chose accuracy. The recall score was of importance considering the target variable being a DEATH_EVENT, however I felt as though accuracy would be easier to optimise, due to this being a small dataset. \n",
    "\n",
    "* I then used cross validation on the training set to select models to be used in a voting classifier, in order to reduce overfitting. \n",
    "\n",
    "* In the end I created a seemingly low variance model, which performed well on the test set – achieving an accuracy of 84.5%"
   ]
  }
 ],
 "metadata": {
  "kernelspec": {
   "display_name": "Python 3",
   "language": "python",
   "name": "python3"
  },
  "language_info": {
   "codemirror_mode": {
    "name": "ipython",
    "version": 3
   },
   "file_extension": ".py",
   "mimetype": "text/x-python",
   "name": "python",
   "nbconvert_exporter": "python",
   "pygments_lexer": "ipython3",
   "version": "3.7.4"
  }
 },
 "nbformat": 4,
 "nbformat_minor": 2
}
