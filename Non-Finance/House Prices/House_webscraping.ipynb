{
 "cells": [
  {
   "cell_type": "code",
   "execution_count": 55,
   "metadata": {},
   "outputs": [],
   "source": [
    "import pandas as pd"
   ]
  },
  {
   "cell_type": "code",
   "execution_count": 1,
   "metadata": {},
   "outputs": [],
   "source": [
    "from rightmove_webscraper import RightmoveData\n",
    "url = 'https://www.rightmove.co.uk/property-for-sale/find.html?locationIdentifier=REGION%5E61325&maxBedrooms=10&minBedrooms=2&propertyTypes=&includeSSTC=false&mustHave=&dontShow=retirement%2CsharedOwnership&furnishTypes=&keywords=' \n",
    "rm = RightmoveData(url)"
   ]
  },
  {
   "cell_type": "code",
   "execution_count": 2,
   "metadata": {},
   "outputs": [
    {
     "data": {
      "text/plain": [
       "1309292.8466666667"
      ]
     },
     "execution_count": 2,
     "metadata": {},
     "output_type": "execute_result"
    }
   ],
   "source": [
    "rm.average_price"
   ]
  },
  {
   "cell_type": "code",
   "execution_count": 3,
   "metadata": {},
   "outputs": [
    {
     "data": {
      "text/plain": [
       "1050"
      ]
     },
     "execution_count": 3,
     "metadata": {},
     "output_type": "execute_result"
    }
   ],
   "source": [
    "rm.results_count "
   ]
  },
  {
   "cell_type": "code",
   "execution_count": 4,
   "metadata": {},
   "outputs": [],
   "source": [
    "df = rm.get_results"
   ]
  },
  {
   "cell_type": "code",
   "execution_count": 5,
   "metadata": {},
   "outputs": [
    {
     "data": {
      "text/html": [
       "<div>\n",
       "<style scoped>\n",
       "    .dataframe tbody tr th:only-of-type {\n",
       "        vertical-align: middle;\n",
       "    }\n",
       "\n",
       "    .dataframe tbody tr th {\n",
       "        vertical-align: top;\n",
       "    }\n",
       "\n",
       "    .dataframe thead th {\n",
       "        text-align: right;\n",
       "    }\n",
       "</style>\n",
       "<table border=\"1\" class=\"dataframe\">\n",
       "  <thead>\n",
       "    <tr style=\"text-align: right;\">\n",
       "      <th></th>\n",
       "      <th>number_bedrooms</th>\n",
       "      <th>count</th>\n",
       "      <th>mean</th>\n",
       "    </tr>\n",
       "  </thead>\n",
       "  <tbody>\n",
       "    <tr>\n",
       "      <th>0</th>\n",
       "      <td>2</td>\n",
       "      <td>22</td>\n",
       "      <td>4.347682e+05</td>\n",
       "    </tr>\n",
       "    <tr>\n",
       "      <th>1</th>\n",
       "      <td>3</td>\n",
       "      <td>75</td>\n",
       "      <td>1.000598e+06</td>\n",
       "    </tr>\n",
       "    <tr>\n",
       "      <th>2</th>\n",
       "      <td>4</td>\n",
       "      <td>319</td>\n",
       "      <td>1.121521e+06</td>\n",
       "    </tr>\n",
       "    <tr>\n",
       "      <th>3</th>\n",
       "      <td>5</td>\n",
       "      <td>368</td>\n",
       "      <td>1.363759e+06</td>\n",
       "    </tr>\n",
       "    <tr>\n",
       "      <th>4</th>\n",
       "      <td>6</td>\n",
       "      <td>161</td>\n",
       "      <td>1.592512e+06</td>\n",
       "    </tr>\n",
       "    <tr>\n",
       "      <th>5</th>\n",
       "      <td>7</td>\n",
       "      <td>39</td>\n",
       "      <td>1.905383e+06</td>\n",
       "    </tr>\n",
       "    <tr>\n",
       "      <th>6</th>\n",
       "      <td>8</td>\n",
       "      <td>16</td>\n",
       "      <td>2.562500e+06</td>\n",
       "    </tr>\n",
       "    <tr>\n",
       "      <th>7</th>\n",
       "      <td>9</td>\n",
       "      <td>16</td>\n",
       "      <td>2.604375e+06</td>\n",
       "    </tr>\n",
       "    <tr>\n",
       "      <th>8</th>\n",
       "      <td>10</td>\n",
       "      <td>3</td>\n",
       "      <td>3.716667e+06</td>\n",
       "    </tr>\n",
       "  </tbody>\n",
       "</table>\n",
       "</div>"
      ],
      "text/plain": [
       "   number_bedrooms  count          mean\n",
       "0                2     22  4.347682e+05\n",
       "1                3     75  1.000598e+06\n",
       "2                4    319  1.121521e+06\n",
       "3                5    368  1.363759e+06\n",
       "4                6    161  1.592512e+06\n",
       "5                7     39  1.905383e+06\n",
       "6                8     16  2.562500e+06\n",
       "7                9     16  2.604375e+06\n",
       "8               10      3  3.716667e+06"
      ]
     },
     "execution_count": 5,
     "metadata": {},
     "output_type": "execute_result"
    }
   ],
   "source": [
    "rm.summary() "
   ]
  },
  {
   "cell_type": "code",
   "execution_count": 6,
   "metadata": {},
   "outputs": [
    {
     "data": {
      "text/html": [
       "<div>\n",
       "<style scoped>\n",
       "    .dataframe tbody tr th:only-of-type {\n",
       "        vertical-align: middle;\n",
       "    }\n",
       "\n",
       "    .dataframe tbody tr th {\n",
       "        vertical-align: top;\n",
       "    }\n",
       "\n",
       "    .dataframe thead th {\n",
       "        text-align: right;\n",
       "    }\n",
       "</style>\n",
       "<table border=\"1\" class=\"dataframe\">\n",
       "  <thead>\n",
       "    <tr style=\"text-align: right;\">\n",
       "      <th></th>\n",
       "      <th>price</th>\n",
       "      <th>type</th>\n",
       "      <th>address</th>\n",
       "      <th>url</th>\n",
       "      <th>agent_url</th>\n",
       "      <th>postcode</th>\n",
       "      <th>number_bedrooms</th>\n",
       "      <th>search_date</th>\n",
       "    </tr>\n",
       "  </thead>\n",
       "  <tbody>\n",
       "    <tr>\n",
       "      <th>0</th>\n",
       "      <td>320000.0</td>\n",
       "      <td>2 bedroom detached bungalow for sale</td>\n",
       "      <td>Harmers Hay Road, Hailsham</td>\n",
       "      <td>http://www.rightmove.co.uk/property-for-sale/p...</td>\n",
       "      <td>http://www.rightmove.co.uk/estate-agents/agent...</td>\n",
       "      <td>NaN</td>\n",
       "      <td>2.0</td>\n",
       "      <td>2020-07-11 14:33:57.527045</td>\n",
       "    </tr>\n",
       "    <tr>\n",
       "      <th>1</th>\n",
       "      <td>NaN</td>\n",
       "      <td>9 bedroom house for sale</td>\n",
       "      <td>Marley Heights, Haslemere</td>\n",
       "      <td>http://www.rightmove.co.uk/property-for-sale/p...</td>\n",
       "      <td>http://www.rightmove.co.uk/estate-agents/agent...</td>\n",
       "      <td>NaN</td>\n",
       "      <td>9.0</td>\n",
       "      <td>2020-07-11 14:33:57.527045</td>\n",
       "    </tr>\n",
       "    <tr>\n",
       "      <th>2</th>\n",
       "      <td>NaN</td>\n",
       "      <td>9 bedroom detached house for sale</td>\n",
       "      <td>Marley Heights, Haslemere, Surrey, GU27</td>\n",
       "      <td>http://www.rightmove.co.uk/property-for-sale/p...</td>\n",
       "      <td>http://www.rightmove.co.uk/estate-agents/agent...</td>\n",
       "      <td>GU27</td>\n",
       "      <td>9.0</td>\n",
       "      <td>2020-07-11 14:33:57.527045</td>\n",
       "    </tr>\n",
       "    <tr>\n",
       "      <th>3</th>\n",
       "      <td>7500000.0</td>\n",
       "      <td>9 bedroom detached house for sale</td>\n",
       "      <td>Marley Common, Haslemere, Surrey, GU27</td>\n",
       "      <td>http://www.rightmove.co.uk/property-for-sale/p...</td>\n",
       "      <td>http://www.rightmove.co.uk/estate-agents/agent...</td>\n",
       "      <td>GU27</td>\n",
       "      <td>9.0</td>\n",
       "      <td>2020-07-11 14:33:57.527045</td>\n",
       "    </tr>\n",
       "    <tr>\n",
       "      <th>4</th>\n",
       "      <td>6500000.0</td>\n",
       "      <td>10 bedroom detached house for sale</td>\n",
       "      <td>Selham, Petworth, West Sussex, GU28</td>\n",
       "      <td>http://www.rightmove.co.uk/property-for-sale/p...</td>\n",
       "      <td>http://www.rightmove.co.uk/estate-agents/agent...</td>\n",
       "      <td>GU28</td>\n",
       "      <td>10.0</td>\n",
       "      <td>2020-07-11 14:33:57.527045</td>\n",
       "    </tr>\n",
       "  </tbody>\n",
       "</table>\n",
       "</div>"
      ],
      "text/plain": [
       "       price                                  type  \\\n",
       "0   320000.0  2 bedroom detached bungalow for sale   \n",
       "1        NaN              9 bedroom house for sale   \n",
       "2        NaN     9 bedroom detached house for sale   \n",
       "3  7500000.0     9 bedroom detached house for sale   \n",
       "4  6500000.0    10 bedroom detached house for sale   \n",
       "\n",
       "                                   address  \\\n",
       "0               Harmers Hay Road, Hailsham   \n",
       "1                Marley Heights, Haslemere   \n",
       "2  Marley Heights, Haslemere, Surrey, GU27   \n",
       "3   Marley Common, Haslemere, Surrey, GU27   \n",
       "4      Selham, Petworth, West Sussex, GU28   \n",
       "\n",
       "                                                 url  \\\n",
       "0  http://www.rightmove.co.uk/property-for-sale/p...   \n",
       "1  http://www.rightmove.co.uk/property-for-sale/p...   \n",
       "2  http://www.rightmove.co.uk/property-for-sale/p...   \n",
       "3  http://www.rightmove.co.uk/property-for-sale/p...   \n",
       "4  http://www.rightmove.co.uk/property-for-sale/p...   \n",
       "\n",
       "                                           agent_url postcode  \\\n",
       "0  http://www.rightmove.co.uk/estate-agents/agent...      NaN   \n",
       "1  http://www.rightmove.co.uk/estate-agents/agent...      NaN   \n",
       "2  http://www.rightmove.co.uk/estate-agents/agent...     GU27   \n",
       "3  http://www.rightmove.co.uk/estate-agents/agent...     GU27   \n",
       "4  http://www.rightmove.co.uk/estate-agents/agent...     GU28   \n",
       "\n",
       "   number_bedrooms                search_date  \n",
       "0              2.0 2020-07-11 14:33:57.527045  \n",
       "1              9.0 2020-07-11 14:33:57.527045  \n",
       "2              9.0 2020-07-11 14:33:57.527045  \n",
       "3              9.0 2020-07-11 14:33:57.527045  \n",
       "4             10.0 2020-07-11 14:33:57.527045  "
      ]
     },
     "execution_count": 6,
     "metadata": {},
     "output_type": "execute_result"
    }
   ],
   "source": [
    "df.head()"
   ]
  },
  {
   "cell_type": "code",
   "execution_count": 7,
   "metadata": {},
   "outputs": [],
   "source": [
    "df = df.drop(['url','agent_url', 'search_date'], axis=1)"
   ]
  },
  {
   "cell_type": "code",
   "execution_count": 8,
   "metadata": {},
   "outputs": [
    {
     "name": "stdout",
     "output_type": "stream",
     "text": [
      "<class 'pandas.core.frame.DataFrame'>\n",
      "RangeIndex: 1050 entries, 0 to 1049\n",
      "Data columns (total 5 columns):\n",
      " #   Column           Non-Null Count  Dtype  \n",
      "---  ------           --------------  -----  \n",
      " 0   price            1023 non-null   float64\n",
      " 1   type             1050 non-null   object \n",
      " 2   address          1050 non-null   object \n",
      " 3   postcode         538 non-null    object \n",
      " 4   number_bedrooms  1046 non-null   float64\n",
      "dtypes: float64(2), object(3)\n",
      "memory usage: 41.1+ KB\n"
     ]
    }
   ],
   "source": [
    "df.info()"
   ]
  },
  {
   "cell_type": "code",
   "execution_count": 9,
   "metadata": {},
   "outputs": [
    {
     "name": "stdout",
     "output_type": "stream",
     "text": [
      "<class 'pandas.core.frame.DataFrame'>\n",
      "Int64Index: 1019 entries, 0 to 1049\n",
      "Data columns (total 5 columns):\n",
      " #   Column           Non-Null Count  Dtype  \n",
      "---  ------           --------------  -----  \n",
      " 0   price            1019 non-null   float64\n",
      " 1   type             1019 non-null   object \n",
      " 2   address          1019 non-null   object \n",
      " 3   postcode         519 non-null    object \n",
      " 4   number_bedrooms  1019 non-null   float64\n",
      "dtypes: float64(2), object(3)\n",
      "memory usage: 47.8+ KB\n"
     ]
    }
   ],
   "source": [
    "# Get rid of data with no price or no bedrooms\n",
    "\n",
    "df = df[df.price == df.price]\n",
    "df = df[df.number_bedrooms == df.number_bedrooms]\n",
    "df.info()"
   ]
  },
  {
   "cell_type": "code",
   "execution_count": 10,
   "metadata": {},
   "outputs": [
    {
     "data": {
      "text/html": [
       "<div>\n",
       "<style scoped>\n",
       "    .dataframe tbody tr th:only-of-type {\n",
       "        vertical-align: middle;\n",
       "    }\n",
       "\n",
       "    .dataframe tbody tr th {\n",
       "        vertical-align: top;\n",
       "    }\n",
       "\n",
       "    .dataframe thead th {\n",
       "        text-align: right;\n",
       "    }\n",
       "</style>\n",
       "<table border=\"1\" class=\"dataframe\">\n",
       "  <thead>\n",
       "    <tr style=\"text-align: right;\">\n",
       "      <th></th>\n",
       "      <th>postcode</th>\n",
       "      <th>count</th>\n",
       "      <th>mean</th>\n",
       "    </tr>\n",
       "  </thead>\n",
       "  <tbody>\n",
       "    <tr>\n",
       "      <th>0</th>\n",
       "      <td>BN3</td>\n",
       "      <td>42</td>\n",
       "      <td>1.293807e+06</td>\n",
       "    </tr>\n",
       "    <tr>\n",
       "      <th>1</th>\n",
       "      <td>BN1</td>\n",
       "      <td>38</td>\n",
       "      <td>1.307237e+06</td>\n",
       "    </tr>\n",
       "    <tr>\n",
       "      <th>2</th>\n",
       "      <td>BN2</td>\n",
       "      <td>27</td>\n",
       "      <td>1.294074e+06</td>\n",
       "    </tr>\n",
       "    <tr>\n",
       "      <th>3</th>\n",
       "      <td>RH20</td>\n",
       "      <td>24</td>\n",
       "      <td>1.515417e+06</td>\n",
       "    </tr>\n",
       "    <tr>\n",
       "      <th>4</th>\n",
       "      <td>PO20</td>\n",
       "      <td>23</td>\n",
       "      <td>1.409565e+06</td>\n",
       "    </tr>\n",
       "    <tr>\n",
       "      <th>...</th>\n",
       "      <td>...</td>\n",
       "      <td>...</td>\n",
       "      <td>...</td>\n",
       "    </tr>\n",
       "    <tr>\n",
       "      <th>59</th>\n",
       "      <td>BN10</td>\n",
       "      <td>1</td>\n",
       "      <td>3.949950e+05</td>\n",
       "    </tr>\n",
       "    <tr>\n",
       "      <th>60</th>\n",
       "      <td>TN37</td>\n",
       "      <td>1</td>\n",
       "      <td>8.600000e+05</td>\n",
       "    </tr>\n",
       "    <tr>\n",
       "      <th>61</th>\n",
       "      <td>GU8</td>\n",
       "      <td>1</td>\n",
       "      <td>1.295000e+06</td>\n",
       "    </tr>\n",
       "    <tr>\n",
       "      <th>62</th>\n",
       "      <td>BN45</td>\n",
       "      <td>1</td>\n",
       "      <td>9.500000e+05</td>\n",
       "    </tr>\n",
       "    <tr>\n",
       "      <th>63</th>\n",
       "      <td>BN42</td>\n",
       "      <td>1</td>\n",
       "      <td>1.500000e+06</td>\n",
       "    </tr>\n",
       "  </tbody>\n",
       "</table>\n",
       "<p>64 rows × 3 columns</p>\n",
       "</div>"
      ],
      "text/plain": [
       "   postcode  count          mean\n",
       "0       BN3     42  1.293807e+06\n",
       "1       BN1     38  1.307237e+06\n",
       "2       BN2     27  1.294074e+06\n",
       "3      RH20     24  1.515417e+06\n",
       "4      PO20     23  1.409565e+06\n",
       "..      ...    ...           ...\n",
       "59     BN10      1  3.949950e+05\n",
       "60     TN37      1  8.600000e+05\n",
       "61      GU8      1  1.295000e+06\n",
       "62     BN45      1  9.500000e+05\n",
       "63     BN42      1  1.500000e+06\n",
       "\n",
       "[64 rows x 3 columns]"
      ]
     },
     "execution_count": 10,
     "metadata": {},
     "output_type": "execute_result"
    }
   ],
   "source": [
    "rm.summary(by='postcode') "
   ]
  },
  {
   "cell_type": "code",
   "execution_count": 11,
   "metadata": {},
   "outputs": [
    {
     "name": "stderr",
     "output_type": "stream",
     "text": [
      "/Users/patrickfahy99/opt/anaconda3/lib/python3.7/site-packages/statsmodels/tools/_testing.py:19: FutureWarning: pandas.util.testing is deprecated. Use the functions in the public API at pandas.testing instead.\n",
      "  import pandas.util.testing as tm\n"
     ]
    }
   ],
   "source": [
    "import seaborn as sns\n",
    "\n",
    "sns.set(style=\"whitegrid\")\n",
    "sns.set(rc={'figure.figsize':(15,10)})\n",
    "ax = sns.barplot(x=\"postcode\", y=\"mean\", data=rm.summary(by='postcode') )"
   ]
  },
  {
   "cell_type": "code",
   "execution_count": 51,
   "metadata": {},
   "outputs": [],
   "source": [
    "df.reset_index(inplace = True)"
   ]
  },
  {
   "cell_type": "code",
   "execution_count": 62,
   "metadata": {},
   "outputs": [
    {
     "name": "stderr",
     "output_type": "stream",
     "text": [
      "/Users/patrickfahy99/opt/anaconda3/lib/python3.7/site-packages/ipykernel_launcher.py:10: SettingWithCopyWarning: \n",
      "A value is trying to be set on a copy of a slice from a DataFrame\n",
      "\n",
      "See the caveats in the documentation: https://pandas.pydata.org/pandas-docs/stable/user_guide/indexing.html#returning-a-view-versus-a-copy\n",
      "  # Remove the CWD from sys.path while we load stuff.\n"
     ]
    }
   ],
   "source": [
    "for i in range(len(df)):\n",
    "    if df.postcode[i] != df.postcode[i]:\n",
    "        address_query = df.address[i]\n",
    "        params = {\"api_key\": \"ak_kci4h4arEquRAiUfXgwIz0L3WCiV7\", \"query\": address_query}\n",
    "\n",
    "        conn = http.client.HTTPSConnection(\"api.ideal-postcodes.co.uk:443\")\n",
    "        conn.request(\"GET\", \"/v1/addresses?%s\" % urllib.parse.urlencode(params))\n",
    "\n",
    "        addresses = json.load(conn.getresponse())['result']\n",
    "        df.postcode[i] = addresses['hits'][0]['postcode'].split()[0]"
   ]
  },
  {
   "cell_type": "code",
   "execution_count": 63,
   "metadata": {},
   "outputs": [
    {
     "name": "stdout",
     "output_type": "stream",
     "text": [
      "<class 'pandas.core.frame.DataFrame'>\n",
      "RangeIndex: 1019 entries, 0 to 1018\n",
      "Data columns (total 6 columns):\n",
      " #   Column           Non-Null Count  Dtype  \n",
      "---  ------           --------------  -----  \n",
      " 0   index            1019 non-null   int64  \n",
      " 1   price            1019 non-null   float64\n",
      " 2   type             1019 non-null   object \n",
      " 3   address          1019 non-null   object \n",
      " 4   postcode         1019 non-null   object \n",
      " 5   number_bedrooms  1019 non-null   float64\n",
      "dtypes: float64(2), int64(1), object(3)\n",
      "memory usage: 47.9+ KB\n"
     ]
    }
   ],
   "source": [
    "df.info()"
   ]
  },
  {
   "cell_type": "code",
   "execution_count": 65,
   "metadata": {},
   "outputs": [],
   "source": [
    "df.to_csv('house_data')"
   ]
  },
  {
   "cell_type": "code",
   "execution_count": 46,
   "metadata": {},
   "outputs": [
    {
     "data": {
      "text/html": [
       "<div>\n",
       "<style scoped>\n",
       "    .dataframe tbody tr th:only-of-type {\n",
       "        vertical-align: middle;\n",
       "    }\n",
       "\n",
       "    .dataframe tbody tr th {\n",
       "        vertical-align: top;\n",
       "    }\n",
       "\n",
       "    .dataframe thead th {\n",
       "        text-align: right;\n",
       "    }\n",
       "</style>\n",
       "<table border=\"1\" class=\"dataframe\">\n",
       "  <thead>\n",
       "    <tr style=\"text-align: right;\">\n",
       "      <th></th>\n",
       "      <th>price</th>\n",
       "      <th>type</th>\n",
       "      <th>address</th>\n",
       "      <th>postcode</th>\n",
       "      <th>number_bedrooms</th>\n",
       "    </tr>\n",
       "  </thead>\n",
       "  <tbody>\n",
       "    <tr>\n",
       "      <th>0</th>\n",
       "      <td>320000.0</td>\n",
       "      <td>2 bedroom detached bungalow for sale</td>\n",
       "      <td>Harmers Hay Road, Hailsham</td>\n",
       "      <td>BN27</td>\n",
       "      <td>2.0</td>\n",
       "    </tr>\n",
       "    <tr>\n",
       "      <th>3</th>\n",
       "      <td>7500000.0</td>\n",
       "      <td>9 bedroom detached house for sale</td>\n",
       "      <td>Marley Common, Haslemere, Surrey, GU27</td>\n",
       "      <td>GU27</td>\n",
       "      <td>9.0</td>\n",
       "    </tr>\n",
       "    <tr>\n",
       "      <th>4</th>\n",
       "      <td>6500000.0</td>\n",
       "      <td>10 bedroom detached house for sale</td>\n",
       "      <td>Selham, Petworth, West Sussex, GU28</td>\n",
       "      <td>GU28</td>\n",
       "      <td>10.0</td>\n",
       "    </tr>\n",
       "    <tr>\n",
       "      <th>5</th>\n",
       "      <td>5950000.0</td>\n",
       "      <td>9 bedroom detached house for sale</td>\n",
       "      <td>Pickwell Lane, Bolney, Haywards Heath, West Su...</td>\n",
       "      <td>RH17</td>\n",
       "      <td>9.0</td>\n",
       "    </tr>\n",
       "    <tr>\n",
       "      <th>7</th>\n",
       "      <td>5950000.0</td>\n",
       "      <td>9 bedroom detached house for sale</td>\n",
       "      <td>Pickwell Lane, Bolney, Haywards Heath, West Su...</td>\n",
       "      <td>RH17</td>\n",
       "      <td>9.0</td>\n",
       "    </tr>\n",
       "    <tr>\n",
       "      <th>...</th>\n",
       "      <td>...</td>\n",
       "      <td>...</td>\n",
       "      <td>...</td>\n",
       "      <td>...</td>\n",
       "      <td>...</td>\n",
       "    </tr>\n",
       "    <tr>\n",
       "      <th>1045</th>\n",
       "      <td>850000.0</td>\n",
       "      <td>5 bedroom barn conversion for sale</td>\n",
       "      <td>Merston, Chichester, West Sussex, PO20</td>\n",
       "      <td>PO20</td>\n",
       "      <td>5.0</td>\n",
       "    </tr>\n",
       "    <tr>\n",
       "      <th>1046</th>\n",
       "      <td>850000.0</td>\n",
       "      <td>3 bedroom character property for sale</td>\n",
       "      <td>St. Marys Road, Shoreham-By-Sea</td>\n",
       "      <td>NaN</td>\n",
       "      <td>3.0</td>\n",
       "    </tr>\n",
       "    <tr>\n",
       "      <th>1047</th>\n",
       "      <td>850000.0</td>\n",
       "      <td>5 bedroom detached bungalow for sale</td>\n",
       "      <td>Glynleigh Road, Hankham, Pevensey</td>\n",
       "      <td>NaN</td>\n",
       "      <td>5.0</td>\n",
       "    </tr>\n",
       "    <tr>\n",
       "      <th>1048</th>\n",
       "      <td>850000.0</td>\n",
       "      <td>4 bedroom house for sale</td>\n",
       "      <td>Guildford Road, Loxwood, Billingshurst</td>\n",
       "      <td>NaN</td>\n",
       "      <td>4.0</td>\n",
       "    </tr>\n",
       "    <tr>\n",
       "      <th>1049</th>\n",
       "      <td>850000.0</td>\n",
       "      <td>5 bedroom detached house for sale</td>\n",
       "      <td>Peace &amp; Plenty, Playden, Rye, East Sussex TN31...</td>\n",
       "      <td>TN31</td>\n",
       "      <td>5.0</td>\n",
       "    </tr>\n",
       "  </tbody>\n",
       "</table>\n",
       "<p>1019 rows × 5 columns</p>\n",
       "</div>"
      ],
      "text/plain": [
       "          price                                   type  \\\n",
       "0      320000.0   2 bedroom detached bungalow for sale   \n",
       "3     7500000.0      9 bedroom detached house for sale   \n",
       "4     6500000.0     10 bedroom detached house for sale   \n",
       "5     5950000.0      9 bedroom detached house for sale   \n",
       "7     5950000.0      9 bedroom detached house for sale   \n",
       "...         ...                                    ...   \n",
       "1045   850000.0     5 bedroom barn conversion for sale   \n",
       "1046   850000.0  3 bedroom character property for sale   \n",
       "1047   850000.0   5 bedroom detached bungalow for sale   \n",
       "1048   850000.0               4 bedroom house for sale   \n",
       "1049   850000.0      5 bedroom detached house for sale   \n",
       "\n",
       "                                                address postcode  \\\n",
       "0                            Harmers Hay Road, Hailsham     BN27   \n",
       "3                Marley Common, Haslemere, Surrey, GU27     GU27   \n",
       "4                   Selham, Petworth, West Sussex, GU28     GU28   \n",
       "5     Pickwell Lane, Bolney, Haywards Heath, West Su...     RH17   \n",
       "7     Pickwell Lane, Bolney, Haywards Heath, West Su...     RH17   \n",
       "...                                                 ...      ...   \n",
       "1045             Merston, Chichester, West Sussex, PO20     PO20   \n",
       "1046                    St. Marys Road, Shoreham-By-Sea      NaN   \n",
       "1047                  Glynleigh Road, Hankham, Pevensey      NaN   \n",
       "1048             Guildford Road, Loxwood, Billingshurst      NaN   \n",
       "1049  Peace & Plenty, Playden, Rye, East Sussex TN31...     TN31   \n",
       "\n",
       "      number_bedrooms  \n",
       "0                 2.0  \n",
       "3                 9.0  \n",
       "4                10.0  \n",
       "5                 9.0  \n",
       "7                 9.0  \n",
       "...               ...  \n",
       "1045              5.0  \n",
       "1046              3.0  \n",
       "1047              5.0  \n",
       "1048              4.0  \n",
       "1049              5.0  \n",
       "\n",
       "[1019 rows x 5 columns]"
      ]
     },
     "execution_count": 46,
     "metadata": {},
     "output_type": "execute_result"
    }
   ],
   "source": [
    "df"
   ]
  },
  {
   "cell_type": "code",
   "execution_count": null,
   "metadata": {},
   "outputs": [],
   "source": [
    "len(df)"
   ]
  },
  {
   "cell_type": "code",
   "execution_count": null,
   "metadata": {},
   "outputs": [],
   "source": [
    "df.describe()"
   ]
  },
  {
   "cell_type": "code",
   "execution_count": null,
   "metadata": {},
   "outputs": [],
   "source": [
    "df.type.unique()"
   ]
  },
  {
   "cell_type": "code",
   "execution_count": null,
   "metadata": {},
   "outputs": [],
   "source": []
  }
 ],
 "metadata": {
  "kernelspec": {
   "display_name": "Python 3",
   "language": "python",
   "name": "python3"
  },
  "language_info": {
   "codemirror_mode": {
    "name": "ipython",
    "version": 3
   },
   "file_extension": ".py",
   "mimetype": "text/x-python",
   "name": "python",
   "nbconvert_exporter": "python",
   "pygments_lexer": "ipython3",
   "version": "3.7.4"
  }
 },
 "nbformat": 4,
 "nbformat_minor": 2
}
